{
 "cells": [
  {
   "cell_type": "markdown",
   "metadata": {},
   "source": [
    "# Numpy库简介"
   ]
  },
  {
   "cell_type": "markdown",
   "metadata": {},
   "source": [
    "**NumPy**是一个功能强大的**Python**库，主要用于对**多维数组**执行计算。NumPy这个词来源于两个单词-- Numerical和Python。NumPy提供了大量的库函数和操作，可以帮助程序员轻松地进行数值计算。在**数据分析和机器学习领域**被广泛使用。他有以下几个特点：\n",
    "* numpy内置了**并行运算**功能，当系统有多个核心时，做某种计算时，numpy会自动做并行计算。\n",
    "\n",
    "\n",
    "* Numpy底层使用**C语言**编写，内部解除了**GIL（全局解释器锁）**，其对数组的操作速度不受Python解释器的限制，**效率远高于纯Python代码**。\n",
    "\n",
    "\n",
    "* 有一个强大的N维数组对象Array（一种类似于列表的东西）:**ndarray**\n",
    "\n",
    "\n",
    "* 实用的线性代数、傅里叶变换和随机数生成函数。\n",
    "\n",
    "总而言之，numpy是一个**非常高效**的用于**处理数值型运算**的包。"
   ]
  },
  {
   "cell_type": "markdown",
   "metadata": {},
   "source": [
    "## Numpy数组和Python列表性能对比：\n",
    "比如我们想要对一个Numpy数组和Python列表中的每个元素进行求和,代码如下："
   ]
  },
  {
   "cell_type": "code",
   "execution_count": 1,
   "metadata": {},
   "outputs": [
    {
     "name": "stdout",
     "output_type": "stream",
     "text": [
      "Python列表所消耗的时间为：0.0459秒\n",
      "numpy方式所消耗的时间为：0.0000秒\n"
     ]
    }
   ],
   "source": [
    "import time\n",
    "import random\n",
    "import numpy as np\n",
    "\n",
    "# Python 列表方式\n",
    "t1 = time.time()\n",
    "a = []\n",
    "for x in range(100000):\n",
    "    a.append(x**2)\n",
    "t2 = time.time()\n",
    "print(\"Python列表所消耗的时间为：{:.4f}秒\".format(t2-t1))\n",
    "\n",
    "# numpy 方式\n",
    "t3 = time.time()\n",
    "b = np.arange(100000)**2\n",
    "t4 = time.time()\n",
    "print(\"numpy方式所消耗的时间为：{:.4f}秒\".format(t4-t3))"
   ]
  },
  {
   "cell_type": "markdown",
   "metadata": {},
   "source": [
    "从中我们看到ndarray的计算速度要快很多，这个简单的例子快了接近于50倍。\n",
    "\n",
    "机器学习的最大特点就是大量的数据运算，那么如果没有一个快速的解决方案，那可能现在python也在机器学习领域达不到好的效果。\n",
    "\n",
    "Numpy专门针对ndarray的操作和运算进行了设计，所以数组的存储效率和输入输出性能远优于Python中的嵌套列表，数组越大，Numpy的优势就越明显。"
   ]
  },
  {
   "cell_type": "markdown",
   "metadata": {},
   "source": [
    "# N维数组ndarray"
   ]
  },
  {
   "cell_type": "markdown",
   "metadata": {},
   "source": [
    "## ndarray的属性\n",
    "| 属性名字 |                  属性解释 |\n",
    "| :-----:| :----: |\n",
    "| **ndarray.shape** | 数组维度的元组 |\n",
    "| ndarray.ndim | 数组维数 |\n",
    "| ndarray.size | 数组中的元素数量 |\n",
    "| ndarray.itemsize | 一个数组元素的长度（字节） |\n",
    "| **ndarray.dtype** | 数组元素的类型 |\n",
    "\n",
    "下面着重介绍一下ndarray的**形状(ndarray.shape)**和**类型(ndarray.dtype)**"
   ]
  },
  {
   "cell_type": "markdown",
   "metadata": {},
   "source": [
    "## ndarray的形状（ndarray.shape）\n",
    "首先创建一些数组。"
   ]
  },
  {
   "cell_type": "code",
   "execution_count": 2,
   "metadata": {},
   "outputs": [],
   "source": [
    "# 创建不同形状的数组\n",
    "a = np.array([[1, 2, 3], [4, 5, 6]])\n",
    "b = np.array([1, 2, 3, 4])\n",
    "c = np.array([[[1, 2, 3], [4, 5, 6]], [[1, 2, 3], [4, 5, 6]]])"
   ]
  },
  {
   "cell_type": "markdown",
   "metadata": {},
   "source": [
    "分别打印出形状"
   ]
  },
  {
   "cell_type": "code",
   "execution_count": 3,
   "metadata": {},
   "outputs": [
    {
     "data": {
      "text/plain": [
       "(2, 3)"
      ]
     },
     "execution_count": 3,
     "metadata": {},
     "output_type": "execute_result"
    }
   ],
   "source": [
    "# 二维数组\n",
    "a.shape"
   ]
  },
  {
   "cell_type": "code",
   "execution_count": 4,
   "metadata": {},
   "outputs": [
    {
     "data": {
      "text/plain": [
       "(4,)"
      ]
     },
     "execution_count": 4,
     "metadata": {},
     "output_type": "execute_result"
    }
   ],
   "source": [
    "# 一维数组\n",
    "b.shape"
   ]
  },
  {
   "cell_type": "code",
   "execution_count": 5,
   "metadata": {},
   "outputs": [
    {
     "data": {
      "text/plain": [
       "(2, 2, 3)"
      ]
     },
     "execution_count": 5,
     "metadata": {},
     "output_type": "execute_result"
    }
   ],
   "source": [
    "# 三维数组\n",
    "c.shape"
   ]
  },
  {
   "cell_type": "markdown",
   "metadata": {},
   "source": [
    "## ndarray的类型\n",
    "\n",
    "| 名称 | 描述 | 简写 |\n",
    "| :-----:| :----: | :----: |\n",
    "| np.bool | 用一个字节存储的布尔类型（True或False） | 'b' |\n",
    "| np.int8 | 一个字节大小，-128 至 127 | 'i1' |\n",
    "| np.int16 | 整数，-32768 至 32767 | 'i2' |\n",
    "| np.int32| 整数，-2^31 至 2^32 -1 | 'i4' |\n",
    "| **np.int64** | 整数，-2^63 至 2^63 - 1 | 'i8' |\n",
    "| np.uint8 | 无符号整数，0 至 255 | 'u1' |\n",
    "| np.uint16 | 无符号整数，0 至 65535 | 'u2' |\n",
    "| np.uint32 | 无符号整数，0 至 2^32 - 1 | 'u4' |\n",
    "| np.uint64 | 无符号整数，0 至 2^64 - 1 | 'u8' |\n",
    "| np.float16 | 半精度浮点数：16位，正负号1位，指数5位，精度10位 | 'f2' |\n",
    "| np.float32 | 单精度浮点数：32位，正负号1位，指数8位，精度23位 | 'f4' |\n",
    "| **np.float64** | 双精度浮点数：64位，正负号1位，指数11位，精度52位 | 'f8' |\n",
    "| np.complex64 | 复数，分别用两个32位浮点数表示实部和虚部 | 'c8' |\n",
    "| np.complex128 | 复数，分别用两个64位浮点数表示实部和虚部 | 'c16' |\n",
    "| np.object_ | python对象 | 'O' |\n",
    "| np.string_ | 字符串 | 'S' |\n",
    "| np.unicode_ | unicode类型 | 'U' |\n",
    "\n",
    "* 注意：若不指定，**整数默认int64**，**小数默认float64**"
   ]
  },
  {
   "cell_type": "markdown",
   "metadata": {},
   "source": [
    "我们可以看到，Numpy中关于数值的类型比Python内置的多得多，这是因为Numpy为了能高效处理处理海量数据而设计的。举个例子，比如现在想要存储上百亿的数字，并且这些数字都不超过254（一个字节内），我们就可以将**dtype设置为int8**，这样就**比默认使用int64更能节省内存空间**了。类型相关的操作如下："
   ]
  },
  {
   "cell_type": "markdown",
   "metadata": {},
   "source": [
    "### 默认的数据类型:"
   ]
  },
  {
   "cell_type": "code",
   "execution_count": 6,
   "metadata": {},
   "outputs": [
    {
     "data": {
      "text/plain": [
       "dtype('int32')"
      ]
     },
     "execution_count": 6,
     "metadata": {},
     "output_type": "execute_result"
    }
   ],
   "source": [
    "# 新建一个数组，展示其默认数据类型\n",
    "a1 = np.array([1, 2, 3])\n",
    "a1.dtype"
   ]
  },
  {
   "cell_type": "markdown",
   "metadata": {},
   "source": [
    "### 指定dtype："
   ]
  },
  {
   "cell_type": "code",
   "execution_count": 7,
   "metadata": {},
   "outputs": [
    {
     "data": {
      "text/plain": [
       "dtype('int64')"
      ]
     },
     "execution_count": 7,
     "metadata": {},
     "output_type": "execute_result"
    }
   ],
   "source": [
    "# 新建一个数组，并指定数据类型\n",
    "a1 = np.array([1, 2, 3], dtype=np.int64)\n",
    "a1.dtype"
   ]
  },
  {
   "cell_type": "markdown",
   "metadata": {},
   "source": [
    "### 修改dtype：ndarray.astype()"
   ]
  },
  {
   "cell_type": "code",
   "execution_count": 8,
   "metadata": {},
   "outputs": [
    {
     "name": "stdout",
     "output_type": "stream",
     "text": [
      "int32\n",
      "int64\n"
     ]
    }
   ],
   "source": [
    "# 新建一个数组，展示其默认数据类型\n",
    "a1 = np.array([1, 2, 3])\n",
    "print(a1.dtype)\n",
    "\n",
    "# 修改数组的数据类型\n",
    "a2 = a1.astype(np.int64)\n",
    "print(a2.dtype)"
   ]
  },
  {
   "cell_type": "markdown",
   "metadata": {},
   "source": [
    "# numpy基本操作"
   ]
  },
  {
   "cell_type": "markdown",
   "metadata": {},
   "source": [
    "## 生成ndarray数组"
   ]
  },
  {
   "cell_type": "markdown",
   "metadata": {},
   "source": [
    "### 生成0和1的数组\n",
    "* **np.ones(shape, dtype)**\n",
    "* np.ones_like(a, dtype)\n",
    "* **np.zeros(shape, dtype)**\n",
    "* np.zeros_like(a, dtype)\n",
    "\n",
    "一般用于初始化参数列表等，深度学习经常使用。\n",
    "\n",
    "举例：生成一个4行8列的全是1的数组"
   ]
  },
  {
   "cell_type": "code",
   "execution_count": 9,
   "metadata": {},
   "outputs": [
    {
     "data": {
      "text/plain": [
       "array([[1., 1., 1., 1., 1., 1., 1., 1.],\n",
       "       [1., 1., 1., 1., 1., 1., 1., 1.],\n",
       "       [1., 1., 1., 1., 1., 1., 1., 1.],\n",
       "       [1., 1., 1., 1., 1., 1., 1., 1.]])"
      ]
     },
     "execution_count": 9,
     "metadata": {},
     "output_type": "execute_result"
    }
   ],
   "source": [
    "# 生成一个4行8列的全是1的数组\n",
    "ones = np.ones([4, 8])\n",
    "ones"
   ]
  },
  {
   "cell_type": "markdown",
   "metadata": {},
   "source": [
    "举例：生成一个和ones形状相同的全0数组"
   ]
  },
  {
   "cell_type": "code",
   "execution_count": 10,
   "metadata": {},
   "outputs": [
    {
     "data": {
      "text/plain": [
       "array([[0., 0., 0., 0., 0., 0., 0., 0.],\n",
       "       [0., 0., 0., 0., 0., 0., 0., 0.],\n",
       "       [0., 0., 0., 0., 0., 0., 0., 0.],\n",
       "       [0., 0., 0., 0., 0., 0., 0., 0.]])"
      ]
     },
     "execution_count": 10,
     "metadata": {},
     "output_type": "execute_result"
    }
   ],
   "source": [
    "# 生成一个和数组ones形状相同的全0数组\n",
    "np.zeros_like(ones)"
   ]
  },
  {
   "cell_type": "markdown",
   "metadata": {},
   "source": [
    "### 从现有数组生成\n",
    "* np.array(object, dtype): 深拷贝\n",
    "* np.asarray(ndarray, dtype)：浅拷贝"
   ]
  },
  {
   "cell_type": "code",
   "execution_count": 11,
   "metadata": {},
   "outputs": [
    {
     "data": {
      "text/plain": [
       "array([[1, 2, 3],\n",
       "       [4, 5, 6]])"
      ]
     },
     "execution_count": 11,
     "metadata": {},
     "output_type": "execute_result"
    }
   ],
   "source": [
    "# 新建一个数组\n",
    "original_array = np.array([[1, 2, 3], [4, 5, 6]])\n",
    "\n",
    "# 深拷贝\n",
    "a1 = np.array(original_array)\n",
    "a1"
   ]
  },
  {
   "cell_type": "code",
   "execution_count": 12,
   "metadata": {},
   "outputs": [
    {
     "data": {
      "text/plain": [
       "array([[1, 2, 3],\n",
       "       [4, 5, 6]])"
      ]
     },
     "execution_count": 12,
     "metadata": {},
     "output_type": "execute_result"
    }
   ],
   "source": [
    "# 浅拷贝\n",
    "a2 = np.asarray(original_array)\n",
    "a2"
   ]
  },
  {
   "cell_type": "markdown",
   "metadata": {},
   "source": [
    "当我们改变原数组的元素时，a1的元素不变，a2的元素跟着改变了"
   ]
  },
  {
   "cell_type": "code",
   "execution_count": 13,
   "metadata": {},
   "outputs": [
    {
     "data": {
      "text/plain": [
       "array([[100,   2,   3],\n",
       "       [  4,   5,   6]])"
      ]
     },
     "execution_count": 13,
     "metadata": {},
     "output_type": "execute_result"
    }
   ],
   "source": [
    "# 我们修改原始数组的值\n",
    "original_array[0, 0] = 100\n",
    "original_array"
   ]
  },
  {
   "cell_type": "code",
   "execution_count": 14,
   "metadata": {},
   "outputs": [
    {
     "data": {
      "text/plain": [
       "array([[1, 2, 3],\n",
       "       [4, 5, 6]])"
      ]
     },
     "execution_count": 14,
     "metadata": {},
     "output_type": "execute_result"
    }
   ],
   "source": [
    "# 检查深拷贝的a1数组里面的值是否发生变化\n",
    "a1"
   ]
  },
  {
   "cell_type": "code",
   "execution_count": 15,
   "metadata": {},
   "outputs": [
    {
     "data": {
      "text/plain": [
       "array([[100,   2,   3],\n",
       "       [  4,   5,   6]])"
      ]
     },
     "execution_count": 15,
     "metadata": {},
     "output_type": "execute_result"
    }
   ],
   "source": [
    "# 检查浅拷贝的a2数组里面的值是否发生变化\n",
    "a2"
   ]
  },
  {
   "cell_type": "markdown",
   "metadata": {},
   "source": [
    "### 生成固定范围的数组\n",
    "* **np.linspace**(start, stop, num, endpoint):等差数列 (指定数量)\n",
    "\n",
    "\n",
    "* **np.arange**(start,stop, step, dtype)：等差数列 (指定步长)\n",
    "\n",
    "\n",
    "* np.logspace(start,stop, num)：等比数列"
   ]
  },
  {
   "cell_type": "markdown",
   "metadata": {},
   "source": [
    "#### np.linspace(start, stop, num, endpoint)\n",
    "* 创建等差数组 — 指定数量\n",
    "* 参数\n",
    "    * start:序列的起始值\n",
    "    * stop:序列的终止值\n",
    "    * num:要生成的等间隔样例数量，默认为50\n",
    "    * endpoint:序列中是否包含stop值，默认为ture"
   ]
  },
  {
   "cell_type": "code",
   "execution_count": 16,
   "metadata": {},
   "outputs": [
    {
     "data": {
      "text/plain": [
       "array([  0.,  10.,  20.,  30.,  40.,  50.,  60.,  70.,  80.,  90., 100.])"
      ]
     },
     "execution_count": 16,
     "metadata": {},
     "output_type": "execute_result"
    }
   ],
   "source": [
    "# 在0-100区间内，生成11个目标的等差数列\n",
    "np.linspace(start=0, stop=100, num=11)"
   ]
  },
  {
   "cell_type": "markdown",
   "metadata": {},
   "source": [
    "#### np.arange(start,stop, step, dtype)\n",
    "* 创建等差数组 — 指定步长\n",
    "* 参数\n",
    "    * step:步长,默认值为1"
   ]
  },
  {
   "cell_type": "code",
   "execution_count": 17,
   "metadata": {},
   "outputs": [
    {
     "data": {
      "text/plain": [
       "array([10, 12, 14, 16, 18, 20, 22, 24, 26, 28, 30, 32, 34, 36, 38, 40, 42,\n",
       "       44, 46, 48])"
      ]
     },
     "execution_count": 17,
     "metadata": {},
     "output_type": "execute_result"
    }
   ],
   "source": [
    "# 在10到50区间内，生成步长为2的等差数列\n",
    "np.arange(start=10, stop=50, step=2)"
   ]
  },
  {
   "cell_type": "markdown",
   "metadata": {},
   "source": [
    "#### np.logspace(start,stop, num,base)\n",
    "* 创建等比数列\n",
    "* 参数:\n",
    "    * num:要生成的等比数列数量，默认为50\n",
    "    * base：底数，默认是10"
   ]
  },
  {
   "cell_type": "code",
   "execution_count": 18,
   "metadata": {},
   "outputs": [
    {
     "data": {
      "text/plain": [
       "array([  1.,  10., 100.])"
      ]
     },
     "execution_count": 18,
     "metadata": {},
     "output_type": "execute_result"
    }
   ],
   "source": [
    "# 生成10^x\n",
    "np.logspace(start=0, stop=2, num=3)"
   ]
  },
  {
   "cell_type": "markdown",
   "metadata": {},
   "source": [
    "### 生成随机数组\n",
    "#### 正态分布\n",
    "* **np.random.randn()**\n",
    "    * 从标准正态分布返回一个或多个样本值\n",
    "    * 标准正态分布：均值为0，标准差为1\n",
    "    \n",
    "    \n",
    "* **np.random.normal(loc,scale,size)**\n",
    "    * 正态分布，需要设置均值和标准差\n",
    "    * loc:均值,默认是0\n",
    "    * scale:标准差，默认是1\n",
    "    * size: 输出的shape"
   ]
  },
  {
   "cell_type": "code",
   "execution_count": 19,
   "metadata": {},
   "outputs": [
    {
     "data": {
      "text/plain": [
       "array([[ 1.06446763, -1.02813635,  1.74733759],\n",
       "       [ 0.63454826,  2.04287714, -0.13775704]])"
      ]
     },
     "execution_count": 19,
     "metadata": {},
     "output_type": "execute_result"
    }
   ],
   "source": [
    "# 生成size为2x3的标准正态分布（均值为0，标准差为1）的样本值\n",
    "np.random.randn(2,3)"
   ]
  },
  {
   "cell_type": "code",
   "execution_count": 20,
   "metadata": {},
   "outputs": [
    {
     "data": {
      "text/plain": [
       "array([[2.42795858, 1.60153493, 0.14265013, 2.33081256],\n",
       "       [1.88111576, 0.83648973, 0.54337176, 0.15295268]])"
      ]
     },
     "execution_count": 20,
     "metadata": {},
     "output_type": "execute_result"
    }
   ],
   "source": [
    "# 生成size为2x4的正态分布（均值为1.75，标准差为1）的样本值\n",
    "np.random.normal(loc=1.75, scale=1, size=(2,4))"
   ]
  },
  {
   "cell_type": "markdown",
   "metadata": {},
   "source": [
    "#### 均匀分布\n",
    "* **np.random.rand()**\n",
    "    * 返回[0-1]内的一组均匀分布的样本值\n",
    "    \n",
    "    \n",
    "* **np.random.randint(low,high=None,size=None)**\n",
    "    * 从一个均匀分布中随机采样，生成一个整数或N维整数数组\n",
    "    * 取数范围：若high不为None时，取[low,high)之间随机整数，否则取值[0,low)之间随机整数。\n",
    "    \n",
    "    \n",
    "* **np.random.uniform(low,high=None,size=None)**\n",
    "    * 从一个均匀分布[low,high)中随机采样，注意定义域是左闭右开，即包含low，不包含high。"
   ]
  },
  {
   "cell_type": "code",
   "execution_count": 21,
   "metadata": {},
   "outputs": [
    {
     "name": "stdout",
     "output_type": "stream",
     "text": [
      "0.5208262800714585\n",
      "[[0.23492313 0.08436998 0.49901548 0.56688652]\n",
      " [0.15187478 0.03135915 0.23361948 0.2672473 ]]\n"
     ]
    }
   ],
   "source": [
    "# 生成0-1之间的符合均匀分布的一个样本值\n",
    "print(np.random.rand())\n",
    "\n",
    "# 生成0-1之间的符合均匀分布的，size为2x4的一组样本值\n",
    "print(np.random.rand(2,4))"
   ]
  },
  {
   "cell_type": "code",
   "execution_count": 22,
   "metadata": {},
   "outputs": [
    {
     "data": {
      "text/plain": [
       "array([[4, 2, 2, 4],\n",
       "       [4, 1, 3, 3]])"
      ]
     },
     "execution_count": 22,
     "metadata": {},
     "output_type": "execute_result"
    }
   ],
   "source": [
    "# 生成[1,5)之间的符合均匀分布的size为2x4的一组整数值\n",
    "np.random.randint(low=1,high=5,size=(2,4))"
   ]
  },
  {
   "cell_type": "code",
   "execution_count": 23,
   "metadata": {},
   "outputs": [
    {
     "data": {
      "text/plain": [
       "array([[2.11187885, 3.4804175 , 1.87944014, 3.07391273],\n",
       "       [4.3806448 , 4.67671679, 2.72036336, 4.97618082]])"
      ]
     },
     "execution_count": 23,
     "metadata": {},
     "output_type": "execute_result"
    }
   ],
   "source": [
    "# 生成[1,5)之间的符合均匀分布的size为2x4的一组样本值\n",
    "np.random.uniform(low=1,high=5,size=(2,4))"
   ]
  },
  {
   "cell_type": "markdown",
   "metadata": {},
   "source": [
    "## 数组的索引和切片\n",
    "一维、二维、三维的数组如何索引？\n",
    "* 一维：直接进行索引,切片（类似于Python列表的索引切片）\n",
    "* 二维：对象[:,:] -- 先行后列\n",
    "* 三维：对象[:,:,:] -- 对应三个维度"
   ]
  },
  {
   "cell_type": "markdown",
   "metadata": {},
   "source": [
    "### 一维举例"
   ]
  },
  {
   "cell_type": "code",
   "execution_count": 24,
   "metadata": {},
   "outputs": [
    {
     "data": {
      "text/plain": [
       "array([0, 1, 2, 3, 4, 5, 6, 7, 8, 9])"
      ]
     },
     "execution_count": 24,
     "metadata": {},
     "output_type": "execute_result"
    }
   ],
   "source": [
    "# 生成一维数组\n",
    "a1 = np.arange(0,10)\n",
    "a1"
   ]
  },
  {
   "cell_type": "code",
   "execution_count": 25,
   "metadata": {},
   "outputs": [
    {
     "data": {
      "text/plain": [
       "2"
      ]
     },
     "execution_count": 25,
     "metadata": {},
     "output_type": "execute_result"
    }
   ],
   "source": [
    "# 索引：想要获取下标为2的元素\n",
    "a1[2]"
   ]
  },
  {
   "cell_type": "code",
   "execution_count": 26,
   "metadata": {},
   "outputs": [
    {
     "data": {
      "text/plain": [
       "array([2, 3, 4, 5])"
      ]
     },
     "execution_count": 26,
     "metadata": {},
     "output_type": "execute_result"
    }
   ],
   "source": [
    "# 切片：想要获取下标为2到5的元素\n",
    "a1[2:6]"
   ]
  },
  {
   "cell_type": "markdown",
   "metadata": {},
   "source": [
    "### 二维举例"
   ]
  },
  {
   "cell_type": "code",
   "execution_count": 27,
   "metadata": {},
   "outputs": [
    {
     "data": {
      "text/plain": [
       "array([[ 0,  1,  2,  3,  4,  5,  6,  7],\n",
       "       [ 8,  9, 10, 11, 12, 13, 14, 15],\n",
       "       [16, 17, 18, 19, 20, 21, 22, 23]])"
      ]
     },
     "execution_count": 27,
     "metadata": {},
     "output_type": "execute_result"
    }
   ],
   "source": [
    "# 生成一个3x8列的二维数组\n",
    "a2 = np.arange(0,24).reshape((3,8))\n",
    "a2"
   ]
  },
  {
   "cell_type": "code",
   "execution_count": 28,
   "metadata": {},
   "outputs": [
    {
     "data": {
      "text/plain": [
       "6"
      ]
     },
     "execution_count": 28,
     "metadata": {},
     "output_type": "execute_result"
    }
   ],
   "source": [
    "# 索引：想要获取第1行的第7个元素\n",
    "a2[0,6]"
   ]
  },
  {
   "cell_type": "code",
   "execution_count": 29,
   "metadata": {},
   "outputs": [
    {
     "data": {
      "text/plain": [
       "array([[ 0,  1,  2,  3,  4,  5],\n",
       "       [ 8,  9, 10, 11, 12, 13],\n",
       "       [16, 17, 18, 19, 20, 21]])"
      ]
     },
     "execution_count": 29,
     "metadata": {},
     "output_type": "execute_result"
    }
   ],
   "source": [
    "# 切片：想要所有行的第0-6列元素\n",
    "a2[:,0:6]"
   ]
  },
  {
   "cell_type": "markdown",
   "metadata": {},
   "source": [
    "### 三维举例"
   ]
  },
  {
   "cell_type": "code",
   "execution_count": 30,
   "metadata": {},
   "outputs": [
    {
     "data": {
      "text/plain": [
       "array([[[ 0,  1,  2,  3],\n",
       "        [ 4,  5,  6,  7],\n",
       "        [ 8,  9, 10, 11]],\n",
       "\n",
       "       [[12, 13, 14, 15],\n",
       "        [16, 17, 18, 19],\n",
       "        [20, 21, 22, 23]]])"
      ]
     },
     "execution_count": 30,
     "metadata": {},
     "output_type": "execute_result"
    }
   ],
   "source": [
    "# 生成一个2x3x4的三维数组\n",
    "a3 = np.arange(0,24).reshape(2,3,4)\n",
    "a3"
   ]
  },
  {
   "cell_type": "code",
   "execution_count": 31,
   "metadata": {},
   "outputs": [
    {
     "data": {
      "text/plain": [
       "0"
      ]
     },
     "execution_count": 31,
     "metadata": {},
     "output_type": "execute_result"
    }
   ],
   "source": [
    "# 索引：想要获取第一个维度的第0行的第0个元素\n",
    "a3[0,0,0]"
   ]
  },
  {
   "cell_type": "code",
   "execution_count": 32,
   "metadata": {},
   "outputs": [
    {
     "data": {
      "text/plain": [
       "array([[0, 1, 2],\n",
       "       [4, 5, 6]])"
      ]
     },
     "execution_count": 32,
     "metadata": {},
     "output_type": "execute_result"
    }
   ],
   "source": [
    "# 切片：想要获取第1个维度的前两行的第0至2列\n",
    "a3[0,:2,:3]"
   ]
  },
  {
   "cell_type": "markdown",
   "metadata": {},
   "source": [
    "## 数组形状修改\n",
    "* **ndarray.reshape(shape, order)**\n",
    "    * reshape是将数组转换成指定的形状，然后返回转换后的结果，对于原数组的形状是不会发生改变的  \n",
    "    \n",
    "    \n",
    "* **ndarray.resize(new_shape)**\n",
    "    * resize是将数组转换成指定的形状，会直接修改数组本身。并不会返回任何值。\n",
    "    \n",
    "    \n",
    "* **ndarray.T**\n",
    "    * 数组的转置"
   ]
  },
  {
   "cell_type": "code",
   "execution_count": 33,
   "metadata": {},
   "outputs": [
    {
     "data": {
      "text/plain": [
       "array([[1, 3, 7, 5],\n",
       "       [7, 4, 2, 0],\n",
       "       [7, 8, 1, 5]])"
      ]
     },
     "execution_count": 33,
     "metadata": {},
     "output_type": "execute_result"
    }
   ],
   "source": [
    "# 新建一个3x4的数组\n",
    "a = np.random.randint(0,10,size=(3,4))\n",
    "a"
   ]
  },
  {
   "cell_type": "code",
   "execution_count": 34,
   "metadata": {},
   "outputs": [
    {
     "name": "stdout",
     "output_type": "stream",
     "text": [
      "转换前的数组:[[1 3 7 5]\n",
      " [7 4 2 0]\n",
      " [7 8 1 5]]\n",
      "转换后的数组:[[1 3 7 5 7 4]\n",
      " [2 0 7 8 1 5]]\n"
     ]
    }
   ],
   "source": [
    "# 使用reshape进行修改数组形状\n",
    "a1 = a.reshape((2,6))\n",
    "print(\"转换前的数组:{}\".format(a))\n",
    "print(\"转换后的数组:{}\".format(a1))"
   ]
  },
  {
   "cell_type": "code",
   "execution_count": 35,
   "metadata": {},
   "outputs": [
    {
     "name": "stdout",
     "output_type": "stream",
     "text": [
      "[[1 3 7 5 7 4]\n",
      " [2 0 7 8 1 5]]\n",
      "None\n"
     ]
    }
   ],
   "source": [
    "# 使用resize进行修改数组形状,直接修改原数组a,没有返回值\n",
    "a.resize((2,6))\n",
    "print(a)\n",
    "print(a.resize((2,6)))"
   ]
  },
  {
   "cell_type": "code",
   "execution_count": 36,
   "metadata": {},
   "outputs": [
    {
     "name": "stdout",
     "output_type": "stream",
     "text": [
      "[[1 3 7 5 7 4]\n",
      " [2 0 7 8 1 5]]\n",
      "[[1 2]\n",
      " [3 0]\n",
      " [7 7]\n",
      " [5 8]\n",
      " [7 1]\n",
      " [4 5]]\n"
     ]
    }
   ],
   "source": [
    "# 使用.T进行数组的转置\n",
    "print(a)\n",
    "print(a.T)"
   ]
  },
  {
   "cell_type": "markdown",
   "metadata": {},
   "source": [
    "## 数组类型修改\n",
    "* **ndarray.astype(type)**\n",
    "    * 修改成指定数组类型\n",
    "    \n",
    "    \n",
    "* **ndarray.tostring([order])**\n",
    "    * 构建一个包含ndarray的原始字节数据的字节字符串"
   ]
  },
  {
   "cell_type": "code",
   "execution_count": 37,
   "metadata": {},
   "outputs": [
    {
     "name": "stdout",
     "output_type": "stream",
     "text": [
      "[[ 0  1  2  3  4  5  6  7]\n",
      " [ 8  9 10 11 12 13 14 15]\n",
      " [16 17 18 19 20 21 22 23]]\n",
      "int32\n"
     ]
    }
   ],
   "source": [
    "# 新建一个数组,检查其dtype\n",
    "a = np.arange(0,24).reshape(3,8)\n",
    "print(a)\n",
    "print(a.dtype)"
   ]
  },
  {
   "cell_type": "code",
   "execution_count": 38,
   "metadata": {},
   "outputs": [
    {
     "data": {
      "text/plain": [
       "array([[ 0,  1,  2,  3,  4,  5,  6,  7],\n",
       "       [ 8,  9, 10, 11, 12, 13, 14, 15],\n",
       "       [16, 17, 18, 19, 20, 21, 22, 23]], dtype=int8)"
      ]
     },
     "execution_count": 38,
     "metadata": {},
     "output_type": "execute_result"
    }
   ],
   "source": [
    "# 更改a的dtype，改为int8\n",
    "a1 = a.astype(np.int8)\n",
    "a1"
   ]
  },
  {
   "cell_type": "code",
   "execution_count": 39,
   "metadata": {},
   "outputs": [
    {
     "data": {
      "text/plain": [
       "b'\\x00\\x00\\x00\\x00\\x01\\x00\\x00\\x00\\x02\\x00\\x00\\x00\\x03\\x00\\x00\\x00\\x04\\x00\\x00\\x00\\x05\\x00\\x00\\x00\\x06\\x00\\x00\\x00\\x07\\x00\\x00\\x00\\x08\\x00\\x00\\x00\\t\\x00\\x00\\x00\\n\\x00\\x00\\x00\\x0b\\x00\\x00\\x00\\x0c\\x00\\x00\\x00\\r\\x00\\x00\\x00\\x0e\\x00\\x00\\x00\\x0f\\x00\\x00\\x00\\x10\\x00\\x00\\x00\\x11\\x00\\x00\\x00\\x12\\x00\\x00\\x00\\x13\\x00\\x00\\x00\\x14\\x00\\x00\\x00\\x15\\x00\\x00\\x00\\x16\\x00\\x00\\x00\\x17\\x00\\x00\\x00'"
      ]
     },
     "execution_count": 39,
     "metadata": {},
     "output_type": "execute_result"
    }
   ],
   "source": [
    "# 构造包含数组中原始数据字节的Python字节\n",
    "a.tostring()"
   ]
  },
  {
   "cell_type": "markdown",
   "metadata": {},
   "source": [
    "## 数组去重\n",
    "* np.unique()"
   ]
  },
  {
   "cell_type": "code",
   "execution_count": 40,
   "metadata": {},
   "outputs": [
    {
     "data": {
      "text/plain": [
       "array([1, 2, 3, 4, 5, 6])"
      ]
     },
     "execution_count": 40,
     "metadata": {},
     "output_type": "execute_result"
    }
   ],
   "source": [
    "# 新建一个由重复元素的数组\n",
    "temp = np.array([[1, 2, 3, 4],[3, 4, 5, 6]])\n",
    "\n",
    "# 检查数组里不重复的元素有哪些\n",
    "np.unique(temp)"
   ]
  },
  {
   "cell_type": "markdown",
   "metadata": {},
   "source": [
    "## 数组间的计算（广播机制）"
   ]
  },
  {
   "cell_type": "markdown",
   "metadata": {},
   "source": [
    "### 广播原则\n",
    "**如果两个数组的后缘维度（trailing dimension，即从末尾开始算起的维度）的轴长度相符或其中一方的长度为1，则认为他们是广播兼容的。广播会在缺失和（或）长度为1的维度上进行。** 看以下案例分析：\n",
    "* shape为(3,8,2)的数组能和(8,3)的数组进行运算吗？\n",
    "    * 分析：不能，因为按照广播原则，从后面往前面数，(3,8,2)和(8,3)中的2和3不相等，所以不能进行运算。 \n",
    "    \n",
    "    \n",
    "* shape为(3,8,2)的数组能和(8,1)的数组进行运算吗？\n",
    "    * 分析：能，因为按照广播原则，从后面往前面数，(3,8,2)和(8,1)中的2和1虽然不相等，但是因为有一方的长度为1，所以能参与运算。\n",
    "    \n",
    "    \n",
    "* shape为(3,1,8)的数组能和(8,1)的数组进行运算吗？\n",
    "    * 分析：能，因为按照广播原则，从后面往前面数，(3,1,4)和(8,1)中的4和1虽然不相等且1和8不相等，但是因为这两项中有一方的长度为1，所以能参与运算。\n"
   ]
  },
  {
   "cell_type": "markdown",
   "metadata": {},
   "source": [
    "### 数组与数的计算\n",
    "在Python列表中，想要对列表中所有的元素都加一个数，要么采用map函数，要么循环整个列表进行操作。但是NumPy因为**广播机制**的原因，**数组可以直接在数组上进行操作**。示例代码如下："
   ]
  },
  {
   "cell_type": "code",
   "execution_count": 41,
   "metadata": {},
   "outputs": [
    {
     "data": {
      "text/plain": [
       "array([0, 1, 2, 3, 4, 5, 6, 7])"
      ]
     },
     "execution_count": 41,
     "metadata": {},
     "output_type": "execute_result"
    }
   ],
   "source": [
    "# 新建一个数组\n",
    "a = np.arange(0,8)\n",
    "a"
   ]
  },
  {
   "cell_type": "code",
   "execution_count": 42,
   "metadata": {},
   "outputs": [
    {
     "data": {
      "text/plain": [
       "array([1, 2, 3, 4, 5, 6, 7, 8])"
      ]
     },
     "execution_count": 42,
     "metadata": {},
     "output_type": "execute_result"
    }
   ],
   "source": [
    "a + 1"
   ]
  },
  {
   "cell_type": "code",
   "execution_count": 43,
   "metadata": {},
   "outputs": [
    {
     "data": {
      "text/plain": [
       "array([ 0,  2,  4,  6,  8, 10, 12, 14])"
      ]
     },
     "execution_count": 43,
     "metadata": {},
     "output_type": "execute_result"
    }
   ],
   "source": [
    "a * 2"
   ]
  },
  {
   "cell_type": "markdown",
   "metadata": {},
   "source": [
    "### 数组与数组的计算\n",
    "根据**广播机制**的定义，不同数组之间的运算需要形状相同（或者其中一个维度为1，这样就会对这个维度进行扩展，使得两个数组形状变得相同）。示例代码如下："
   ]
  },
  {
   "cell_type": "code",
   "execution_count": 44,
   "metadata": {},
   "outputs": [
    {
     "name": "stdout",
     "output_type": "stream",
     "text": [
      "[[[9 5]\n",
      "  [9 1]]\n",
      "\n",
      " [[6 2]\n",
      "  [8 2]]\n",
      "\n",
      " [[8 5]\n",
      "  [6 2]]]\n",
      "[[14]\n",
      " [17]]\n"
     ]
    }
   ],
   "source": [
    "# 新建两个数组\n",
    "a1 = np.random.randint(1,10,size=(3,2,2))\n",
    "a2 = np.random.randint(10,20,size=(2,1))\n",
    "print(a1)\n",
    "print(a2)"
   ]
  },
  {
   "cell_type": "code",
   "execution_count": 45,
   "metadata": {},
   "outputs": [
    {
     "data": {
      "text/plain": [
       "array([[[23, 19],\n",
       "        [26, 18]],\n",
       "\n",
       "       [[20, 16],\n",
       "        [25, 19]],\n",
       "\n",
       "       [[22, 19],\n",
       "        [23, 19]]])"
      ]
     },
     "execution_count": 45,
     "metadata": {},
     "output_type": "execute_result"
    }
   ],
   "source": [
    "# 根据广播机制，是可以进行计算的\n",
    "a1 + a2"
   ]
  },
  {
   "cell_type": "code",
   "execution_count": 46,
   "metadata": {},
   "outputs": [
    {
     "name": "stdout",
     "output_type": "stream",
     "text": [
      "[[[1 8]\n",
      "  [4 4]]\n",
      "\n",
      " [[7 6]\n",
      "  [5 6]]\n",
      "\n",
      " [[9 1]\n",
      "  [4 5]]]\n",
      "[[12]\n",
      " [14]\n",
      " [19]]\n"
     ]
    }
   ],
   "source": [
    "# 新建两个数组\n",
    "a1 = np.random.randint(1,10,size=(3,2,2))\n",
    "a2 = np.random.randint(10,20,size=(3,1))\n",
    "print(a1)\n",
    "print(a2)"
   ]
  },
  {
   "cell_type": "code",
   "execution_count": 47,
   "metadata": {},
   "outputs": [],
   "source": [
    "# 根据广播机制，是不可以进行计算的\n",
    "# a1 + a2"
   ]
  },
  {
   "cell_type": "markdown",
   "metadata": {},
   "source": [
    "### 不同数组的组合\n",
    "如果有多个数组想要组合在一起，也可以通过一些函数来实现。\n",
    "* np.vstack: 将数组按垂直方向进行叠加。数组的列数必须相同才能叠加。\n",
    "\n",
    "\n",
    "* np.hstack:将数组按水平方向进行叠加。数组的行必须相同才能叠加。\n",
    "\n",
    "\n",
    "* **np.concatenate([],axis)**:将两个数组进行叠加，但是具体是按水平方向还是按垂直方向。则要看axis的参数，如果axis=0，那么代表的是往垂直方向（行）叠加，如果axis=1，那么代表的是往水平方向（列）上叠加，如果axis=None，那么会将两个数组组合成一个一维数组。需要注意的是，如果往水平方向上叠加，那么行必须相同，如果是往垂直方向叠加，那么列必须相同。示例代码如下："
   ]
  },
  {
   "cell_type": "code",
   "execution_count": 48,
   "metadata": {},
   "outputs": [],
   "source": [
    "# 新建两个数组\n",
    "a = np.array([[1,2],[3,4]]) # 2x2\n",
    "b = np.array([[5,6]]) # 1x2"
   ]
  },
  {
   "cell_type": "code",
   "execution_count": 49,
   "metadata": {},
   "outputs": [
    {
     "data": {
      "text/plain": [
       "array([[1, 2],\n",
       "       [3, 4],\n",
       "       [5, 6]])"
      ]
     },
     "execution_count": 49,
     "metadata": {},
     "output_type": "execute_result"
    }
   ],
   "source": [
    "# 按行进行叠加\n",
    "np.concatenate((a, b), axis=0)"
   ]
  },
  {
   "cell_type": "code",
   "execution_count": 50,
   "metadata": {},
   "outputs": [
    {
     "data": {
      "text/plain": [
       "array([[1, 2, 5],\n",
       "       [3, 4, 6]])"
      ]
     },
     "execution_count": 50,
     "metadata": {},
     "output_type": "execute_result"
    }
   ],
   "source": [
    "# 按列进行叠加\n",
    "np.concatenate((a, b.T), axis=1)"
   ]
  },
  {
   "cell_type": "code",
   "execution_count": 51,
   "metadata": {},
   "outputs": [
    {
     "data": {
      "text/plain": [
       "array([1, 2, 3, 4, 5, 6])"
      ]
     },
     "execution_count": 51,
     "metadata": {},
     "output_type": "execute_result"
    }
   ],
   "source": [
    "# 不设置axis，组合成一维数组\n",
    "np.concatenate((a, b), axis=None)"
   ]
  },
  {
   "cell_type": "markdown",
   "metadata": {},
   "source": [
    "### 数组的切割\n",
    "通过hsplit和vsplit以及array_split可以将一个数组进行切割。\n",
    "* np.hsplit:按照水平方向进行切割。\n",
    "\n",
    "\n",
    "* np.vsplit:按照垂直方向进行切割。\n",
    "\n",
    "\n",
    "* np.array_split:用于指定切割方式，axis=1代表按照列，axis=0代表按照行。"
   ]
  },
  {
   "cell_type": "markdown",
   "metadata": {},
   "source": [
    "#### np.hsplit\n",
    "按照水平方向进行切割。用于指定**分割成几列**，可以使用数字来代表分成几部分，也可以使用数组来代表分割的地方。示例代码如下："
   ]
  },
  {
   "cell_type": "code",
   "execution_count": 52,
   "metadata": {},
   "outputs": [
    {
     "data": {
      "text/plain": [
       "array([[ 0.,  1.,  2.,  3.],\n",
       "       [ 4.,  5.,  6.,  7.],\n",
       "       [ 8.,  9., 10., 11.],\n",
       "       [12., 13., 14., 15.]])"
      ]
     },
     "execution_count": 52,
     "metadata": {},
     "output_type": "execute_result"
    }
   ],
   "source": [
    "# 新建一个数组\n",
    "a = np.arange(16.0).reshape(4, 4)\n",
    "a"
   ]
  },
  {
   "cell_type": "code",
   "execution_count": 53,
   "metadata": {},
   "outputs": [
    {
     "data": {
      "text/plain": [
       "[array([[ 0.,  1.],\n",
       "        [ 4.,  5.],\n",
       "        [ 8.,  9.],\n",
       "        [12., 13.]]),\n",
       " array([[ 2.,  3.],\n",
       "        [ 6.,  7.],\n",
       "        [10., 11.],\n",
       "        [14., 15.]])]"
      ]
     },
     "execution_count": 53,
     "metadata": {},
     "output_type": "execute_result"
    }
   ],
   "source": [
    "#使用hsplit，分割成两部分\n",
    "np.hsplit(a,2)"
   ]
  },
  {
   "cell_type": "code",
   "execution_count": 54,
   "metadata": {},
   "outputs": [
    {
     "data": {
      "text/plain": [
       "[array([[ 0.],\n",
       "        [ 4.],\n",
       "        [ 8.],\n",
       "        [12.]]),\n",
       " array([[ 1.],\n",
       "        [ 5.],\n",
       "        [ 9.],\n",
       "        [13.]]),\n",
       " array([[ 2.,  3.],\n",
       "        [ 6.,  7.],\n",
       "        [10., 11.],\n",
       "        [14., 15.]])]"
      ]
     },
     "execution_count": 54,
     "metadata": {},
     "output_type": "execute_result"
    }
   ],
   "source": [
    "# #代表在下标为1的地方切一刀，下标为2的地方切一刀，分成三部分\n",
    "np.hsplit(a,[1,2])"
   ]
  },
  {
   "cell_type": "markdown",
   "metadata": {},
   "source": [
    "#### np.vsplit\n",
    "按照垂直方向进行切割。用于指定**分割成几行**，可以使用数字来代表分成几部分，也可以使用数组来代表分割的地方。示例代码如下："
   ]
  },
  {
   "cell_type": "code",
   "execution_count": 55,
   "metadata": {},
   "outputs": [
    {
     "data": {
      "text/plain": [
       "[array([[0., 1., 2., 3.],\n",
       "        [4., 5., 6., 7.]]),\n",
       " array([[ 8.,  9., 10., 11.],\n",
       "        [12., 13., 14., 15.]])]"
      ]
     },
     "execution_count": 55,
     "metadata": {},
     "output_type": "execute_result"
    }
   ],
   "source": [
    "#代表按照行总共分成2个数组\n",
    "np.vsplit(a,2) "
   ]
  },
  {
   "cell_type": "code",
   "execution_count": 56,
   "metadata": {},
   "outputs": [
    {
     "data": {
      "text/plain": [
       "[array([[0., 1., 2., 3.]]),\n",
       " array([[4., 5., 6., 7.]]),\n",
       " array([[ 8.,  9., 10., 11.],\n",
       "        [12., 13., 14., 15.]])]"
      ]
     },
     "execution_count": 56,
     "metadata": {},
     "output_type": "execute_result"
    }
   ],
   "source": [
    "#代表按照行进行划分，在下标为1的地方和下标为2的地方分割\n",
    "np.vsplit(a,(1,2))"
   ]
  },
  {
   "cell_type": "markdown",
   "metadata": {},
   "source": [
    "#### np.array_split\n",
    "用于指定切割方式，在切割的时候需要指定是按照行还是按照列，axis=1代表按照列，axis=0代表按照行。示例代码如下："
   ]
  },
  {
   "cell_type": "code",
   "execution_count": 57,
   "metadata": {},
   "outputs": [
    {
     "data": {
      "text/plain": [
       "[array([[0., 1., 2., 3.],\n",
       "        [4., 5., 6., 7.]]),\n",
       " array([[ 8.,  9., 10., 11.],\n",
       "        [12., 13., 14., 15.]])]"
      ]
     },
     "execution_count": 57,
     "metadata": {},
     "output_type": "execute_result"
    }
   ],
   "source": [
    "#按照垂直方向切割成2部分\n",
    "np.array_split(a,2,axis=0)"
   ]
  },
  {
   "cell_type": "markdown",
   "metadata": {},
   "source": [
    "# ndarray运算"
   ]
  },
  {
   "cell_type": "markdown",
   "metadata": {},
   "source": [
    "## 逻辑运算-布尔索引\n",
    "如果想要操作符合某一条件的数据，应该怎么操作？\n",
    "\n",
    "假设现在有10名同学，5名功课的数据。现在想要筛选出前5名同学成绩小于60的数据，并设置为0分。"
   ]
  },
  {
   "cell_type": "code",
   "execution_count": 58,
   "metadata": {},
   "outputs": [
    {
     "data": {
      "text/plain": [
       "array([[72, 92, 59, 97, 95],\n",
       "       [90, 41, 66, 87, 79],\n",
       "       [72, 82, 67, 66, 94],\n",
       "       [83, 56, 86, 64, 92],\n",
       "       [80, 81, 79, 82, 62],\n",
       "       [87, 87, 90, 69, 66],\n",
       "       [72, 83, 66, 52, 73],\n",
       "       [59, 55, 51, 99, 74],\n",
       "       [41, 60, 44, 40, 44],\n",
       "       [89, 97, 92, 46, 51]])"
      ]
     },
     "execution_count": 58,
     "metadata": {},
     "output_type": "execute_result"
    }
   ],
   "source": [
    "# 生成10名同学5名功课的数据\n",
    "score = np.random.randint(40,100,(10,5))\n",
    "score"
   ]
  },
  {
   "cell_type": "code",
   "execution_count": 59,
   "metadata": {},
   "outputs": [
    {
     "data": {
      "text/plain": [
       "array([[False, False,  True, False, False],\n",
       "       [False,  True, False, False, False],\n",
       "       [False, False, False, False, False],\n",
       "       [False,  True, False, False, False],\n",
       "       [False, False, False, False, False]])"
      ]
     },
     "execution_count": 59,
     "metadata": {},
     "output_type": "execute_result"
    }
   ],
   "source": [
    "# 提取前5名同学的成绩\n",
    "test_score = score[:5,:]\n",
    "\n",
    "# 逻辑判断\n",
    "test_score < 60"
   ]
  },
  {
   "cell_type": "code",
   "execution_count": 60,
   "metadata": {},
   "outputs": [
    {
     "data": {
      "text/plain": [
       "array([[72, 92,  0, 97, 95],\n",
       "       [90,  0, 66, 87, 79],\n",
       "       [72, 82, 67, 66, 94],\n",
       "       [83,  0, 86, 64, 92],\n",
       "       [80, 81, 79, 82, 62]])"
      ]
     },
     "execution_count": 60,
     "metadata": {},
     "output_type": "execute_result"
    }
   ],
   "source": [
    "# 布尔索引：将满足条件的值设置为0\n",
    "test_score[test_score < 60] = 0\n",
    "test_score"
   ]
  },
  {
   "cell_type": "markdown",
   "metadata": {},
   "source": [
    "## 通用判断函数\n",
    "* np.all；验证任何一个元素是否都符合条件\n",
    "* np.any：验证是否有一个元素符合条件"
   ]
  },
  {
   "cell_type": "code",
   "execution_count": 61,
   "metadata": {},
   "outputs": [
    {
     "data": {
      "text/plain": [
       "False"
      ]
     },
     "execution_count": 61,
     "metadata": {},
     "output_type": "execute_result"
    }
   ],
   "source": [
    "# 检验数组score里面的值是否都大于60\n",
    "np.all(score > 60)"
   ]
  },
  {
   "cell_type": "code",
   "execution_count": 62,
   "metadata": {},
   "outputs": [
    {
     "data": {
      "text/plain": [
       "True"
      ]
     },
     "execution_count": 62,
     "metadata": {},
     "output_type": "execute_result"
    }
   ],
   "source": [
    "# 检验数组score里面的值是否有小于60的值\n",
    "np.any(a < 60)"
   ]
  },
  {
   "cell_type": "markdown",
   "metadata": {},
   "source": [
    "## np.where（三元运算符）\n",
    "通过使用np.where能够进行更加复杂的运算\n",
    "* np.where(condition,[x, y])"
   ]
  },
  {
   "cell_type": "code",
   "execution_count": 63,
   "metadata": {},
   "outputs": [
    {
     "data": {
      "text/plain": [
       "array([[72, 92,  0, 97],\n",
       "       [90,  0, 66, 87],\n",
       "       [72, 82, 67, 66],\n",
       "       [83,  0, 86, 64],\n",
       "       [80, 81, 79, 82]])"
      ]
     },
     "execution_count": 63,
     "metadata": {},
     "output_type": "execute_result"
    }
   ],
   "source": [
    "# 判断前5名同学的前4门课程中，成绩中大于60的设为1，否则设为0\n",
    "temp_score = score[:5, :4]\n",
    "temp_score"
   ]
  },
  {
   "cell_type": "code",
   "execution_count": 64,
   "metadata": {},
   "outputs": [
    {
     "data": {
      "text/plain": [
       "array([[1, 1, 0, 1],\n",
       "       [1, 0, 1, 1],\n",
       "       [1, 1, 1, 1],\n",
       "       [1, 0, 1, 1],\n",
       "       [1, 1, 1, 1]])"
      ]
     },
     "execution_count": 64,
     "metadata": {},
     "output_type": "execute_result"
    }
   ],
   "source": [
    "# 成绩中大于60的设为1，否则设为0\n",
    "np.where(temp_score > 60, 1, 0)"
   ]
  },
  {
   "cell_type": "markdown",
   "metadata": {},
   "source": [
    "## 统计运算\n",
    "统计指标也是我们分析问题的一种方式,常见的指标如下：\n",
    "\n",
    "|  函数名称   | 描述  |\n",
    "| :-----:| :----: |\n",
    "| np.min|计算元素的最小值| \n",
    "| np.max|计算元素的最大值|   \n",
    "| np.median|计算元素的中位数|   \n",
    "|np.mean|计算元素的均值|   \n",
    "| np.std|计算元素的标准差|    \n",
    "| np.var|计算元素的方差|\n",
    "| np.sum|计算元素的和|\n",
    "| np.prod|计算元素的积|\n",
    "| np.argmin|找出最小值的索引|\n",
    "| np.argmax|找出最大值的索引|\n",
    "\n",
    "* 注意：里面的参数都有axis指定行或列，详细的axis解释在后文有详细说明，若是在搞不清楚，axis=0或axis=1都试试即可。"
   ]
  },
  {
   "cell_type": "markdown",
   "metadata": {},
   "source": [
    "## 数组排序\n",
    "* np.sort():指定轴进行排序。默认是使用数组的最后一个轴进行排序。\n",
    "\n",
    "\n",
    "* np.argsort():返回排序后的下标值。"
   ]
  },
  {
   "cell_type": "code",
   "execution_count": 65,
   "metadata": {},
   "outputs": [
    {
     "data": {
      "text/plain": [
       "array([[5, 8, 4, 2, 7],\n",
       "       [7, 6, 0, 5, 4],\n",
       "       [8, 0, 8, 8, 6]])"
      ]
     },
     "execution_count": 65,
     "metadata": {},
     "output_type": "execute_result"
    }
   ],
   "source": [
    "# 新建一个数组\n",
    "a = np.random.randint(0,10,size=(3,5))\n",
    "a"
   ]
  },
  {
   "cell_type": "code",
   "execution_count": 66,
   "metadata": {},
   "outputs": [
    {
     "data": {
      "text/plain": [
       "array([[2, 4, 5, 7, 8],\n",
       "       [0, 4, 5, 6, 7],\n",
       "       [0, 6, 8, 8, 8]])"
      ]
     },
     "execution_count": 66,
     "metadata": {},
     "output_type": "execute_result"
    }
   ],
   "source": [
    "# 轴的顺序为[0,1],np.sort默认是按照最后一个轴进行排序\n",
    "# 因为最后一个轴是1，所以就是将最里面的元素进行排序\n",
    "b = np.sort(a)\n",
    "b"
   ]
  },
  {
   "cell_type": "code",
   "execution_count": 67,
   "metadata": {},
   "outputs": [
    {
     "data": {
      "text/plain": [
       "array([[5, 0, 0, 2, 4],\n",
       "       [7, 6, 4, 5, 6],\n",
       "       [8, 8, 8, 8, 7]])"
      ]
     },
     "execution_count": 67,
     "metadata": {},
     "output_type": "execute_result"
    }
   ],
   "source": [
    "# axis=0，表示跨行进行排序，即对每一列的值进行排序\n",
    "c = np.sort(a,axis=0)\n",
    "c"
   ]
  },
  {
   "cell_type": "markdown",
   "metadata": {},
   "source": [
    "# axis理解\n",
    "一般来讲，我们处理的都是二维表，axis=0指的是行，axis=1，指的是列。但其实不是这么简单理解的，下面来说明来解释一下axis轴的概念。\n",
    "\n",
    "简单来说，**axis=0就是跨行进行计算，axis=1就等于跨列进行计算**。下面的举例说明。"
   ]
  },
  {
   "cell_type": "code",
   "execution_count": 68,
   "metadata": {},
   "outputs": [
    {
     "data": {
      "text/plain": [
       "array([[0, 1, 2],\n",
       "       [3, 4, 5]])"
      ]
     },
     "execution_count": 68,
     "metadata": {},
     "output_type": "execute_result"
    }
   ],
   "source": [
    "# 新建一个数组\n",
    "a = np.array([[0,1,2],[3,4,5]])\n",
    "a"
   ]
  },
  {
   "cell_type": "markdown",
   "metadata": {},
   "source": [
    "现在我们想要计算每一行的最小值，就是第一行[0,1,2]的最小值是0，第二行[3,4,5]的最小值为3，我们期望得到的是一个[0,3]这样的数组。\n",
    "\n",
    "这时候axis就应该等于1，表示跨列进行计算，因为[0,1,2]是属于第1列第2列第3列的数字。\n",
    "\n",
    "类似的比如求每行的均值，对每行进行排序，都相当于跨列进行操作，所以axis=1.\n"
   ]
  },
  {
   "cell_type": "code",
   "execution_count": 69,
   "metadata": {},
   "outputs": [
    {
     "data": {
      "text/plain": [
       "array([0, 3])"
      ]
     },
     "execution_count": 69,
     "metadata": {},
     "output_type": "execute_result"
    }
   ],
   "source": [
    "# 计算每行的最小值\n",
    "np.min(a,axis=1)"
   ]
  },
  {
   "cell_type": "markdown",
   "metadata": {},
   "source": [
    "现在我们想要删除第1列的数据,axis应该等于多少呢？\n",
    "\n",
    "axis应该等于1，因为删除相当于是对第2列进行操作"
   ]
  },
  {
   "cell_type": "code",
   "execution_count": 70,
   "metadata": {},
   "outputs": [
    {
     "data": {
      "text/plain": [
       "array([[0, 2],\n",
       "       [3, 5]])"
      ]
     },
     "execution_count": 70,
     "metadata": {},
     "output_type": "execute_result"
    }
   ],
   "source": [
    "# 删除第2列的数据\n",
    "np.delete(a,1,axis=1)"
   ]
  }
 ],
 "metadata": {
  "kernelspec": {
   "display_name": "Python 3",
   "language": "python",
   "name": "python3"
  },
  "language_info": {
   "codemirror_mode": {
    "name": "ipython",
    "version": 3
   },
   "file_extension": ".py",
   "mimetype": "text/x-python",
   "name": "python",
   "nbconvert_exporter": "python",
   "pygments_lexer": "ipython3",
   "version": "3.7.6"
  },
  "toc": {
   "base_numbering": 1,
   "nav_menu": {},
   "number_sections": true,
   "sideBar": true,
   "skip_h1_title": false,
   "title_cell": "Table of Contents",
   "title_sidebar": "Contents",
   "toc_cell": false,
   "toc_position": {
    "height": "calc(100% - 180px)",
    "left": "10px",
    "top": "150px",
    "width": "215px"
   },
   "toc_section_display": true,
   "toc_window_display": true
  }
 },
 "nbformat": 4,
 "nbformat_minor": 4
}
