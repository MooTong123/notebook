{
 "cells": [
  {
   "cell_type": "code",
   "execution_count": 1,
   "metadata": {},
   "outputs": [],
   "source": [
    "import pandas as pd\n",
    "import numpy as np\n",
    "import matplotlib.pyplot as plt"
   ]
  },
  {
   "cell_type": "markdown",
   "metadata": {},
   "source": [
    "# Pandas 缺失值处理\n",
    "\n",
    "在处理大规模数据时，缺失数据是经常发生的。Pandas的目标之一就是尽量轻松地处理缺失数据。例如，pandas的所有描述性统计默认都不包括缺失数据。\n",
    "对于数值数据，pandas使用浮点值NaN（Not a Number）表示缺失数据。\n",
    "\n",
    "* **1 什么是缺失值？**\n",
    "\n",
    "\n",
    "* **2 如何处理缺失值？**\n",
    "\n",
    "\n",
    "* **3 Pandas 缺失值处理案例**\n",
    "    * 3.1 获取缺失值的标记方式\n",
    "    * 3.2 判断是否包含缺失值\n",
    "    * 3.3 处理缺失值"
   ]
  },
  {
   "cell_type": "markdown",
   "metadata": {},
   "source": [
    "## 1 什么是缺失值？\n",
    "\n",
    "缺失值是指原始数据中由于缺少信息而造成的数据的聚类、分组、删失或截断。它指的是现有数据集中某个或某些属性的值是不完全的。\n",
    "\n",
    "缺失值的产生的原因多种多样，主要分为机械原因和人为原因。\n",
    "* 机械原因是由于机械原因导致的数据收集或保存的失败造成的数据缺失，比如数据存储的失败，存储器损坏，机械故障导致某段时间数据未能收集（对于定时数据采集而言）。\n",
    "* 人为原因是由于人的主观失误、历史局限或有意隐瞒造成的数据缺失，比如，在市场调查中被访人拒绝透露相关问题的答案，或者回答的问题是无效的，数据录入人员失误漏录了数据。"
   ]
  },
  {
   "cell_type": "markdown",
   "metadata": {},
   "source": [
    "## 2 如何处理缺失值？\n",
    "\n",
    "主要的步骤分为3步：\n",
    "* 获取缺失值的标记方式并进行处理成NaN\n",
    "* 判断数据中是否包含NaN\n",
    "* 处理NaN格式数据（删除或替换）"
   ]
  },
  {
   "cell_type": "markdown",
   "metadata": {},
   "source": [
    "* 1.获取缺失值的标记方式并进行处理成NaN格式\n",
    "    * 不同数据集标记缺失值的方式可能会有不同\n",
    "        * 通常而言，缺失值会标记为空值（Null或None）：pandas导入会直接标记成NaN\n",
    "        * 有些缺失值会经过人为的标记，比如‘？’等，这时我们需要把‘？’统一替换成NaN，方便后面进行处理：df.replace(to_replace=,value=)\n",
    "            * to_replace:替换前的值\n",
    "            * value:替换后的值\n",
    "* 2. 判断数据中是否包含NaN（常用的方法包含两种）\n",
    "    * 使用df.info()方法查看数据的概览，其中的一列‘Non-Null Count’可以查看非空的数量，观察每一列的数量是否相等。\n",
    "    * 使用pandas的api进行查看\n",
    "        * pd.isnull(df)\n",
    "        * pd.notnull(df)\n",
    "* 3. 处理NaN格式数据（删除或替换）\n",
    "    * 删除NaN：df.dropna(axis='rows')\n",
    "        * 注：不会修改原数据，需要接受返回值\n",
    "    * 替换NaN:df.fillna(value, inplace=True)\n",
    "        * value：替换成的值\n",
    "        * inplace：是否修改原数据\n",
    "            * True:会修改原数据\n",
    "            * False：不修改原数据，生成新的对象，在新的对象上进行替换\n"
   ]
  },
  {
   "cell_type": "markdown",
   "metadata": {},
   "source": [
    "## 3 缺失值处理案例\n",
    "\n",
    "* 接下来我们用一个真实的数据集来演示如何处理缺失值，IMDB电影数据集"
   ]
  },
  {
   "cell_type": "code",
   "execution_count": 2,
   "metadata": {},
   "outputs": [
    {
     "data": {
      "text/html": [
       "<div>\n",
       "<style scoped>\n",
       "    .dataframe tbody tr th:only-of-type {\n",
       "        vertical-align: middle;\n",
       "    }\n",
       "\n",
       "    .dataframe tbody tr th {\n",
       "        vertical-align: top;\n",
       "    }\n",
       "\n",
       "    .dataframe thead th {\n",
       "        text-align: right;\n",
       "    }\n",
       "</style>\n",
       "<table border=\"1\" class=\"dataframe\">\n",
       "  <thead>\n",
       "    <tr style=\"text-align: right;\">\n",
       "      <th></th>\n",
       "      <th>Rank</th>\n",
       "      <th>Title</th>\n",
       "      <th>Genre</th>\n",
       "      <th>Description</th>\n",
       "      <th>Director</th>\n",
       "      <th>Actors</th>\n",
       "      <th>Year</th>\n",
       "      <th>Runtime (Minutes)</th>\n",
       "      <th>Rating</th>\n",
       "      <th>Votes</th>\n",
       "      <th>Revenue (Millions)</th>\n",
       "      <th>Metascore</th>\n",
       "    </tr>\n",
       "  </thead>\n",
       "  <tbody>\n",
       "    <tr>\n",
       "      <th>0</th>\n",
       "      <td>1</td>\n",
       "      <td>Guardians of the Galaxy</td>\n",
       "      <td>Action,Adventure,Sci-Fi</td>\n",
       "      <td>A group of intergalactic criminals are forced ...</td>\n",
       "      <td>James Gunn</td>\n",
       "      <td>Chris Pratt, Vin Diesel, Bradley Cooper, Zoe S...</td>\n",
       "      <td>2014</td>\n",
       "      <td>?</td>\n",
       "      <td>8.1</td>\n",
       "      <td>757074</td>\n",
       "      <td>333.13</td>\n",
       "      <td>76.0</td>\n",
       "    </tr>\n",
       "    <tr>\n",
       "      <th>1</th>\n",
       "      <td>2</td>\n",
       "      <td>Prometheus</td>\n",
       "      <td>Adventure,Mystery,Sci-Fi</td>\n",
       "      <td>Following clues to the origin of mankind, a te...</td>\n",
       "      <td>Ridley Scott</td>\n",
       "      <td>Noomi Rapace, Logan Marshall-Green, Michael Fa...</td>\n",
       "      <td>2012</td>\n",
       "      <td>124</td>\n",
       "      <td>7.0</td>\n",
       "      <td>485820</td>\n",
       "      <td>126.46</td>\n",
       "      <td>65.0</td>\n",
       "    </tr>\n",
       "    <tr>\n",
       "      <th>2</th>\n",
       "      <td>3</td>\n",
       "      <td>Split</td>\n",
       "      <td>Horror,Thriller</td>\n",
       "      <td>Three girls are kidnapped by a man with a diag...</td>\n",
       "      <td>M. Night Shyamalan</td>\n",
       "      <td>James McAvoy, Anya Taylor-Joy, Haley Lu Richar...</td>\n",
       "      <td>2016</td>\n",
       "      <td>117</td>\n",
       "      <td>7.3</td>\n",
       "      <td>157606</td>\n",
       "      <td>138.12</td>\n",
       "      <td>NaN</td>\n",
       "    </tr>\n",
       "    <tr>\n",
       "      <th>3</th>\n",
       "      <td>4</td>\n",
       "      <td>Sing</td>\n",
       "      <td>Animation,Comedy,Family</td>\n",
       "      <td>In a city of humanoid animals, a hustling thea...</td>\n",
       "      <td>Christophe Lourdelet</td>\n",
       "      <td>Matthew McConaughey,Reese Witherspoon, Seth Ma...</td>\n",
       "      <td>2016</td>\n",
       "      <td>108</td>\n",
       "      <td>7.2</td>\n",
       "      <td>60545</td>\n",
       "      <td>270.32</td>\n",
       "      <td>59.0</td>\n",
       "    </tr>\n",
       "    <tr>\n",
       "      <th>4</th>\n",
       "      <td>5</td>\n",
       "      <td>Suicide Squad</td>\n",
       "      <td>Action,Adventure,Fantasy</td>\n",
       "      <td>A secret government agency recruits some of th...</td>\n",
       "      <td>David Ayer</td>\n",
       "      <td>Will Smith, Jared Leto, Margot Robbie, Viola D...</td>\n",
       "      <td>2016</td>\n",
       "      <td>123</td>\n",
       "      <td>6.2</td>\n",
       "      <td>393727</td>\n",
       "      <td>325.02</td>\n",
       "      <td>40.0</td>\n",
       "    </tr>\n",
       "  </tbody>\n",
       "</table>\n",
       "</div>"
      ],
      "text/plain": [
       "   Rank                    Title                     Genre  \\\n",
       "0     1  Guardians of the Galaxy   Action,Adventure,Sci-Fi   \n",
       "1     2               Prometheus  Adventure,Mystery,Sci-Fi   \n",
       "2     3                    Split           Horror,Thriller   \n",
       "3     4                     Sing   Animation,Comedy,Family   \n",
       "4     5            Suicide Squad  Action,Adventure,Fantasy   \n",
       "\n",
       "                                         Description              Director  \\\n",
       "0  A group of intergalactic criminals are forced ...            James Gunn   \n",
       "1  Following clues to the origin of mankind, a te...          Ridley Scott   \n",
       "2  Three girls are kidnapped by a man with a diag...    M. Night Shyamalan   \n",
       "3  In a city of humanoid animals, a hustling thea...  Christophe Lourdelet   \n",
       "4  A secret government agency recruits some of th...            David Ayer   \n",
       "\n",
       "                                              Actors  Year Runtime (Minutes)  \\\n",
       "0  Chris Pratt, Vin Diesel, Bradley Cooper, Zoe S...  2014                 ?   \n",
       "1  Noomi Rapace, Logan Marshall-Green, Michael Fa...  2012               124   \n",
       "2  James McAvoy, Anya Taylor-Joy, Haley Lu Richar...  2016               117   \n",
       "3  Matthew McConaughey,Reese Witherspoon, Seth Ma...  2016               108   \n",
       "4  Will Smith, Jared Leto, Margot Robbie, Viola D...  2016               123   \n",
       "\n",
       "   Rating   Votes  Revenue (Millions)  Metascore  \n",
       "0     8.1  757074              333.13       76.0  \n",
       "1     7.0  485820              126.46       65.0  \n",
       "2     7.3  157606              138.12        NaN  \n",
       "3     7.2   60545              270.32       59.0  \n",
       "4     6.2  393727              325.02       40.0  "
      ]
     },
     "execution_count": 2,
     "metadata": {},
     "output_type": "execute_result"
    }
   ],
   "source": [
    "# 读取电影数据集,默认的encoding读取格式为utf-8会报错，修改编码格式即可\n",
    "movie = pd.read_csv(\"../data/IMDB-Movie-Data.csv\",encoding='gbk')\n",
    "movie.head()"
   ]
  },
  {
   "cell_type": "markdown",
   "metadata": {},
   "source": [
    "### 3.1 获取缺失值的标记方式\n",
    "\n",
    "通常而言，缺失值的标记方式可从数据提供方的说明文档中获取。\n",
    "\n",
    "* 如果没有的话，可以通过观察数据来获取缺失值的标记，比如我们通过观察数据发现第6行的最后一列有一个‘？’，我们就可以认为‘？’也是缺失数据的标记的一种。\n",
    "\n",
    "* 我们也可以通过经验对数据进行分析来判断某一列是否存在其他缺失值的标记方式，下面举例说明。"
   ]
  },
  {
   "cell_type": "code",
   "execution_count": 3,
   "metadata": {},
   "outputs": [
    {
     "name": "stdout",
     "output_type": "stream",
     "text": [
      "<class 'pandas.core.frame.DataFrame'>\n",
      "RangeIndex: 1000 entries, 0 to 999\n",
      "Data columns (total 12 columns):\n",
      " #   Column              Non-Null Count  Dtype  \n",
      "---  ------              --------------  -----  \n",
      " 0   Rank                1000 non-null   int64  \n",
      " 1   Title               1000 non-null   object \n",
      " 2   Genre               1000 non-null   object \n",
      " 3   Description         1000 non-null   object \n",
      " 4   Director            1000 non-null   object \n",
      " 5   Actors              1000 non-null   object \n",
      " 6   Year                1000 non-null   int64  \n",
      " 7   Runtime (Minutes)   1000 non-null   object \n",
      " 8   Rating              1000 non-null   float64\n",
      " 9   Votes               1000 non-null   int64  \n",
      " 10  Revenue (Millions)  872 non-null    float64\n",
      " 11  Metascore           934 non-null    float64\n",
      "dtypes: float64(3), int64(3), object(6)\n",
      "memory usage: 93.9+ KB\n"
     ]
    }
   ],
   "source": [
    "# 我们先查看数据集的概览\n",
    "movie.info()"
   ]
  },
  {
   "cell_type": "markdown",
   "metadata": {},
   "source": [
    "* 我们通过查看数据集的概览可以发现，第7列应该存在问题，因为第7列Runtime（电影的时长）按照经验来说应该是一个int格式，并且包含了1000行（表示没有空值），所以可以粗略判断出该列应该存在一些格式问题，我们查看该列的数据，果然发现第一行存在一个‘？’，所以我们判断‘？’是该数据集缺失值的另一种标记方式，我们使用df.replace()函数进行替换。\n",
    "\n",
    "* 接下来，我们查看第10列和第11列，我们发现Non-Null Count值不是满值1000，表示这两列存在空值（即缺失值），初步的分析就结束了。"
   ]
  },
  {
   "cell_type": "code",
   "execution_count": 4,
   "metadata": {},
   "outputs": [
    {
     "name": "stdout",
     "output_type": "stream",
     "text": [
      "<class 'pandas.core.frame.DataFrame'>\n",
      "RangeIndex: 1000 entries, 0 to 999\n",
      "Data columns (total 12 columns):\n",
      " #   Column              Non-Null Count  Dtype  \n",
      "---  ------              --------------  -----  \n",
      " 0   Rank                1000 non-null   int64  \n",
      " 1   Title               1000 non-null   object \n",
      " 2   Genre               1000 non-null   object \n",
      " 3   Description         1000 non-null   object \n",
      " 4   Director            1000 non-null   object \n",
      " 5   Actors              1000 non-null   object \n",
      " 6   Year                1000 non-null   int64  \n",
      " 7   Runtime (Minutes)   999 non-null    object \n",
      " 8   Rating              1000 non-null   float64\n",
      " 9   Votes               1000 non-null   int64  \n",
      " 10  Revenue (Millions)  872 non-null    float64\n",
      " 11  Metascore           934 non-null    float64\n",
      "dtypes: float64(3), int64(3), object(6)\n",
      "memory usage: 93.9+ KB\n"
     ]
    }
   ],
   "source": [
    "# 替换‘？’变为np.nan\n",
    "movie = movie.replace(to_replace='?',value=np.nan)\n",
    "movie.info()"
   ]
  },
  {
   "cell_type": "markdown",
   "metadata": {},
   "source": [
    "### 3.2 判断是否包含缺失值\n",
    "\n",
    "判断是否包含缺失值通常有两种方法，在上一小节，我们就用了第一种方法来迅速判断数据集中是否包含缺失值。\n",
    "\n",
    "* 使用df.info()方法查看数据的概览，其中的一列‘Non-Null Count’可以查看非空的数量，观察每一列的数量是否相等。\n",
    "* 使用pandas的api进行查看\n",
    "    * pd.isnull(df)\n",
    "    * pd.notnull(df)"
   ]
  },
  {
   "cell_type": "code",
   "execution_count": 5,
   "metadata": {},
   "outputs": [
    {
     "data": {
      "text/plain": [
       "Rank                    0\n",
       "Title                   0\n",
       "Genre                   0\n",
       "Description             0\n",
       "Director                0\n",
       "Actors                  0\n",
       "Year                    0\n",
       "Runtime (Minutes)       1\n",
       "Rating                  0\n",
       "Votes                   0\n",
       "Revenue (Millions)    128\n",
       "Metascore              66\n",
       "dtype: int64"
      ]
     },
     "execution_count": 5,
     "metadata": {},
     "output_type": "execute_result"
    }
   ],
   "source": [
    "# 使用pandas的api来判断是否包含NaN值\n",
    "pd.isnull(movie).sum()"
   ]
  },
  {
   "cell_type": "markdown",
   "metadata": {},
   "source": [
    "### 3.3 处理NaN值\n",
    "通常而言，有两种方式处理缺失值，删除或者替换。\n",
    "* 删除NaN：df.dropna(axis='rows')\n",
    "    * 注：不会修改原数据，需要接受返回值\n",
    "* 替换NaN:df.fillna(value, inplace=True)\n",
    "    * value：替换成的值\n",
    "    * inplace：是否修改原数据\n",
    "        * True:会修改原数据\n",
    "        * False：不修改原数据，生成新的对象，在新的对象上进行替换"
   ]
  },
  {
   "cell_type": "code",
   "execution_count": 6,
   "metadata": {},
   "outputs": [
    {
     "name": "stdout",
     "output_type": "stream",
     "text": [
      "<class 'pandas.core.frame.DataFrame'>\n",
      "Int64Index: 835 entries, 1 to 999\n",
      "Data columns (total 12 columns):\n",
      " #   Column              Non-Null Count  Dtype  \n",
      "---  ------              --------------  -----  \n",
      " 0   Rank                835 non-null    int64  \n",
      " 1   Title               835 non-null    object \n",
      " 2   Genre               835 non-null    object \n",
      " 3   Description         835 non-null    object \n",
      " 4   Director            835 non-null    object \n",
      " 5   Actors              835 non-null    object \n",
      " 6   Year                835 non-null    int64  \n",
      " 7   Runtime (Minutes)   835 non-null    object \n",
      " 8   Rating              835 non-null    float64\n",
      " 9   Votes               835 non-null    int64  \n",
      " 10  Revenue (Millions)  835 non-null    float64\n",
      " 11  Metascore           835 non-null    float64\n",
      "dtypes: float64(3), int64(3), object(6)\n",
      "memory usage: 84.8+ KB\n"
     ]
    }
   ],
   "source": [
    "# 删除NaN值\n",
    "movie_data = movie.dropna()\n",
    "movie_data.info()"
   ]
  },
  {
   "cell_type": "code",
   "execution_count": 7,
   "metadata": {},
   "outputs": [
    {
     "name": "stdout",
     "output_type": "stream",
     "text": [
      "<class 'pandas.core.frame.DataFrame'>\n",
      "RangeIndex: 1000 entries, 0 to 999\n",
      "Data columns (total 12 columns):\n",
      " #   Column              Non-Null Count  Dtype  \n",
      "---  ------              --------------  -----  \n",
      " 0   Rank                1000 non-null   int64  \n",
      " 1   Title               1000 non-null   object \n",
      " 2   Genre               1000 non-null   object \n",
      " 3   Description         1000 non-null   object \n",
      " 4   Director            1000 non-null   object \n",
      " 5   Actors              1000 non-null   object \n",
      " 6   Year                1000 non-null   int64  \n",
      " 7   Runtime (Minutes)   999 non-null    object \n",
      " 8   Rating              1000 non-null   float64\n",
      " 9   Votes               1000 non-null   int64  \n",
      " 10  Revenue (Millions)  1000 non-null   float64\n",
      " 11  Metascore           934 non-null    float64\n",
      "dtypes: float64(3), int64(3), object(6)\n",
      "memory usage: 93.9+ KB\n"
     ]
    }
   ],
   "source": [
    "# 替换缺失值，使用均值进行填充其中一列\n",
    "movie['Revenue (Millions)'].fillna(movie['Revenue (Millions)'].mean(), inplace=True)\n",
    "movie.info()"
   ]
  }
 ],
 "metadata": {
  "kernelspec": {
   "display_name": "Python 3",
   "language": "python",
   "name": "python3"
  },
  "language_info": {
   "codemirror_mode": {
    "name": "ipython",
    "version": 3
   },
   "file_extension": ".py",
   "mimetype": "text/x-python",
   "name": "python",
   "nbconvert_exporter": "python",
   "pygments_lexer": "ipython3",
   "version": "3.7.6"
  },
  "toc": {
   "base_numbering": 1,
   "nav_menu": {},
   "number_sections": false,
   "sideBar": true,
   "skip_h1_title": false,
   "title_cell": "Table of Contents",
   "title_sidebar": "Contents",
   "toc_cell": false,
   "toc_position": {
    "height": "calc(100% - 180px)",
    "left": "10px",
    "top": "150px",
    "width": "295px"
   },
   "toc_section_display": true,
   "toc_window_display": true
  }
 },
 "nbformat": 4,
 "nbformat_minor": 4
}
