{
 "cells": [
  {
   "cell_type": "markdown",
   "metadata": {
    "toc": true
   },
   "source": [
    "<h1>Pandas 数据离散化<span class=\"tocSkip\"></span></h1>\n",
    "<div class=\"toc\"><ul class=\"toc-item\"><li><span><a href=\"#Pandas-数据离散化\" data-toc-modified-id=\"Pandas-数据离散化-1\">Pandas 数据离散化</a></span><ul class=\"toc-item\"><li><span><a href=\"#1-什么是数据的离散化\" data-toc-modified-id=\"1-什么是数据的离散化-1.1\">1 什么是数据的离散化</a></span></li><li><span><a href=\"#2-Pandas-实现数据分组\" data-toc-modified-id=\"2-Pandas-实现数据分组-1.2\">2 Pandas 实现数据分组</a></span></li><li><span><a href=\"#3-Pandas-实现one-hot编码\" data-toc-modified-id=\"3-Pandas-实现one-hot编码-1.3\">3 Pandas 实现one-hot编码</a></span></li></ul></li></ul></div>"
   ]
  },
  {
   "cell_type": "code",
   "execution_count": 1,
   "metadata": {},
   "outputs": [],
   "source": [
    "import pandas as pd\n",
    "import numpy as np\n",
    "import matplotlib.pyplot as plt"
   ]
  },
  {
   "cell_type": "markdown",
   "metadata": {},
   "source": [
    "# Pandas 数据离散化\n",
    "\n",
    "连续属性离散化的目的是为了简化数据结构，数据离散化技术可以用来减少给定连续属性值的个数。离散化方法经常作为数据挖掘的工具。\n",
    "\n",
    "* **1 什么是数据离散化？**\n",
    "\n",
    "\n",
    "* **2 Pandas实现数据分组**\n",
    "    * pd.cut()\n",
    "    * pd.qcut()\n",
    "    \n",
    "    \n",
    "* **3 Pandas实现One-hot编码**\n",
    "    * pd.get_dummies()"
   ]
  },
  {
   "cell_type": "markdown",
   "metadata": {},
   "source": [
    "## 1 什么是数据的离散化\n",
    "\n",
    "**连续属性的离散化就是在连续属性的值域上，将值域划分为若干个离散的区间，最后用不同的符号或整数 值代表落在每个子区间中的属性值。**\n",
    "\n",
    "离散化有很多种方法，这使用一种最简单的方式去操作\n",
    "\n",
    "* 原始人的身高数据：165，174，160，180，159，163，192，184\n",
    "* 假设按照身高分几个区间段：150-165, 165-180,180-195\n",
    "\n",
    "这样我们将数据分到了三个区间段，我可以对应的标记为矮、中、高三个类别，最终要处理成一个\"哑变量\"矩阵"
   ]
  },
  {
   "cell_type": "markdown",
   "metadata": {},
   "source": [
    "## 2 Pandas 实现数据分组\n",
    "\n",
    "cut函数是按照数据的值进行分割，而qcut函数则是根据数据本身的数量来对数据进行分割\n",
    "\n",
    "* pd.cut(data,bins)\n",
    "    * bins：整数或者分组区间\n",
    "        * 整数：分成几份，并使每组值的范围大致相等\n",
    "        * 分组区间：比如，[-100, -3, 0, 3, 100]\n",
    "\n",
    "\n",
    "* pd.qcut(data,q)\n",
    "    * q: 整数或者分位数列表\n",
    "        * 整数：表示分为q份，并且尽量保证每个分组里变量的个数相同\n",
    "        * 分位数列表：比如[0,0.25,0.75，1]\n",
    "        \n",
    "* 注意：经常与value_counts()搭配使用，统计每组的个数\n",
    "\n",
    "下面用股票数据进行演示："
   ]
  },
  {
   "cell_type": "code",
   "execution_count": 2,
   "metadata": {},
   "outputs": [
    {
     "data": {
      "text/plain": [
       "2018-02-27    2.68\n",
       "2018-02-26    3.02\n",
       "2018-02-23    2.42\n",
       "2018-02-22    1.64\n",
       "2018-02-14    2.05\n",
       "              ... \n",
       "2015-03-06    8.51\n",
       "2015-03-05    2.02\n",
       "2015-03-04    1.57\n",
       "2015-03-03    1.44\n",
       "2015-03-02    2.62\n",
       "Name: p_change, Length: 643, dtype: float64"
      ]
     },
     "execution_count": 2,
     "metadata": {},
     "output_type": "execute_result"
    }
   ],
   "source": [
    "# 导入股票数据\n",
    "stock_data = pd.read_csv('../data/stock_day.csv')\n",
    "\n",
    "# 筛选出p_change数据\n",
    "p_change = stock_data['p_change']\n",
    "p_change"
   ]
  },
  {
   "cell_type": "code",
   "execution_count": 3,
   "metadata": {},
   "outputs": [
    {
     "data": {
      "text/plain": [
       "count    643.000000\n",
       "mean       0.190280\n",
       "std        4.079698\n",
       "min      -10.030000\n",
       "25%       -1.850000\n",
       "50%        0.260000\n",
       "75%        2.305000\n",
       "max       10.030000\n",
       "Name: p_change, dtype: float64"
      ]
     },
     "execution_count": 3,
     "metadata": {},
     "output_type": "execute_result"
    }
   ],
   "source": [
    "p_change.describe()"
   ]
  },
  {
   "cell_type": "code",
   "execution_count": 4,
   "metadata": {},
   "outputs": [
    {
     "data": {
      "text/plain": [
       "(0, 3]       215\n",
       "(-3, 0]      188\n",
       "(3, 5]        57\n",
       "(-5, -3]      51\n",
       "(7, 11]       35\n",
       "(5, 7]        35\n",
       "(-11, -7]     34\n",
       "(-7, -5]      28\n",
       "Name: p_change, dtype: int64"
      ]
     },
     "execution_count": 4,
     "metadata": {},
     "output_type": "execute_result"
    }
   ],
   "source": [
    "# 自己指定分组区间，进行分组\n",
    "bins = [-11, -7, -5, -3, 0, 3, 5, 7, 11]\n",
    "p_counts = pd.cut(p_change, bins)\n",
    "\n",
    "# 查看每个区间变量的个数\n",
    "p_counts.value_counts()"
   ]
  },
  {
   "cell_type": "code",
   "execution_count": 5,
   "metadata": {},
   "outputs": [
    {
     "data": {
      "text/plain": [
       "(5.27, 10.03]                    65\n",
       "(0.26, 0.94]                     65\n",
       "(-0.462, 0.26]                   65\n",
       "(-10.030999999999999, -4.836]    65\n",
       "(2.938, 5.27]                    64\n",
       "(1.738, 2.938]                   64\n",
       "(-1.352, -0.462]                 64\n",
       "(-2.444, -1.352]                 64\n",
       "(-4.836, -2.444]                 64\n",
       "(0.94, 1.738]                    63\n",
       "Name: p_change, dtype: int64"
      ]
     },
     "execution_count": 5,
     "metadata": {},
     "output_type": "execute_result"
    }
   ],
   "source": [
    "# 使用qcut进行分组,分成10组，保证每组变量的个数大致相等\n",
    "q_counts = pd.qcut(p_change, 10)\n",
    "q_counts.value_counts()"
   ]
  },
  {
   "cell_type": "markdown",
   "metadata": {},
   "source": [
    "## 3 Pandas 实现one-hot编码\n",
    "\n",
    "* **什么是one-hot编码？**\n",
    "    \n",
    "把每个类别生成一个布尔列，这些列中只有一列可以为这个样本取值为1.其又被称为独热编码（One-Hot Encoding）。\n",
    "\n",
    "* 为什么要使用one-hot编码？\n",
    "\n",
    "使用one-hot编码后，离散特征会通过one-hot编码映射到欧式空间，会让特征之间的距离计算更加合理。因为在回归，分类，聚类等机器学习算法中，特征之间距离的计算或相似度的计算是非常重要的，而我们常用的距离或相似度的计算都是在欧式空间的相似度计算。\n",
    "\n",
    "* pandas.get_dummies(data, prefix=None)\n",
    "    * data:array-like, Series, or DataFrame\n",
    "    * prefix:分组名字\n",
    "\n",
    "下面举例说明："
   ]
  },
  {
   "cell_type": "code",
   "execution_count": 6,
   "metadata": {},
   "outputs": [
    {
     "data": {
      "text/plain": [
       "0    北京\n",
       "1    上海\n",
       "2    深圳\n",
       "3    广州\n",
       "4    北京\n",
       "dtype: object"
      ]
     },
     "execution_count": 6,
     "metadata": {},
     "output_type": "execute_result"
    }
   ],
   "source": [
    "# 新建一个类别型数据，包含城市名\n",
    "cities = pd.Series(['北京', '上海', '深圳', '广州', '北京'])\n",
    "cities"
   ]
  },
  {
   "cell_type": "code",
   "execution_count": 7,
   "metadata": {},
   "outputs": [
    {
     "data": {
      "text/html": [
       "<div>\n",
       "<style scoped>\n",
       "    .dataframe tbody tr th:only-of-type {\n",
       "        vertical-align: middle;\n",
       "    }\n",
       "\n",
       "    .dataframe tbody tr th {\n",
       "        vertical-align: top;\n",
       "    }\n",
       "\n",
       "    .dataframe thead th {\n",
       "        text-align: right;\n",
       "    }\n",
       "</style>\n",
       "<table border=\"1\" class=\"dataframe\">\n",
       "  <thead>\n",
       "    <tr style=\"text-align: right;\">\n",
       "      <th></th>\n",
       "      <th>city_上海</th>\n",
       "      <th>city_北京</th>\n",
       "      <th>city_广州</th>\n",
       "      <th>city_深圳</th>\n",
       "    </tr>\n",
       "  </thead>\n",
       "  <tbody>\n",
       "    <tr>\n",
       "      <th>0</th>\n",
       "      <td>0</td>\n",
       "      <td>1</td>\n",
       "      <td>0</td>\n",
       "      <td>0</td>\n",
       "    </tr>\n",
       "    <tr>\n",
       "      <th>1</th>\n",
       "      <td>1</td>\n",
       "      <td>0</td>\n",
       "      <td>0</td>\n",
       "      <td>0</td>\n",
       "    </tr>\n",
       "    <tr>\n",
       "      <th>2</th>\n",
       "      <td>0</td>\n",
       "      <td>0</td>\n",
       "      <td>0</td>\n",
       "      <td>1</td>\n",
       "    </tr>\n",
       "    <tr>\n",
       "      <th>3</th>\n",
       "      <td>0</td>\n",
       "      <td>0</td>\n",
       "      <td>1</td>\n",
       "      <td>0</td>\n",
       "    </tr>\n",
       "    <tr>\n",
       "      <th>4</th>\n",
       "      <td>0</td>\n",
       "      <td>1</td>\n",
       "      <td>0</td>\n",
       "      <td>0</td>\n",
       "    </tr>\n",
       "  </tbody>\n",
       "</table>\n",
       "</div>"
      ],
      "text/plain": [
       "   city_上海  city_北京  city_广州  city_深圳\n",
       "0        0        1        0        0\n",
       "1        1        0        0        0\n",
       "2        0        0        0        1\n",
       "3        0        0        1        0\n",
       "4        0        1        0        0"
      ]
     },
     "execution_count": 7,
     "metadata": {},
     "output_type": "execute_result"
    }
   ],
   "source": [
    "# 得出One-Hot编码矩阵\n",
    "dummies = pd.get_dummies(cities, prefix='city')\n",
    "dummies"
   ]
  },
  {
   "cell_type": "markdown",
   "metadata": {},
   "source": [
    "城市的One-Hot编码如下：\n",
    "* 上海：1000\n",
    "* 北京：0100\n",
    "* 广州：0010\n",
    "* 深圳：0001"
   ]
  },
  {
   "cell_type": "markdown",
   "metadata": {},
   "source": [
    "* One-Hot编码优缺点：\n",
    "    * 优点：独热编码解决了分类器不好处理属性数据的问题，在一定程度上也起到了扩充特征的作用。它的值只有0和1，不同的类型存储在垂直的空间。\n",
    "    * 缺点：当类别的数量很多时，特征空间会变得非常大。在这种情况下，一般可以用PCA来减少维度。而且one hot encoding+PCA这种组合在实际中也非常有用。"
   ]
  }
 ],
 "metadata": {
  "kernelspec": {
   "display_name": "Python 3 (ipykernel)",
   "language": "python",
   "name": "python3"
  },
  "language_info": {
   "codemirror_mode": {
    "name": "ipython",
    "version": 3
   },
   "file_extension": ".py",
   "mimetype": "text/x-python",
   "name": "python",
   "nbconvert_exporter": "python",
   "pygments_lexer": "ipython3",
   "version": "3.7.12"
  },
  "toc": {
   "base_numbering": 1,
   "nav_menu": {},
   "number_sections": false,
   "sideBar": true,
   "skip_h1_title": false,
   "title_cell": "Pandas 数据离散化",
   "title_sidebar": "Contents",
   "toc_cell": true,
   "toc_position": {
    "height": "calc(100% - 180px)",
    "left": "10px",
    "top": "150px",
    "width": "295px"
   },
   "toc_section_display": true,
   "toc_window_display": true
  }
 },
 "nbformat": 4,
 "nbformat_minor": 4
}
