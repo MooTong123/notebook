{
 "cells": [
  {
   "cell_type": "code",
   "execution_count": 1,
   "metadata": {},
   "outputs": [],
   "source": [
    "import pandas as pd\n",
    "import numpy as np\n",
    "import matplotlib.pyplot as plt"
   ]
  },
  {
   "cell_type": "markdown",
   "metadata": {},
   "source": [
    "# Pandas 文本处理\n",
    "\n",
    "Pandas的文本类型一般为 **object**, 文本的操作主要是通过 **访问器str** 来实现的，功能十分强大，但使用前也需要注意以下几点：\n",
    "\n",
    "1. 访问器只能对 **Series数据结构** 使用。 除了常规列变量 df.col 以外，也可以对索引类型 df.Index 和 df.columns 使用\n",
    "2. 确保访问的对象类型是字符串 str 类型。 如果不是需要先 **astype(str)** 转换类型，否则会报错\n",
    "3. 访问器可以多个连接使用。 如 **df.col.str.lower().str.upper()**，这个和 Dataframe 中的一行操作是一个原理\n",
    "\n",
    "接下来介绍文本处理各种操作，共8个场景：\n",
    "\n",
    "**1 文本格式**\n",
    "* 大小写变换：Series.str.lower()等\n",
    "* 格式判断：Series.str.isalpha()等\n",
    "* 对齐：Series.str.center()等\n",
    "* 计数和编码：Series.str.count()等\n",
    "\n",
    "**2 文本拆分**\n",
    "* Series.str.split()\n",
    "\n",
    "**3 文本替换**\n",
    "* 常用替换：Series.str.replace()\n",
    "* 切片替换：Series.str.slice_replace()\n",
    "* 重复替换：Series.str.repeat()   \n",
    "\n",
    "**4 文本拼接**\n",
    "* Series.str.cat()    \n",
    "\n",
    "**5 文本提取**\n",
    "* Series.str.extract()   \n",
    "\n",
    "**6 文本查询**\n",
    "* Series.str.find()\n",
    "* Series.str.findall()   \n",
    "\n",
    "**7 文本包含**\n",
    "* Series.str.contains()    \n",
    "    \n",
    "**8 文本的哑变量**\n",
    "* Series.str.get_dummieis()\n",
    "* 或者 pd.get_dummies(Series)"
   ]
  },
  {
   "cell_type": "code",
   "execution_count": 2,
   "metadata": {},
   "outputs": [
    {
     "data": {
      "text/html": [
       "<div>\n",
       "<style scoped>\n",
       "    .dataframe tbody tr th:only-of-type {\n",
       "        vertical-align: middle;\n",
       "    }\n",
       "\n",
       "    .dataframe tbody tr th {\n",
       "        vertical-align: top;\n",
       "    }\n",
       "\n",
       "    .dataframe thead th {\n",
       "        text-align: right;\n",
       "    }\n",
       "</style>\n",
       "<table border=\"1\" class=\"dataframe\">\n",
       "  <thead>\n",
       "    <tr style=\"text-align: right;\">\n",
       "      <th></th>\n",
       "      <th>name</th>\n",
       "      <th>Age</th>\n",
       "      <th>level</th>\n",
       "      <th>Email</th>\n",
       "    </tr>\n",
       "  </thead>\n",
       "  <tbody>\n",
       "    <tr>\n",
       "      <th>0</th>\n",
       "      <td>jordon</td>\n",
       "      <td>18</td>\n",
       "      <td>high</td>\n",
       "      <td>jordon@sohu.com</td>\n",
       "    </tr>\n",
       "    <tr>\n",
       "      <th>1</th>\n",
       "      <td>MIKE</td>\n",
       "      <td>30</td>\n",
       "      <td>Low</td>\n",
       "      <td>Mike@126.cn</td>\n",
       "    </tr>\n",
       "    <tr>\n",
       "      <th>2</th>\n",
       "      <td>Kelvin</td>\n",
       "      <td>45</td>\n",
       "      <td>M</td>\n",
       "      <td>KelvinChai@gmail.com</td>\n",
       "    </tr>\n",
       "    <tr>\n",
       "      <th>3</th>\n",
       "      <td>xiaoLi</td>\n",
       "      <td>23</td>\n",
       "      <td>L</td>\n",
       "      <td>xiaoli@163.com</td>\n",
       "    </tr>\n",
       "    <tr>\n",
       "      <th>4</th>\n",
       "      <td>qiqi</td>\n",
       "      <td>45</td>\n",
       "      <td>middle</td>\n",
       "      <td>NaN</td>\n",
       "    </tr>\n",
       "    <tr>\n",
       "      <th>5</th>\n",
       "      <td>Amei</td>\n",
       "      <td>62</td>\n",
       "      <td>NaN</td>\n",
       "      <td>amei@qq.com</td>\n",
       "    </tr>\n",
       "  </tbody>\n",
       "</table>\n",
       "</div>"
      ],
      "text/plain": [
       "     name  Age   level                 Email\n",
       "0  jordon   18    high       jordon@sohu.com\n",
       "1    MIKE   30     Low           Mike@126.cn\n",
       "2  Kelvin   45       M  KelvinChai@gmail.com\n",
       "3  xiaoLi   23       L        xiaoli@163.com\n",
       "4    qiqi   45  middle                   NaN\n",
       "5    Amei   62     NaN           amei@qq.com"
      ]
     },
     "execution_count": 2,
     "metadata": {},
     "output_type": "execute_result"
    }
   ],
   "source": [
    "# 构建一份数据，用于Pandas的文本处理演示\n",
    "df = pd.DataFrame({'name':['jordon', 'MIKE', 'Kelvin', 'xiaoLi', 'qiqi','Amei'],\n",
    "                   'Age':[18, 30, 45, 23, 45, 62],\n",
    "                   'level':['high','Low','M','L','middle',np.nan],\n",
    "                   'Email':['jordon@sohu.com','Mike@126.cn','KelvinChai@gmail.com','xiaoli@163.com',np.nan,'amei@qq.com']})\n",
    "df"
   ]
  },
  {
   "cell_type": "markdown",
   "metadata": {},
   "source": [
    "## 1 文本格式\n",
    "\n",
    "* 大小写变换：Series.str.lower()等\n",
    "* 格式判断：Series.str.isalpha()等\n",
    "* 对齐： Series.str.center()等\n",
    "* 计数和编码：Series.str.count()等"
   ]
  },
  {
   "cell_type": "markdown",
   "metadata": {},
   "source": [
    "### 1.1 大小写变换\n",
    "* Series.str.lower()：字符全部变成小写\n",
    "* Series.str.upper()：字符全部变成大写\n",
    "* Series.str.title()：每个单词的首字母大写\n",
    "* Series.str.capitalize()：字符串第一个字母大写\n",
    "* Series.str.swapcase()：大小写字母转换"
   ]
  },
  {
   "cell_type": "code",
   "execution_count": 3,
   "metadata": {},
   "outputs": [
    {
     "data": {
      "text/plain": [
       "Index(['name', 'age', 'level', 'email'], dtype='object')"
      ]
     },
     "execution_count": 3,
     "metadata": {},
     "output_type": "execute_result"
    }
   ],
   "source": [
    "# 将所有列的名字变成小写\n",
    "df.columns.str.lower()"
   ]
  },
  {
   "cell_type": "markdown",
   "metadata": {},
   "source": [
    "### 1.2 格式判断\n",
    "\n",
    "下面均为判断操作，返回值为布尔值。\n",
    "* Series.str.isalpha() : 是否都为字母\n",
    "* Series.str.isnumeric() : 是否都为数字0-9\n",
    "* Series.str.isalnum() : 是否由字母和数字组成\n",
    "* Series.str.isupper() : 是否为大写\n",
    "* Series.str.islower() : 是否为小写\n",
    "* Series.str.isdigit() : 是否为数字"
   ]
  },
  {
   "cell_type": "code",
   "execution_count": 4,
   "metadata": {},
   "outputs": [
    {
     "data": {
      "text/plain": [
       "0     True\n",
       "1    False\n",
       "2    False\n",
       "3     True\n",
       "4      NaN\n",
       "5     True\n",
       "Name: Email, dtype: object"
      ]
     },
     "execution_count": 4,
     "metadata": {},
     "output_type": "execute_result"
    }
   ],
   "source": [
    "# 检测邮箱列是否为小写\n",
    "df['Email'].str.islower()"
   ]
  },
  {
   "cell_type": "markdown",
   "metadata": {},
   "source": [
    "### 1.3 对齐\n",
    "\n",
    "* Series.str.center(8, fillchar='*')\n",
    "    * 居中对齐，宽度为8，其余用 '*’ 填充\n",
    "    \n",
    "    \n",
    "* Series.str.ljust(8, fillchar='*')\n",
    "    * 左对齐，宽度为8，其余用 '*' 填充\n",
    "    \n",
    "    \n",
    "* Series.str.rjust(8, fillchar='*')\n",
    "    * 右对齐，宽度为8，其余用 '*’填充\n",
    "    \n",
    "    \n",
    "* Series.str.pad(width=8, side='both',fillchar='*')\n",
    "    * 自定义对齐方式，参数可调整宽度、对齐方向、填充字符"
   ]
  },
  {
   "cell_type": "code",
   "execution_count": 5,
   "metadata": {},
   "outputs": [
    {
     "data": {
      "text/plain": [
       "0    *jordon*\n",
       "1    **MIKE**\n",
       "2    *Kelvin*\n",
       "3    *xiaoLi*\n",
       "4    **qiqi**\n",
       "5    **Amei**\n",
       "Name: name, dtype: object"
      ]
     },
     "execution_count": 5,
     "metadata": {},
     "output_type": "execute_result"
    }
   ],
   "source": [
    "# 使得名字列居中对齐\n",
    "df['name'].str.center(8, fillchar='*')"
   ]
  },
  {
   "cell_type": "markdown",
   "metadata": {},
   "source": [
    "### 1.4 计数和编码\n",
    "\n",
    "* Series.str.count('b')\n",
    "    * 字符串中，指定字母‘b’的数量\n",
    "    \n",
    "    \n",
    "* Series.str.len() \n",
    "    * 字符串长度\n",
    "    \n",
    "    \n",
    "* Series.str.encode('utf-8') \n",
    "    * 字符编码\n",
    "    \n",
    "    \n",
    "* Series.str.decode('utf-8') \n",
    "    * 字符解码"
   ]
  },
  {
   "cell_type": "code",
   "execution_count": 6,
   "metadata": {},
   "outputs": [
    {
     "data": {
      "text/plain": [
       "0    4.0\n",
       "1    0.0\n",
       "2    1.0\n",
       "3    2.0\n",
       "4    NaN\n",
       "5    1.0\n",
       "Name: Email, dtype: float64"
      ]
     },
     "execution_count": 6,
     "metadata": {},
     "output_type": "execute_result"
    }
   ],
   "source": [
    "# 检测邮箱出现字母'o'的数量\n",
    "df['Email'].str.count('o')"
   ]
  },
  {
   "cell_type": "markdown",
   "metadata": {},
   "source": [
    "## 2 文本拆分\n",
    "\n",
    "Series.str.split: 可以某个指定的字符作为分割点拆分文本。\n",
    "* expand: 可以让拆分的内容展开，形成单独的列"
   ]
  },
  {
   "cell_type": "code",
   "execution_count": 7,
   "metadata": {},
   "outputs": [
    {
     "data": {
      "text/plain": [
       "0         [jordon, sohu.com]\n",
       "1             [Mike, 126.cn]\n",
       "2    [KelvinChai, gmail.com]\n",
       "3          [xiaoli, 163.com]\n",
       "4                        NaN\n",
       "5             [amei, qq.com]\n",
       "Name: Email, dtype: object"
      ]
     },
     "execution_count": 7,
     "metadata": {},
     "output_type": "execute_result"
    }
   ],
   "source": [
    "# 将 ‘email’变量按照 ‘@’进行拆分\n",
    "df['Email'].str.split('@')"
   ]
  },
  {
   "cell_type": "code",
   "execution_count": 8,
   "metadata": {},
   "outputs": [
    {
     "data": {
      "text/html": [
       "<div>\n",
       "<style scoped>\n",
       "    .dataframe tbody tr th:only-of-type {\n",
       "        vertical-align: middle;\n",
       "    }\n",
       "\n",
       "    .dataframe tbody tr th {\n",
       "        vertical-align: top;\n",
       "    }\n",
       "\n",
       "    .dataframe thead th {\n",
       "        text-align: right;\n",
       "    }\n",
       "</style>\n",
       "<table border=\"1\" class=\"dataframe\">\n",
       "  <thead>\n",
       "    <tr style=\"text-align: right;\">\n",
       "      <th></th>\n",
       "      <th>0</th>\n",
       "      <th>1</th>\n",
       "    </tr>\n",
       "  </thead>\n",
       "  <tbody>\n",
       "    <tr>\n",
       "      <th>0</th>\n",
       "      <td>jordon</td>\n",
       "      <td>sohu.com</td>\n",
       "    </tr>\n",
       "    <tr>\n",
       "      <th>1</th>\n",
       "      <td>Mike</td>\n",
       "      <td>126.cn</td>\n",
       "    </tr>\n",
       "    <tr>\n",
       "      <th>2</th>\n",
       "      <td>KelvinChai</td>\n",
       "      <td>gmail.com</td>\n",
       "    </tr>\n",
       "    <tr>\n",
       "      <th>3</th>\n",
       "      <td>xiaoli</td>\n",
       "      <td>163.com</td>\n",
       "    </tr>\n",
       "    <tr>\n",
       "      <th>4</th>\n",
       "      <td>NaN</td>\n",
       "      <td>NaN</td>\n",
       "    </tr>\n",
       "    <tr>\n",
       "      <th>5</th>\n",
       "      <td>amei</td>\n",
       "      <td>qq.com</td>\n",
       "    </tr>\n",
       "  </tbody>\n",
       "</table>\n",
       "</div>"
      ],
      "text/plain": [
       "            0          1\n",
       "0      jordon   sohu.com\n",
       "1        Mike     126.cn\n",
       "2  KelvinChai  gmail.com\n",
       "3      xiaoli    163.com\n",
       "4         NaN        NaN\n",
       "5        amei     qq.com"
      ]
     },
     "execution_count": 8,
     "metadata": {},
     "output_type": "execute_result"
    }
   ],
   "source": [
    "# expand可以将拆分的内容扩展成单独一列\n",
    "df['Email'].str.split('@',expand=True)"
   ]
  },
  {
   "cell_type": "code",
   "execution_count": 9,
   "metadata": {},
   "outputs": [
    {
     "data": {
      "text/html": [
       "<div>\n",
       "<style scoped>\n",
       "    .dataframe tbody tr th:only-of-type {\n",
       "        vertical-align: middle;\n",
       "    }\n",
       "\n",
       "    .dataframe tbody tr th {\n",
       "        vertical-align: top;\n",
       "    }\n",
       "\n",
       "    .dataframe thead th {\n",
       "        text-align: right;\n",
       "    }\n",
       "</style>\n",
       "<table border=\"1\" class=\"dataframe\">\n",
       "  <thead>\n",
       "    <tr style=\"text-align: right;\">\n",
       "      <th></th>\n",
       "      <th>0</th>\n",
       "      <th>1</th>\n",
       "      <th>2</th>\n",
       "    </tr>\n",
       "  </thead>\n",
       "  <tbody>\n",
       "    <tr>\n",
       "      <th>0</th>\n",
       "      <td>jordon</td>\n",
       "      <td>sohu</td>\n",
       "      <td>com</td>\n",
       "    </tr>\n",
       "    <tr>\n",
       "      <th>1</th>\n",
       "      <td>Mike</td>\n",
       "      <td>126</td>\n",
       "      <td>cn</td>\n",
       "    </tr>\n",
       "    <tr>\n",
       "      <th>2</th>\n",
       "      <td>KelvinChai</td>\n",
       "      <td>gmail</td>\n",
       "      <td>com</td>\n",
       "    </tr>\n",
       "    <tr>\n",
       "      <th>3</th>\n",
       "      <td>xiaoli</td>\n",
       "      <td>163</td>\n",
       "      <td>com</td>\n",
       "    </tr>\n",
       "    <tr>\n",
       "      <th>4</th>\n",
       "      <td>NaN</td>\n",
       "      <td>NaN</td>\n",
       "      <td>NaN</td>\n",
       "    </tr>\n",
       "    <tr>\n",
       "      <th>5</th>\n",
       "      <td>amei</td>\n",
       "      <td>qq</td>\n",
       "      <td>com</td>\n",
       "    </tr>\n",
       "  </tbody>\n",
       "</table>\n",
       "</div>"
      ],
      "text/plain": [
       "            0      1    2\n",
       "0      jordon   sohu  com\n",
       "1        Mike    126   cn\n",
       "2  KelvinChai  gmail  com\n",
       "3      xiaoli    163  com\n",
       "4         NaN    NaN  NaN\n",
       "5        amei     qq  com"
      ]
     },
     "execution_count": 9,
     "metadata": {},
     "output_type": "execute_result"
    }
   ],
   "source": [
    "# 更复杂的可以借助正则表达式，比如根据 '@'和 '.' 进行拆分\n",
    "df['Email'].str.split('\\@|\\.',expand=True)"
   ]
  },
  {
   "cell_type": "markdown",
   "metadata": {},
   "source": [
    "## 3 文本替换\n",
    "\n",
    "* 常用替换：Series.str.replace()\n",
    "* 切片替换：Series.str.slice_replace()\n",
    "* 重复替换：Series.str.repeat()"
   ]
  },
  {
   "cell_type": "markdown",
   "metadata": {},
   "source": [
    "### 3.1 replace替换\n",
    "\n",
    "replace方法是最常用的替换方法，参数如下：\n",
    "* pal：原字符串，也可以为正则表达式\n",
    "* repl：新内容字符串，也可以是一个被调用的函数\n",
    "* regex：用于设置是否支持正则，默认是True\n"
   ]
  },
  {
   "cell_type": "code",
   "execution_count": 10,
   "metadata": {},
   "outputs": [
    {
     "data": {
      "text/plain": [
       "0         jordon@sohu.cn\n",
       "1            Mike@126.cn\n",
       "2    KelvinChai@gmail.cn\n",
       "3          xiaoli@163.cn\n",
       "4                    NaN\n",
       "5             amei@qq.cn\n",
       "Name: Email, dtype: object"
      ]
     },
     "execution_count": 10,
     "metadata": {},
     "output_type": "execute_result"
    }
   ],
   "source": [
    "# 将email种的com都替换为cn\n",
    "df['Email'].str.replace('com','cn')"
   ]
  },
  {
   "cell_type": "markdown",
   "metadata": {},
   "source": [
    "* 更复杂一点的，比如将旧内容写成正则表达式"
   ]
  },
  {
   "cell_type": "code",
   "execution_count": 11,
   "metadata": {},
   "outputs": [
    {
     "data": {
      "text/plain": [
       "0     xxx@sohu.com\n",
       "1       xxx@126.cn\n",
       "2    xxx@gmail.com\n",
       "3      xxx@163.com\n",
       "4              NaN\n",
       "5       xxx@qq.com\n",
       "Name: Email, dtype: object"
      ]
     },
     "execution_count": 11,
     "metadata": {},
     "output_type": "execute_result"
    }
   ],
   "source": [
    "# 将 @ 之前的名字都替换成xxx\n",
    "df['Email'].str.replace(\"(.*?)@\",\"xxx@\")"
   ]
  },
  {
   "cell_type": "markdown",
   "metadata": {},
   "source": [
    "* 或者将新内容写成被调用的函数"
   ]
  },
  {
   "cell_type": "code",
   "execution_count": 12,
   "metadata": {},
   "outputs": [
    {
     "data": {
      "text/plain": [
       "0         JORDON@sohu.com\n",
       "1             MIKE@126.cn\n",
       "2    KELVINCHAI@gmail.com\n",
       "3          XIAOLI@163.com\n",
       "4                     NaN\n",
       "5             AMEI@qq.com\n",
       "Name: Email, dtype: object"
      ]
     },
     "execution_count": 12,
     "metadata": {},
     "output_type": "execute_result"
    }
   ],
   "source": [
    "# 将正则匹配到的内容进行大写操作\n",
    "df.Email.str.replace(\"(.*?)@\", lambda x:x.group().upper())"
   ]
  },
  {
   "cell_type": "markdown",
   "metadata": {},
   "source": [
    "### 3.2 切片替换\n",
    "\n",
    "Series.str.slice_replace(): 通过切片的方式实现替换，通过切片可以保留或者删除指定的字符，参数如下:\n",
    "\n",
    "* start：起始位置\n",
    "* stop：结束位置\n",
    "* repl：要替换用的新内容\n",
    "\n",
    "对 start 切片位置之后和 stop 切片位置之前进行替换，如果没有设置 stop，那么 start 之后全部进行替换，同理如果没设置 start ，那么 stop 之前全部进行替换。"
   ]
  },
  {
   "cell_type": "code",
   "execution_count": 13,
   "metadata": {},
   "outputs": [
    {
     "data": {
      "text/plain": [
       "0         XXXrdon@sohu.com\n",
       "1             XXXke@126.cn\n",
       "2    XXXlvinChai@gmail.com\n",
       "3          XXXaoli@163.com\n",
       "4                      NaN\n",
       "5             XXXei@qq.com\n",
       "Name: Email, dtype: object"
      ]
     },
     "execution_count": 13,
     "metadata": {},
     "output_type": "execute_result"
    }
   ],
   "source": [
    "# 将第0位到底2位的字符替换成 'XXX'\n",
    "df['Email'].str.slice_replace(start=0,stop=2,repl='XXX')"
   ]
  },
  {
   "cell_type": "markdown",
   "metadata": {},
   "source": [
    "### 3.3 重复替换\n",
    "Series.str.repeat(): 实现重复替换的功能\n",
    "* repeats：设置重复的次数"
   ]
  },
  {
   "cell_type": "code",
   "execution_count": 14,
   "metadata": {},
   "outputs": [
    {
     "data": {
      "text/plain": [
       "0    jordonjordon\n",
       "1        MIKEMIKE\n",
       "2    KelvinKelvin\n",
       "3    xiaoLixiaoLi\n",
       "4        qiqiqiqi\n",
       "5        AmeiAmei\n",
       "Name: name, dtype: object"
      ]
     },
     "execution_count": 14,
     "metadata": {},
     "output_type": "execute_result"
    }
   ],
   "source": [
    "# 将‘name’列的内容重复2次\n",
    "df['name'].str.repeat(repeats=2)"
   ]
  },
  {
   "cell_type": "markdown",
   "metadata": {},
   "source": [
    "## 4 文本拼接\n",
    "\n",
    "Series.str.cat(): 实现文本拼接\n",
    "* others: 需要拼接的序列，如果为None不设置，就会自动把当前序列拼接为一个字符串\n",
    "* sep: 拼接用的分隔符\n",
    "* na_rep: 默认不对空值处理，这里设置空值的替换字符。\n",
    "* join: 拼接的方向，包括left, right, outer, inner，默认为left"
   ]
  },
  {
   "cell_type": "markdown",
   "metadata": {},
   "source": [
    "### 4.1 将单个序列拼接为一个完整字符串\n",
    "\n",
    "如上所述，当没有设置ohters参数时，该方法会将当前序列合并为一个新的字符串。"
   ]
  },
  {
   "cell_type": "code",
   "execution_count": 15,
   "metadata": {},
   "outputs": [
    {
     "data": {
      "text/plain": [
       "'highLowMLmiddle'"
      ]
     },
     "execution_count": 15,
     "metadata": {},
     "output_type": "execute_result"
    }
   ],
   "source": [
    "# 把‘level’列的值进行拼接\n",
    "df['level'].str.cat()"
   ]
  },
  {
   "cell_type": "code",
   "execution_count": 16,
   "metadata": {},
   "outputs": [
    {
     "data": {
      "text/plain": [
       "'high-Low-M-L-middle'"
      ]
     },
     "execution_count": 16,
     "metadata": {},
     "output_type": "execute_result"
    }
   ],
   "source": [
    "# 设置 'sep' 分隔符\n",
    "df['level'].str.cat(sep= '-')"
   ]
  },
  {
   "cell_type": "code",
   "execution_count": 17,
   "metadata": {},
   "outputs": [
    {
     "data": {
      "text/plain": [
       "'high-Low-M-L-middle-*'"
      ]
     },
     "execution_count": 17,
     "metadata": {},
     "output_type": "execute_result"
    }
   ],
   "source": [
    "# 将缺失值赋值为`*`\n",
    "df['level'].str.cat(sep= '-', na_rep='*')"
   ]
  },
  {
   "cell_type": "markdown",
   "metadata": {},
   "source": [
    "### 4.2 拼接多个序列为新的序列"
   ]
  },
  {
   "cell_type": "code",
   "execution_count": 18,
   "metadata": {},
   "outputs": [
    {
     "data": {
      "text/plain": [
       "0    jordon*high\n",
       "1       MIKE*Low\n",
       "2       Kelvin*M\n",
       "3       xiaoLi*L\n",
       "4    qiqi*middle\n",
       "5            NaN\n",
       "Name: name, dtype: object"
      ]
     },
     "execution_count": 18,
     "metadata": {},
     "output_type": "execute_result"
    }
   ],
   "source": [
    "# 下面先将name列和*列拼接，再将level列拼接，形成一个新的序列\n",
    "df['name'].str.cat(['*'] * 6).str.cat(df['level'])"
   ]
  },
  {
   "cell_type": "code",
   "execution_count": 19,
   "metadata": {},
   "outputs": [
    {
     "data": {
      "text/plain": [
       "0      jordon-high-jordon@sohu.com\n",
       "1             MIKE-Low-Mike@126.cn\n",
       "2    Kelvin-M-KelvinChai@gmail.com\n",
       "3          xiaoLi-L-xiaoli@163.com\n",
       "4                    qiqi-middle-?\n",
       "5               Amei-?-amei@qq.com\n",
       "Name: name, dtype: object"
      ]
     },
     "execution_count": 19,
     "metadata": {},
     "output_type": "execute_result"
    }
   ],
   "source": [
    "# 也可以直接多列拼接\n",
    "df['name'].str.cat([df['level'],df['Email']],na_rep='?',sep= '-')"
   ]
  },
  {
   "cell_type": "markdown",
   "metadata": {},
   "source": [
    "## 5 文本提取\n",
    "\n",
    "Series.str.extract(): 实现文本提取\n",
    "* pat : 通过正则表达式实现一个提取的pattern\n",
    "* flags : 正则库re中的标识，比如re.IGNORECASE\n",
    "* expand : 当正则只提取一个内容时，如果expand=True会展开返回一个DataFrame，否则返回一个Series"
   ]
  },
  {
   "cell_type": "code",
   "execution_count": 20,
   "metadata": {},
   "outputs": [
    {
     "data": {
      "text/html": [
       "<div>\n",
       "<style scoped>\n",
       "    .dataframe tbody tr th:only-of-type {\n",
       "        vertical-align: middle;\n",
       "    }\n",
       "\n",
       "    .dataframe tbody tr th {\n",
       "        vertical-align: top;\n",
       "    }\n",
       "\n",
       "    .dataframe thead th {\n",
       "        text-align: right;\n",
       "    }\n",
       "</style>\n",
       "<table border=\"1\" class=\"dataframe\">\n",
       "  <thead>\n",
       "    <tr style=\"text-align: right;\">\n",
       "      <th></th>\n",
       "      <th>0</th>\n",
       "      <th>1</th>\n",
       "    </tr>\n",
       "  </thead>\n",
       "  <tbody>\n",
       "    <tr>\n",
       "      <th>0</th>\n",
       "      <td>jordon</td>\n",
       "      <td>sohu</td>\n",
       "    </tr>\n",
       "    <tr>\n",
       "      <th>1</th>\n",
       "      <td>NaN</td>\n",
       "      <td>NaN</td>\n",
       "    </tr>\n",
       "    <tr>\n",
       "      <th>2</th>\n",
       "      <td>KelvinChai</td>\n",
       "      <td>gmail</td>\n",
       "    </tr>\n",
       "    <tr>\n",
       "      <th>3</th>\n",
       "      <td>xiaoli</td>\n",
       "      <td>163</td>\n",
       "    </tr>\n",
       "    <tr>\n",
       "      <th>4</th>\n",
       "      <td>NaN</td>\n",
       "      <td>NaN</td>\n",
       "    </tr>\n",
       "    <tr>\n",
       "      <th>5</th>\n",
       "      <td>amei</td>\n",
       "      <td>qq</td>\n",
       "    </tr>\n",
       "  </tbody>\n",
       "</table>\n",
       "</div>"
      ],
      "text/plain": [
       "            0      1\n",
       "0      jordon   sohu\n",
       "1         NaN    NaN\n",
       "2  KelvinChai  gmail\n",
       "3      xiaoli    163\n",
       "4         NaN    NaN\n",
       "5        amei     qq"
      ]
     },
     "execution_count": 20,
     "metadata": {},
     "output_type": "execute_result"
    }
   ],
   "source": [
    "# 提取email中的两个内容\n",
    "df['Email'].str.extract(pat='(.*?)@(.*).com')"
   ]
  },
  {
   "cell_type": "markdown",
   "metadata": {},
   "source": [
    "## 6 文本查询\n",
    "\n",
    "通过 find 和 findall 两个方法实现。\n",
    "\n",
    "1. find 参数很简单，直接输入要查询的字符串即可，返回在原字符串中的位置，没查询到结果返回-1。\n",
    "\n",
    "\n",
    "2. findall参数：\n",
    "    * pat: 要查找的内容，支持正则表达式\n",
    "    * flag: 正则库re中的标识，比如 re.IGNORECASE\n",
    "\n",
    "findall 和 find 的区别是支持正则表达式，并返回具体内容。这个方法有点类似 extract ，也可以用于提取，但不如 extract 方便。"
   ]
  },
  {
   "cell_type": "code",
   "execution_count": 21,
   "metadata": {},
   "outputs": [
    {
     "data": {
      "text/html": [
       "<div>\n",
       "<style scoped>\n",
       "    .dataframe tbody tr th:only-of-type {\n",
       "        vertical-align: middle;\n",
       "    }\n",
       "\n",
       "    .dataframe tbody tr th {\n",
       "        vertical-align: top;\n",
       "    }\n",
       "\n",
       "    .dataframe thead th {\n",
       "        text-align: right;\n",
       "    }\n",
       "</style>\n",
       "<table border=\"1\" class=\"dataframe\">\n",
       "  <thead>\n",
       "    <tr style=\"text-align: right;\">\n",
       "      <th></th>\n",
       "      <th>Email</th>\n",
       "      <th>@position</th>\n",
       "    </tr>\n",
       "  </thead>\n",
       "  <tbody>\n",
       "    <tr>\n",
       "      <th>0</th>\n",
       "      <td>jordon@sohu.com</td>\n",
       "      <td>6.0</td>\n",
       "    </tr>\n",
       "    <tr>\n",
       "      <th>1</th>\n",
       "      <td>Mike@126.cn</td>\n",
       "      <td>4.0</td>\n",
       "    </tr>\n",
       "    <tr>\n",
       "      <th>2</th>\n",
       "      <td>KelvinChai@gmail.com</td>\n",
       "      <td>10.0</td>\n",
       "    </tr>\n",
       "    <tr>\n",
       "      <th>3</th>\n",
       "      <td>xiaoli@163.com</td>\n",
       "      <td>6.0</td>\n",
       "    </tr>\n",
       "    <tr>\n",
       "      <th>4</th>\n",
       "      <td>NaN</td>\n",
       "      <td>NaN</td>\n",
       "    </tr>\n",
       "    <tr>\n",
       "      <th>5</th>\n",
       "      <td>amei@qq.com</td>\n",
       "      <td>4.0</td>\n",
       "    </tr>\n",
       "  </tbody>\n",
       "</table>\n",
       "</div>"
      ],
      "text/plain": [
       "                  Email  @position\n",
       "0       jordon@sohu.com        6.0\n",
       "1           Mike@126.cn        4.0\n",
       "2  KelvinChai@gmail.com       10.0\n",
       "3        xiaoli@163.com        6.0\n",
       "4                   NaN        NaN\n",
       "5           amei@qq.com        4.0"
      ]
     },
     "execution_count": 21,
     "metadata": {},
     "output_type": "execute_result"
    }
   ],
   "source": [
    "# 在数据中加一列，显示 ‘@’的位置\n",
    "df['@position'] = df['Email'].str.find('@')\n",
    "df[['Email','@position']]"
   ]
  },
  {
   "cell_type": "code",
   "execution_count": 22,
   "metadata": {},
   "outputs": [
    {
     "data": {
      "text/plain": [
       "0         [(jordon, sohu)]\n",
       "1                       []\n",
       "2    [(KelvinChai, gmail)]\n",
       "3          [(xiaoli, 163)]\n",
       "4                      NaN\n",
       "5             [(amei, qq)]\n",
       "Name: Email, dtype: object"
      ]
     },
     "execution_count": 22,
     "metadata": {},
     "output_type": "execute_result"
    }
   ],
   "source": [
    "# 使用正则表达式查找内容\n",
    "df['Email'].str.findall(\"(.*?)@(.*).com\")"
   ]
  },
  {
   "cell_type": "markdown",
   "metadata": {},
   "source": [
    "## 7 文本包含\n",
    "\n",
    "Series.str.contains(): 实现文本包含功能，返回布尔值，一般和loc查询功能配合使用，参数：\n",
    "\n",
    "* pat: 匹配字符串，支持正则表达式\n",
    "* case: 是否区分大小写，True表示区别\n",
    "* flags: 正则库re中的标识，比如re.IGNORECASE\n",
    "* na: 对缺失值填充\n",
    "* regex: 是否支持正则，默认True支持"
   ]
  },
  {
   "cell_type": "code",
   "execution_count": 23,
   "metadata": {},
   "outputs": [
    {
     "data": {
      "text/plain": [
       "0     True\n",
       "1    False\n",
       "2     True\n",
       "3     True\n",
       "4        *\n",
       "5     True\n",
       "Name: Email, dtype: object"
      ]
     },
     "execution_count": 23,
     "metadata": {},
     "output_type": "execute_result"
    }
   ],
   "source": [
    "# 判断‘Email’列是否包含‘com’\n",
    "df['Email'].str.contains('com',na='*')"
   ]
  },
  {
   "cell_type": "code",
   "execution_count": 24,
   "metadata": {},
   "outputs": [
    {
     "data": {
      "text/html": [
       "<div>\n",
       "<style scoped>\n",
       "    .dataframe tbody tr th:only-of-type {\n",
       "        vertical-align: middle;\n",
       "    }\n",
       "\n",
       "    .dataframe tbody tr th {\n",
       "        vertical-align: top;\n",
       "    }\n",
       "\n",
       "    .dataframe thead th {\n",
       "        text-align: right;\n",
       "    }\n",
       "</style>\n",
       "<table border=\"1\" class=\"dataframe\">\n",
       "  <thead>\n",
       "    <tr style=\"text-align: right;\">\n",
       "      <th></th>\n",
       "      <th>name</th>\n",
       "      <th>Age</th>\n",
       "      <th>level</th>\n",
       "      <th>Email</th>\n",
       "      <th>@position</th>\n",
       "    </tr>\n",
       "  </thead>\n",
       "  <tbody>\n",
       "    <tr>\n",
       "      <th>0</th>\n",
       "      <td>jordon</td>\n",
       "      <td>18</td>\n",
       "      <td>high</td>\n",
       "      <td>jordon@sohu.com</td>\n",
       "      <td>6.0</td>\n",
       "    </tr>\n",
       "    <tr>\n",
       "      <th>2</th>\n",
       "      <td>Kelvin</td>\n",
       "      <td>45</td>\n",
       "      <td>M</td>\n",
       "      <td>KelvinChai@gmail.com</td>\n",
       "      <td>10.0</td>\n",
       "    </tr>\n",
       "    <tr>\n",
       "      <th>3</th>\n",
       "      <td>xiaoLi</td>\n",
       "      <td>23</td>\n",
       "      <td>L</td>\n",
       "      <td>xiaoli@163.com</td>\n",
       "      <td>6.0</td>\n",
       "    </tr>\n",
       "    <tr>\n",
       "      <th>5</th>\n",
       "      <td>Amei</td>\n",
       "      <td>62</td>\n",
       "      <td>NaN</td>\n",
       "      <td>amei@qq.com</td>\n",
       "      <td>4.0</td>\n",
       "    </tr>\n",
       "  </tbody>\n",
       "</table>\n",
       "</div>"
      ],
      "text/plain": [
       "     name  Age level                 Email  @position\n",
       "0  jordon   18  high       jordon@sohu.com        6.0\n",
       "2  Kelvin   45     M  KelvinChai@gmail.com       10.0\n",
       "3  xiaoLi   23     L        xiaoli@163.com        6.0\n",
       "5    Amei   62   NaN           amei@qq.com        4.0"
      ]
     },
     "execution_count": 24,
     "metadata": {},
     "output_type": "execute_result"
    }
   ],
   "source": [
    "# 筛选出‘Email’列中包含‘com’中的数据\n",
    "df.loc[df['Email'].str.contains('com', na=False)]"
   ]
  },
  {
   "cell_type": "markdown",
   "metadata": {},
   "source": [
    "* 这里需要注意一下，如果和loc配合使用，注意不能有缺失值，否则会报错。可以通过设置na=False忽略缺失值完成查询。"
   ]
  },
  {
   "cell_type": "markdown",
   "metadata": {},
   "source": [
    "## 8 文本哑变量\n",
    "\n",
    "Series.str.get_dummieis(): 实现 one-hot编码（哑变量），在特征工程中经常使用。\n",
    "* 或者 pd.get_dummies(Series)"
   ]
  },
  {
   "cell_type": "code",
   "execution_count": 25,
   "metadata": {},
   "outputs": [
    {
     "data": {
      "text/html": [
       "<div>\n",
       "<style scoped>\n",
       "    .dataframe tbody tr th:only-of-type {\n",
       "        vertical-align: middle;\n",
       "    }\n",
       "\n",
       "    .dataframe tbody tr th {\n",
       "        vertical-align: top;\n",
       "    }\n",
       "\n",
       "    .dataframe thead th {\n",
       "        text-align: right;\n",
       "    }\n",
       "</style>\n",
       "<table border=\"1\" class=\"dataframe\">\n",
       "  <thead>\n",
       "    <tr style=\"text-align: right;\">\n",
       "      <th></th>\n",
       "      <th>Amei</th>\n",
       "      <th>Kelvin</th>\n",
       "      <th>MIKE</th>\n",
       "      <th>jordon</th>\n",
       "      <th>qiqi</th>\n",
       "      <th>xiaoLi</th>\n",
       "    </tr>\n",
       "  </thead>\n",
       "  <tbody>\n",
       "    <tr>\n",
       "      <th>0</th>\n",
       "      <td>0</td>\n",
       "      <td>0</td>\n",
       "      <td>0</td>\n",
       "      <td>1</td>\n",
       "      <td>0</td>\n",
       "      <td>0</td>\n",
       "    </tr>\n",
       "    <tr>\n",
       "      <th>1</th>\n",
       "      <td>0</td>\n",
       "      <td>0</td>\n",
       "      <td>1</td>\n",
       "      <td>0</td>\n",
       "      <td>0</td>\n",
       "      <td>0</td>\n",
       "    </tr>\n",
       "    <tr>\n",
       "      <th>2</th>\n",
       "      <td>0</td>\n",
       "      <td>1</td>\n",
       "      <td>0</td>\n",
       "      <td>0</td>\n",
       "      <td>0</td>\n",
       "      <td>0</td>\n",
       "    </tr>\n",
       "    <tr>\n",
       "      <th>3</th>\n",
       "      <td>0</td>\n",
       "      <td>0</td>\n",
       "      <td>0</td>\n",
       "      <td>0</td>\n",
       "      <td>0</td>\n",
       "      <td>1</td>\n",
       "    </tr>\n",
       "    <tr>\n",
       "      <th>4</th>\n",
       "      <td>0</td>\n",
       "      <td>0</td>\n",
       "      <td>0</td>\n",
       "      <td>0</td>\n",
       "      <td>1</td>\n",
       "      <td>0</td>\n",
       "    </tr>\n",
       "    <tr>\n",
       "      <th>5</th>\n",
       "      <td>1</td>\n",
       "      <td>0</td>\n",
       "      <td>0</td>\n",
       "      <td>0</td>\n",
       "      <td>0</td>\n",
       "      <td>0</td>\n",
       "    </tr>\n",
       "  </tbody>\n",
       "</table>\n",
       "</div>"
      ],
      "text/plain": [
       "   Amei  Kelvin  MIKE  jordon  qiqi  xiaoLi\n",
       "0     0       0     0       1     0       0\n",
       "1     0       0     1       0     0       0\n",
       "2     0       1     0       0     0       0\n",
       "3     0       0     0       0     0       1\n",
       "4     0       0     0       0     1       0\n",
       "5     1       0     0       0     0       0"
      ]
     },
     "execution_count": 25,
     "metadata": {},
     "output_type": "execute_result"
    }
   ],
   "source": [
    "# 对‘name’列实现哑变量\n",
    "df['name'].str.get_dummies()"
   ]
  },
  {
   "cell_type": "code",
   "execution_count": 26,
   "metadata": {},
   "outputs": [
    {
     "data": {
      "text/html": [
       "<div>\n",
       "<style scoped>\n",
       "    .dataframe tbody tr th:only-of-type {\n",
       "        vertical-align: middle;\n",
       "    }\n",
       "\n",
       "    .dataframe tbody tr th {\n",
       "        vertical-align: top;\n",
       "    }\n",
       "\n",
       "    .dataframe thead th {\n",
       "        text-align: right;\n",
       "    }\n",
       "</style>\n",
       "<table border=\"1\" class=\"dataframe\">\n",
       "  <thead>\n",
       "    <tr style=\"text-align: right;\">\n",
       "      <th></th>\n",
       "      <th>Amei</th>\n",
       "      <th>Kelvin</th>\n",
       "      <th>MIKE</th>\n",
       "      <th>jordon</th>\n",
       "      <th>qiqi</th>\n",
       "      <th>xiaoLi</th>\n",
       "    </tr>\n",
       "  </thead>\n",
       "  <tbody>\n",
       "    <tr>\n",
       "      <th>0</th>\n",
       "      <td>0</td>\n",
       "      <td>0</td>\n",
       "      <td>0</td>\n",
       "      <td>1</td>\n",
       "      <td>0</td>\n",
       "      <td>0</td>\n",
       "    </tr>\n",
       "    <tr>\n",
       "      <th>1</th>\n",
       "      <td>0</td>\n",
       "      <td>0</td>\n",
       "      <td>1</td>\n",
       "      <td>0</td>\n",
       "      <td>0</td>\n",
       "      <td>0</td>\n",
       "    </tr>\n",
       "    <tr>\n",
       "      <th>2</th>\n",
       "      <td>0</td>\n",
       "      <td>1</td>\n",
       "      <td>0</td>\n",
       "      <td>0</td>\n",
       "      <td>0</td>\n",
       "      <td>0</td>\n",
       "    </tr>\n",
       "    <tr>\n",
       "      <th>3</th>\n",
       "      <td>0</td>\n",
       "      <td>0</td>\n",
       "      <td>0</td>\n",
       "      <td>0</td>\n",
       "      <td>0</td>\n",
       "      <td>1</td>\n",
       "    </tr>\n",
       "    <tr>\n",
       "      <th>4</th>\n",
       "      <td>0</td>\n",
       "      <td>0</td>\n",
       "      <td>0</td>\n",
       "      <td>0</td>\n",
       "      <td>1</td>\n",
       "      <td>0</td>\n",
       "    </tr>\n",
       "    <tr>\n",
       "      <th>5</th>\n",
       "      <td>1</td>\n",
       "      <td>0</td>\n",
       "      <td>0</td>\n",
       "      <td>0</td>\n",
       "      <td>0</td>\n",
       "      <td>0</td>\n",
       "    </tr>\n",
       "  </tbody>\n",
       "</table>\n",
       "</div>"
      ],
      "text/plain": [
       "   Amei  Kelvin  MIKE  jordon  qiqi  xiaoLi\n",
       "0     0       0     0       1     0       0\n",
       "1     0       0     1       0     0       0\n",
       "2     0       1     0       0     0       0\n",
       "3     0       0     0       0     0       1\n",
       "4     0       0     0       0     1       0\n",
       "5     1       0     0       0     0       0"
      ]
     },
     "execution_count": 26,
     "metadata": {},
     "output_type": "execute_result"
    }
   ],
   "source": [
    "# 也可使用pd.get_dummies()进行实现\n",
    "pd.get_dummies(df['name'])"
   ]
  }
 ],
 "metadata": {
  "kernelspec": {
   "display_name": "Python 3",
   "language": "python",
   "name": "python3"
  },
  "language_info": {
   "codemirror_mode": {
    "name": "ipython",
    "version": 3
   },
   "file_extension": ".py",
   "mimetype": "text/x-python",
   "name": "python",
   "nbconvert_exporter": "python",
   "pygments_lexer": "ipython3",
   "version": "3.7.6"
  },
  "toc": {
   "base_numbering": 1,
   "nav_menu": {},
   "number_sections": false,
   "sideBar": true,
   "skip_h1_title": false,
   "title_cell": "Table of Contents",
   "title_sidebar": "Contents",
   "toc_cell": false,
   "toc_position": {
    "height": "calc(100% - 180px)",
    "left": "10px",
    "top": "150px",
    "width": "295px"
   },
   "toc_section_display": true,
   "toc_window_display": true
  }
 },
 "nbformat": 4,
 "nbformat_minor": 4
}
