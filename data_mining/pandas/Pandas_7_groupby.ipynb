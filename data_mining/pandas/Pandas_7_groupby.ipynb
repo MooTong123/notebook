{
 "cells": [
  {
   "cell_type": "code",
   "execution_count": 1,
   "metadata": {},
   "outputs": [],
   "source": [
    "import pandas as pd\n",
    "import numpy as np\n",
    "import matplotlib.pyplot as plt"
   ]
  },
  {
   "cell_type": "markdown",
   "metadata": {},
   "source": [
    "# Pandas 分组与聚合\n",
    "\n",
    "分组与聚合通常是分析数据的一种方式，通常与一些统计函数一起使用，查看数据的分组情况。\n",
    "\n",
    "想一想其实上一节的交叉表与透视表也有分组的功能，所以算是分组的一种形式，只不过他们主要是计算次数或者计算比例。"
   ]
  },
  {
   "cell_type": "markdown",
   "metadata": {},
   "source": [
    "## 1 什么是分组聚合\n",
    "\n",
    "一个表示分组聚合运算的术语\"split-apply-combine\"（拆分-应用-合并）共三个阶段。\n",
    "* split：在第一个阶段，pandas对象（Series或者DataFrame）中的数据会根据你提供的一个或多个键被拆分（split）为多组。\n",
    "* apply：在第二个阶段，将一个函数应用（apply）到各个分组并产生一个新值。\n",
    "* combine：在第三个阶段，所有这些函数的执行结果会被合并（combine）到最终的结果对象中。\n",
    "\n",
    "举例：假如有这样一组数据,分别求ABC组的和。\n",
    "\n",
    "| key | data |\n",
    "| :-----:| :----: |\n",
    "| A | 0 |\n",
    "| B | 5 |\n",
    "| C | 10 |\n",
    "| A | 5 |\n",
    "| B | 10 |\n",
    "| C | 15 |\n",
    "| A | 10 |\n",
    "| B | 15 |\n",
    "| C | 20 |\n",
    "\n",
    "* 1. split：将这份数据按照'key'键拆分成3组\n",
    "\n",
    "| key | data |\n",
    "| :-----:| :----: |\n",
    "| A | 0 |\n",
    "| A | 5 | \n",
    "| A | 10 | \n",
    "\n",
    "| key | data |\n",
    "| :-----:| :----: |\n",
    "| B | 5 |\n",
    "| B | 10 | \n",
    "| B | 15 | \n",
    "\n",
    "| key | data |\n",
    "| :-----:| :----: |\n",
    "| C | 10 |\n",
    "| C | 15 | \n",
    "| C | 20 | \n",
    "\n",
    "* 2. apply:将函数sum应用到每一组，分别计算结果。\n",
    "\n",
    "| key | sum |\n",
    "| :-----:| :----: |\n",
    "| A | 15 |\n",
    "\n",
    "| key | sum |\n",
    "| :-----:| :----: |\n",
    "| B | 30 |\n",
    "\n",
    "| key | sum |\n",
    "| :-----:| :----: |\n",
    "| C | 45 |\n",
    "\n",
    "\n",
    "* 3. combine：将每组的结果合并到一起。\n",
    "\n",
    "| key | sum |\n",
    "| :-----:| :----: |\n",
    "| A | 15 |\n",
    "| B | 30 | \n",
    "| C | 45 | "
   ]
  },
  {
   "cell_type": "markdown",
   "metadata": {},
   "source": [
    "## 2 分组grouoby\n",
    "\n",
    "pandas实现分组操作的是groupby函数\n",
    "\n",
    "* df.groupby(by=None)\n",
    "    * by: 根据什么进行分组，用于确定groupby的组\n",
    "\n",
    "举例说明："
   ]
  },
  {
   "cell_type": "code",
   "execution_count": 2,
   "metadata": {},
   "outputs": [
    {
     "data": {
      "text/html": [
       "<div>\n",
       "<style scoped>\n",
       "    .dataframe tbody tr th:only-of-type {\n",
       "        vertical-align: middle;\n",
       "    }\n",
       "\n",
       "    .dataframe tbody tr th {\n",
       "        vertical-align: top;\n",
       "    }\n",
       "\n",
       "    .dataframe thead th {\n",
       "        text-align: right;\n",
       "    }\n",
       "</style>\n",
       "<table border=\"1\" class=\"dataframe\">\n",
       "  <thead>\n",
       "    <tr style=\"text-align: right;\">\n",
       "      <th></th>\n",
       "      <th>fruit</th>\n",
       "      <th>color</th>\n",
       "      <th>price</th>\n",
       "    </tr>\n",
       "  </thead>\n",
       "  <tbody>\n",
       "    <tr>\n",
       "      <th>0</th>\n",
       "      <td>apple</td>\n",
       "      <td>red</td>\n",
       "      <td>8.5</td>\n",
       "    </tr>\n",
       "    <tr>\n",
       "      <th>1</th>\n",
       "      <td>banana</td>\n",
       "      <td>yellow</td>\n",
       "      <td>6.8</td>\n",
       "    </tr>\n",
       "    <tr>\n",
       "      <th>2</th>\n",
       "      <td>orange</td>\n",
       "      <td>yellow</td>\n",
       "      <td>5.6</td>\n",
       "    </tr>\n",
       "    <tr>\n",
       "      <th>3</th>\n",
       "      <td>apple</td>\n",
       "      <td>cyan</td>\n",
       "      <td>7.8</td>\n",
       "    </tr>\n",
       "    <tr>\n",
       "      <th>4</th>\n",
       "      <td>banana</td>\n",
       "      <td>cyan</td>\n",
       "      <td>6.4</td>\n",
       "    </tr>\n",
       "  </tbody>\n",
       "</table>\n",
       "</div>"
      ],
      "text/plain": [
       "    fruit   color  price\n",
       "0   apple     red    8.5\n",
       "1  banana  yellow    6.8\n",
       "2  orange  yellow    5.6\n",
       "3   apple    cyan    7.8\n",
       "4  banana    cyan    6.4"
      ]
     },
     "execution_count": 2,
     "metadata": {},
     "output_type": "execute_result"
    }
   ],
   "source": [
    "# 新建一个DataFrame\n",
    "df1 = pd.DataFrame({'fruit':['apple','banana','orange','apple','banana'],\n",
    "                    'color':['red','yellow','yellow','cyan','cyan'],\n",
    "                   'price':[8.5,6.8,5.6,7.8,6.4]})\n",
    "df1"
   ]
  },
  {
   "cell_type": "code",
   "execution_count": 3,
   "metadata": {},
   "outputs": [
    {
     "data": {
      "text/plain": [
       "pandas.core.groupby.generic.DataFrameGroupBy"
      ]
     },
     "execution_count": 3,
     "metadata": {},
     "output_type": "execute_result"
    }
   ],
   "source": [
    "# 对‘fruit’列进行分组，查看其类型\n",
    "type(df1.groupby('fruit'))"
   ]
  },
  {
   "cell_type": "markdown",
   "metadata": {},
   "source": [
    "* pandas.core.groupby.generic.DataFrameGroupBy 是一个Groupby对象，它是一个包含组名和数据块的2维元祖序列，支持迭代（可使用for循环进行迭代）"
   ]
  },
  {
   "cell_type": "code",
   "execution_count": 4,
   "metadata": {},
   "outputs": [
    {
     "name": "stdout",
     "output_type": "stream",
     "text": [
      "apple\n",
      "   fruit color  price\n",
      "0  apple   red    8.5\n",
      "3  apple  cyan    7.8\n",
      "-------------------------\n",
      "banana\n",
      "    fruit   color  price\n",
      "1  banana  yellow    6.8\n",
      "4  banana    cyan    6.4\n",
      "-------------------------\n",
      "orange\n",
      "    fruit   color  price\n",
      "2  orange  yellow    5.6\n",
      "-------------------------\n"
     ]
    }
   ],
   "source": [
    "# 对groupby对象进行迭代\n",
    "for name, group in df1.groupby('fruit'):\n",
    "    print(name)\n",
    "    print(group)\n",
    "    print('-------------------------')  "
   ]
  },
  {
   "cell_type": "markdown",
   "metadata": {},
   "source": [
    "## 3 聚合函数\n",
    "* 常见的聚合函数如下表所示：\n",
    "\n",
    "| 函数名 | 描述 | \n",
    "| :--- | :--- | \n",
    "| count | 分组中非NA值的数量 | \n",
    "| sum | 非NA值的和 | \n",
    "| mean | 非NA值的平均值 | \n",
    "| median | 非NA值的中位数 | \n",
    "| std, var | 标准差和方差 | \n",
    "| min, max | 非NA的最小值，最大值 | \n",
    "| prod | 非NA值的乘积 |\n",
    "| first, last | 非NA值的第一个,最后一个 |\n",
    "\n",
    "* 上表显示的是pandas已封装好的聚合函数，也可以自定义聚合函数，将函数传递给agg函数即可。\n",
    "\n",
    "\n",
    "* 举例说明："
   ]
  },
  {
   "cell_type": "code",
   "execution_count": 5,
   "metadata": {},
   "outputs": [
    {
     "data": {
      "text/plain": [
       "fruit\n",
       "apple     8.15\n",
       "banana    6.60\n",
       "orange    5.60\n",
       "Name: price, dtype: float64"
      ]
     },
     "execution_count": 5,
     "metadata": {},
     "output_type": "execute_result"
    }
   ],
   "source": [
    "# 假设我们想要根据fruit来求price的平均值\n",
    "df1['price'].groupby(df1['fruit']).mean()"
   ]
  },
  {
   "cell_type": "code",
   "execution_count": 6,
   "metadata": {},
   "outputs": [
    {
     "data": {
      "text/plain": [
       "fruit\n",
       "apple     0.7\n",
       "banana    0.4\n",
       "orange    0.0\n",
       "Name: price, dtype: float64"
      ]
     },
     "execution_count": 6,
     "metadata": {},
     "output_type": "execute_result"
    }
   ],
   "source": [
    "# 假设我们想要得到每种水果价格最大值和最小值的差值,把自定义的聚合函数传入agg参数即可\n",
    "df1['price'].groupby(df1['fruit']).agg(lambda x: x.max() - x.min())"
   ]
  }
 ],
 "metadata": {
  "kernelspec": {
   "display_name": "Python 3",
   "language": "python",
   "name": "python3"
  },
  "language_info": {
   "codemirror_mode": {
    "name": "ipython",
    "version": 3
   },
   "file_extension": ".py",
   "mimetype": "text/x-python",
   "name": "python",
   "nbconvert_exporter": "python",
   "pygments_lexer": "ipython3",
   "version": "3.7.6"
  },
  "toc": {
   "base_numbering": 1,
   "nav_menu": {},
   "number_sections": false,
   "sideBar": true,
   "skip_h1_title": false,
   "title_cell": "Table of Contents",
   "title_sidebar": "Contents",
   "toc_cell": false,
   "toc_position": {
    "height": "calc(100% - 180px)",
    "left": "10px",
    "top": "150px",
    "width": "295px"
   },
   "toc_section_display": true,
   "toc_window_display": true
  }
 },
 "nbformat": 4,
 "nbformat_minor": 4
}
