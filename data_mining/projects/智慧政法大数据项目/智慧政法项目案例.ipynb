{
 "cells": [
  {
   "cell_type": "code",
   "execution_count": 1,
   "id": "21c4d102",
   "metadata": {},
   "outputs": [],
   "source": [
    "import numpy as np\n",
    "import pandas as pd\n",
    "import matplotlib.pyplot as plt\n",
    "import seaborn as sns\n",
    "import datetime\n",
    "from faker import Faker\n",
    "\n",
    "# 显示中文标签\n",
    "plt.style.use('seaborn')\n",
    "plt.rcParams['font.sans-serif'] = ['SimHei']\n",
    "plt.rcParams['axes.unicode_minus'] = False"
   ]
  },
  {
   "cell_type": "markdown",
   "id": "6e4045e7",
   "metadata": {},
   "source": [
    "# 智慧政法大数据项目案例\n",
    "\n",
    "**项目简介**：智慧政法大数据中心的建设是为了充分发挥政法委信息化的优势，整合现有资源，打破部门壁垒，实现各政法机关部门的互联互通和资源共享，建立政法大数据中心，借助大数据关联分析和人工智能应用，实现对社会不稳定因素的及时发现、预警、分析和预测。积极推进实现中央政法委、监察委员会等单位的数据共享需求，建立社会感知全面、业务协同流畅、部门联动灵敏、人工智能强大的工作体系。\n",
    "\n",
    "**业务挑战：**\n",
    "* 行业业务模型少：做好政法业务的深度分析和挖掘，提升业务人员智能化管理和领导的决策指挥，做好政法业务分析挖掘模型是非常重要的，但也是政法大数据项目建设和项提升的难点，因为政法业务模型的梳理和分析是一个全新的领域，没有成功经验可参考。\n",
    "    \n",
    "    \n",
    "* 数据质量低：从政法体系各个渠道、通过各种手段采集来的数据如果不经过有效的数据规整，不仅会增加系统查询、统计上的复杂程度，降低系统的运行效率，而且无法有效的发挥数据的深层价值，辅助进行决策支持与智能分析，因此除了在数据标准规范上要做好充分准备和贯彻外，还需要有完整、高效、可扩展的数据规整技术支撑，以提高数据的应用价值。\n",
    "\n",
    "\n",
    "* 数据来源多：数据采集是政法大数据中心建设所需数据资源的核心途径。需要采集的数据包括法院相关信息数据、检察院相关信息数据、公安相关信息数据、司法局相关信息数据、民政局、信访办、团市委、教委、卫计委、地铁运营公司、社工委、经信委等部门的数据；另外还需要与市辖区县进行数据的采集工作，因此在数据方面不仅采集对象多，而且格式和标准不同，采集的数据内容、数据类型、数据来源多样化且采集频度较高。\n",
    "\n",
    "\n",
    "* 内外网系统工作量大：很多政法数据存在于政务外网当中，如法、检、公、司、民等部门以及其他部门的数据资源，甚至舆情信息存在于互联网当中，根据保密要求，互联网数据和政务外网数据不可以直接通过有线及无线链路交互和共享给政务内网，因此如何做好政务内外网数据的交互和共享以及内外网数据的一致性是本项目的难点。\n",
    "\n",
    "\n",
    "* 国产化替代难度大：政法体系信息化系统属于涉密系统，根据国家保密和信息化建设相关规定，涉密信息系统建设必须采用国产化软硬件产品，产品要求必须在国家安全可靠产品名录里面。由于各政法委原有信息系统在建设过程中很多都没有按照国产化产品来建设，使用的硬件设备、软件中间件产品、开源软件包括很多国外产品和品牌，以及不符合国家对信息系统建设安全可靠要求。如何做好对原有系统进行国产化替换是本项目的难点。\n",
    "\n"
   ]
  },
  {
   "cell_type": "code",
   "execution_count": null,
   "id": "7c474057",
   "metadata": {},
   "outputs": [],
   "source": []
  },
  {
   "cell_type": "code",
   "execution_count": null,
   "id": "67cea35c",
   "metadata": {},
   "outputs": [],
   "source": []
  },
  {
   "cell_type": "code",
   "execution_count": null,
   "id": "a7991a09",
   "metadata": {},
   "outputs": [],
   "source": []
  },
  {
   "cell_type": "code",
   "execution_count": null,
   "id": "b7f8cba1",
   "metadata": {},
   "outputs": [],
   "source": []
  },
  {
   "cell_type": "code",
   "execution_count": null,
   "id": "0cc742d7",
   "metadata": {},
   "outputs": [],
   "source": []
  },
  {
   "cell_type": "code",
   "execution_count": null,
   "id": "eb29cb2e",
   "metadata": {},
   "outputs": [],
   "source": []
  },
  {
   "cell_type": "code",
   "execution_count": null,
   "id": "1a988cce",
   "metadata": {},
   "outputs": [],
   "source": []
  },
  {
   "cell_type": "code",
   "execution_count": null,
   "id": "96c08c0d",
   "metadata": {},
   "outputs": [],
   "source": []
  },
  {
   "cell_type": "code",
   "execution_count": null,
   "id": "3bb9ab7b",
   "metadata": {},
   "outputs": [],
   "source": []
  },
  {
   "cell_type": "code",
   "execution_count": null,
   "id": "dbab7b33",
   "metadata": {},
   "outputs": [],
   "source": []
  }
 ],
 "metadata": {
  "kernelspec": {
   "display_name": "Python 3 (ipykernel)",
   "language": "python",
   "name": "python3"
  },
  "language_info": {
   "codemirror_mode": {
    "name": "ipython",
    "version": 3
   },
   "file_extension": ".py",
   "mimetype": "text/x-python",
   "name": "python",
   "nbconvert_exporter": "python",
   "pygments_lexer": "ipython3",
   "version": "3.7.12"
  },
  "toc": {
   "base_numbering": 1,
   "nav_menu": {},
   "number_sections": true,
   "sideBar": true,
   "skip_h1_title": false,
   "title_cell": "Table of Contents",
   "title_sidebar": "Contents",
   "toc_cell": false,
   "toc_position": {},
   "toc_section_display": true,
   "toc_window_display": false
  }
 },
 "nbformat": 4,
 "nbformat_minor": 5
}
