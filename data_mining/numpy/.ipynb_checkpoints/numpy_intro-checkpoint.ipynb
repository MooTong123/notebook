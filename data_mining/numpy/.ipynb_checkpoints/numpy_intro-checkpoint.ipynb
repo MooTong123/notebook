{
 "cells": [
  {
   "cell_type": "markdown",
   "metadata": {},
   "source": [
    "# **Numpy库介绍**\n",
    "* **1 Numpy库简介**\n",
    "    * 1.1 Numpy数组和Python列表性能对比\n",
    "\n",
    "\n",
    "* **2 N维数组ndarray**\n",
    "    * 2.1 ndarray的属性\n",
    "    * 2.2 ndarray的形状\n",
    "    * 2.3 ndarray的类型\n",
    "        * 2.3.1 默认的数据类型\n",
    "        * 2.3.2 指定dtype\n",
    "        * 2.3.3 修改dtype\n",
    "\n",
    "\n",
    "* **3 axis理解**"
   ]
  },
  {
   "cell_type": "markdown",
   "metadata": {},
   "source": [
    "# 1 Numpy库简介"
   ]
  },
  {
   "cell_type": "markdown",
   "metadata": {},
   "source": [
    "**NumPy**是一个功能强大的**Python**库，主要用于对**多维数组**执行计算。NumPy这个词来源于两个单词-- Numerical和Python。NumPy提供了大量的库函数和操作，可以帮助程序员轻松地进行数值计算。在**数据分析和机器学习领域**被广泛使用。他有以下几个特点：\n",
    "* numpy内置了**并行运算**功能，当系统有多个核心时，做某种计算时，numpy会自动做并行计算。\n",
    "\n",
    "\n",
    "* Numpy底层使用**C语言**编写，内部解除了**GIL（全局解释器锁）**，其对数组的操作速度不受Python解释器的限制，**效率远高于纯Python代码**。\n",
    "\n",
    "\n",
    "* 有一个强大的N维数组对象Array（一种类似于列表的东西）:**ndarray**\n",
    "\n",
    "\n",
    "* 实用的线性代数、傅里叶变换和随机数生成函数。\n",
    "\n",
    "总而言之，numpy是一个**非常高效**的用于**处理数值型运算**的包。"
   ]
  },
  {
   "cell_type": "markdown",
   "metadata": {},
   "source": [
    "## 1.1 Numpy数组和Python列表性能对比：\n",
    "比如我们想要对一个Numpy数组和Python列表中的每个元素进行求和,代码如下："
   ]
  },
  {
   "cell_type": "code",
   "execution_count": 1,
   "metadata": {},
   "outputs": [
    {
     "name": "stdout",
     "output_type": "stream",
     "text": [
      "Python列表所消耗的时间为：0.0429秒\n",
      "numpy方式所消耗的时间为：0.0010秒\n"
     ]
    }
   ],
   "source": [
    "import time\n",
    "import random\n",
    "import numpy as np\n",
    "\n",
    "# Python 列表方式\n",
    "t1 = time.time()\n",
    "a = []\n",
    "for x in range(100000):\n",
    "    a.append(x**2)\n",
    "t2 = time.time()\n",
    "print(\"Python列表所消耗的时间为：{:.4f}秒\".format(t2-t1))\n",
    "\n",
    "# numpy 方式\n",
    "t3 = time.time()\n",
    "b = np.arange(100000)**2\n",
    "t4 = time.time()\n",
    "print(\"numpy方式所消耗的时间为：{:.4f}秒\".format(t4-t3))"
   ]
  },
  {
   "cell_type": "markdown",
   "metadata": {},
   "source": [
    "从中我们看到ndarray的计算速度要快很多，这个简单的例子快了接近于50倍。\n",
    "\n",
    "机器学习的最大特点就是大量的数据运算，那么如果没有一个快速的解决方案，那可能现在python也在机器学习领域达不到好的效果。\n",
    "\n",
    "Numpy专门针对ndarray的操作和运算进行了设计，所以数组的存储效率和输入输出性能远优于Python中的嵌套列表，数组越大，Numpy的优势就越明显。"
   ]
  },
  {
   "cell_type": "markdown",
   "metadata": {},
   "source": [
    "# 2 N维数组ndarray"
   ]
  },
  {
   "cell_type": "markdown",
   "metadata": {},
   "source": [
    "## 2.1 ndarray的属性\n",
    "| 属性名字 |                  属性解释 |\n",
    "| :-----:| :----: |\n",
    "| **ndarray.shape** | 数组维度的元组 |\n",
    "| ndarray.ndim | 数组维数 |\n",
    "| ndarray.size | 数组中的元素数量 |\n",
    "| ndarray.itemsize | 一个数组元素的长度（字节） |\n",
    "| **ndarray.dtype** | 数组元素的类型 |\n",
    "\n",
    "下面着重介绍一下ndarray的**形状(ndarray.shape)**和**类型(ndarray.dtype)**"
   ]
  },
  {
   "cell_type": "markdown",
   "metadata": {},
   "source": [
    "## 2.2 ndarray的形状（ndarray.shape）\n",
    "首先创建一些数组。"
   ]
  },
  {
   "cell_type": "code",
   "execution_count": 2,
   "metadata": {},
   "outputs": [],
   "source": [
    "# 创建不同形状的数组\n",
    "a = np.array([[1, 2, 3], [4, 5, 6]])\n",
    "b = np.array([1, 2, 3, 4])\n",
    "c = np.array([[[1, 2, 3], [4, 5, 6]], [[1, 2, 3], [4, 5, 6]]])"
   ]
  },
  {
   "cell_type": "markdown",
   "metadata": {},
   "source": [
    "分别打印出形状"
   ]
  },
  {
   "cell_type": "code",
   "execution_count": 3,
   "metadata": {},
   "outputs": [
    {
     "data": {
      "text/plain": [
       "(2, 3)"
      ]
     },
     "execution_count": 3,
     "metadata": {},
     "output_type": "execute_result"
    }
   ],
   "source": [
    "# 二维数组\n",
    "a.shape"
   ]
  },
  {
   "cell_type": "code",
   "execution_count": 4,
   "metadata": {},
   "outputs": [
    {
     "data": {
      "text/plain": [
       "(4,)"
      ]
     },
     "execution_count": 4,
     "metadata": {},
     "output_type": "execute_result"
    }
   ],
   "source": [
    "# 一维数组\n",
    "b.shape"
   ]
  },
  {
   "cell_type": "code",
   "execution_count": 5,
   "metadata": {},
   "outputs": [
    {
     "data": {
      "text/plain": [
       "(2, 2, 3)"
      ]
     },
     "execution_count": 5,
     "metadata": {},
     "output_type": "execute_result"
    }
   ],
   "source": [
    "# 三维数组\n",
    "c.shape"
   ]
  },
  {
   "cell_type": "markdown",
   "metadata": {},
   "source": [
    "## 2.3 ndarray的类型\n",
    "\n",
    "| 名称 | 描述 | 简写 |\n",
    "| :-----:| :----: | :----: |\n",
    "| np.bool | 用一个字节存储的布尔类型（True或False） | 'b' |\n",
    "| np.int8 | 一个字节大小，-128 至 127 | 'i1' |\n",
    "| np.int16 | 整数，-32768 至 32767 | 'i2' |\n",
    "| np.int32| 整数，-2^31 至 2^32 -1 | 'i4' |\n",
    "| **np.int64** | 整数，-2^63 至 2^63 - 1 | 'i8' |\n",
    "| np.uint8 | 无符号整数，0 至 255 | 'u1' |\n",
    "| np.uint16 | 无符号整数，0 至 65535 | 'u2' |\n",
    "| np.uint32 | 无符号整数，0 至 2^32 - 1 | 'u4' |\n",
    "| np.uint64 | 无符号整数，0 至 2^64 - 1 | 'u8' |\n",
    "| np.float16 | 半精度浮点数：16位，正负号1位，指数5位，精度10位 | 'f2' |\n",
    "| np.float32 | 单精度浮点数：32位，正负号1位，指数8位，精度23位 | 'f4' |\n",
    "| **np.float64** | 双精度浮点数：64位，正负号1位，指数11位，精度52位 | 'f8' |\n",
    "| np.complex64 | 复数，分别用两个32位浮点数表示实部和虚部 | 'c8' |\n",
    "| np.complex128 | 复数，分别用两个64位浮点数表示实部和虚部 | 'c16' |\n",
    "| np.object_ | python对象 | 'O' |\n",
    "| np.string_ | 字符串 | 'S' |\n",
    "| np.unicode_ | unicode类型 | 'U' |\n",
    "\n",
    "* 注意：若不指定，**整数默认int64**，**小数默认float64**"
   ]
  },
  {
   "cell_type": "markdown",
   "metadata": {},
   "source": [
    "我们可以看到，Numpy中关于数值的类型比Python内置的多得多，这是因为Numpy为了能高效处理处理海量数据而设计的。举个例子，比如现在想要存储上百亿的数字，并且这些数字都不超过254（一个字节内），我们就可以将**dtype设置为int8**，这样就**比默认使用int64更能节省内存空间**了。类型相关的操作如下："
   ]
  },
  {
   "cell_type": "markdown",
   "metadata": {},
   "source": [
    "### 2.3.1 默认的数据类型:"
   ]
  },
  {
   "cell_type": "code",
   "execution_count": 6,
   "metadata": {},
   "outputs": [
    {
     "data": {
      "text/plain": [
       "dtype('int32')"
      ]
     },
     "execution_count": 6,
     "metadata": {},
     "output_type": "execute_result"
    }
   ],
   "source": [
    "# 新建一个数组，展示其默认数据类型\n",
    "a1 = np.array([1, 2, 3])\n",
    "a1.dtype"
   ]
  },
  {
   "cell_type": "markdown",
   "metadata": {},
   "source": [
    "### 2.3.2 指定dtype："
   ]
  },
  {
   "cell_type": "code",
   "execution_count": 7,
   "metadata": {},
   "outputs": [
    {
     "data": {
      "text/plain": [
       "dtype('int64')"
      ]
     },
     "execution_count": 7,
     "metadata": {},
     "output_type": "execute_result"
    }
   ],
   "source": [
    "# 新建一个数组，并指定数据类型\n",
    "a1 = np.array([1, 2, 3], dtype=np.int64)\n",
    "a1.dtype"
   ]
  },
  {
   "cell_type": "markdown",
   "metadata": {},
   "source": [
    "### 2.3.3 修改dtype：ndarray.astype()"
   ]
  },
  {
   "cell_type": "code",
   "execution_count": 8,
   "metadata": {},
   "outputs": [
    {
     "name": "stdout",
     "output_type": "stream",
     "text": [
      "int32\n",
      "int64\n"
     ]
    }
   ],
   "source": [
    "# 新建一个数组，展示其默认数据类型\n",
    "a1 = np.array([1, 2, 3])\n",
    "print(a1.dtype)\n",
    "\n",
    "# 修改数组的数据类型\n",
    "a2 = a1.astype(np.int64)\n",
    "print(a2.dtype)"
   ]
  },
  {
   "cell_type": "markdown",
   "metadata": {},
   "source": [
    "# 3 axis理解\n",
    "一般来讲，我们处理的都是二维表，axis=0指的是行，axis=1，指的是列。但其实不是这么简单理解的，下面来说明来解释一下axis轴的概念。\n",
    "\n",
    "简单来说，**axis=0就是跨行进行计算，axis=1就等于跨列进行计算**。下面的举例说明。"
   ]
  },
  {
   "cell_type": "code",
   "execution_count": 9,
   "metadata": {},
   "outputs": [
    {
     "data": {
      "text/plain": [
       "array([[0, 1, 2],\n",
       "       [3, 4, 5]])"
      ]
     },
     "execution_count": 9,
     "metadata": {},
     "output_type": "execute_result"
    }
   ],
   "source": [
    "# 新建一个数组\n",
    "a = np.array([[0,1,2],[3,4,5]])\n",
    "a"
   ]
  },
  {
   "cell_type": "markdown",
   "metadata": {},
   "source": [
    "现在我们想要计算每一行的最小值，就是第一行[0,1,2]的最小值是0，第二行[3,4,5]的最小值为3，我们期望得到的是一个[0,3]这样的数组。\n",
    "\n",
    "这时候axis就应该等于1，表示跨列进行计算，因为[0,1,2]是属于第1列第2列第3列的数字。\n",
    "\n",
    "类似的比如求每行的均值，对每行进行排序，都相当于跨列进行操作，所以axis=1."
   ]
  },
  {
   "cell_type": "code",
   "execution_count": 10,
   "metadata": {},
   "outputs": [
    {
     "data": {
      "text/plain": [
       "array([0, 3])"
      ]
     },
     "execution_count": 10,
     "metadata": {},
     "output_type": "execute_result"
    }
   ],
   "source": [
    "# 计算每行的最小值\n",
    "np.min(a,axis=1)"
   ]
  },
  {
   "cell_type": "markdown",
   "metadata": {},
   "source": [
    "现在我们想要删除第1列的数据,axis应该等于多少呢？\n",
    "\n",
    "axis应该等于1，因为删除相当于是对第2列进行操作"
   ]
  },
  {
   "cell_type": "code",
   "execution_count": 11,
   "metadata": {},
   "outputs": [
    {
     "data": {
      "text/plain": [
       "array([[0, 2],\n",
       "       [3, 5]])"
      ]
     },
     "execution_count": 11,
     "metadata": {},
     "output_type": "execute_result"
    }
   ],
   "source": [
    "# 删除第2列的数据\n",
    "np.delete(a,1,axis=1)"
   ]
  }
 ],
 "metadata": {
  "kernelspec": {
   "display_name": "Python 3",
   "language": "python",
   "name": "python3"
  },
  "language_info": {
   "codemirror_mode": {
    "name": "ipython",
    "version": 3
   },
   "file_extension": ".py",
   "mimetype": "text/x-python",
   "name": "python",
   "nbconvert_exporter": "python",
   "pygments_lexer": "ipython3",
   "version": "3.7.6"
  },
  "toc": {
   "base_numbering": 1,
   "nav_menu": {},
   "number_sections": false,
   "sideBar": true,
   "skip_h1_title": false,
   "title_cell": "Table of Contents",
   "title_sidebar": "Contents",
   "toc_cell": false,
   "toc_position": {
    "height": "calc(100% - 180px)",
    "left": "10px",
    "top": "150px",
    "width": "215px"
   },
   "toc_section_display": true,
   "toc_window_display": true
  }
 },
 "nbformat": 4,
 "nbformat_minor": 4
}
