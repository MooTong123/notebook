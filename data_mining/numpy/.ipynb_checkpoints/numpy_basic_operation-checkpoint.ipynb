{
 "cells": [
  {
   "cell_type": "markdown",
   "metadata": {},
   "source": [
    "# numpy基本操作\n",
    "\n",
    "* **1 生成ndarray数组**\n",
    "    * 1.1 生成0和1的数组\n",
    "        * np.ones()\n",
    "        * np.ones_like()\n",
    "        * np.zeros()\n",
    "        * np.zeros_like()\n",
    "    * 1.2 从现有数组生成\n",
    "        * np.array()\n",
    "        * np.asarray()\n",
    "    * 1.3 生成固定范围的数组\n",
    "        * np.linspace()\n",
    "        * np.arange()\n",
    "        * np.logspace()\n",
    "    * 1.4 生成随即数组\n",
    "        * 1.4.1 正态分布\n",
    "            * np.random.randn()\n",
    "            * np.random.normal()\n",
    "        * 1.4.2 均匀分布\n",
    "            * np.random.rand()\n",
    "            * np.random.randint()\n",
    "            * np.random.uniform()\n",
    "            \n",
    "            \n",
    "* **2 数组的索引和切片**\n",
    "    * 一维举例\n",
    "    * 二维举例\n",
    "    * 三维举例\n",
    "    \n",
    "    \n",
    "* **3 数组形状修改**\n",
    "    * ndarray.reshape()       \n",
    "    * ndarray.resize()     \n",
    "    * ndarray.T\n",
    "    \n",
    "    \n",
    "* **4 数组类型修改**\n",
    "    * ndarray.astype()   \n",
    "    * ndarray.tostring()\n",
    "\n",
    "\n",
    "* **5 数组去重**\n",
    "    * np.unique()\n",
    "\n",
    "\n",
    "* **6 数据间的计算（广播机制）**\n",
    "    * 6.1 广播原则\n",
    "    * 6.2 数据与数的计算\n",
    "    * 6.3 数组与数组的计算\n",
    "    * 6.4 不同数组的组合\n",
    "    * 6.5 数组的切割\n",
    "        * np.hsplit()\n",
    "        * np.vsplit()\n",
    "        * np.array_split()"
   ]
  },
  {
   "cell_type": "code",
   "execution_count": 1,
   "metadata": {},
   "outputs": [],
   "source": [
    "# 导入numpy库\n",
    "import numpy as np"
   ]
  },
  {
   "cell_type": "markdown",
   "metadata": {},
   "source": [
    "## 1 生成ndarray数组"
   ]
  },
  {
   "cell_type": "markdown",
   "metadata": {},
   "source": [
    "### 1.1 生成0和1的数组\n",
    "* **np.ones(shape, dtype)**\n",
    "* np.ones_like(a, dtype)\n",
    "* **np.zeros(shape, dtype)**\n",
    "* np.zeros_like(a, dtype)\n",
    "\n",
    "一般用于初始化参数列表等，深度学习经常使用。\n",
    "\n",
    "举例：生成一个4行8列的全是1的数组"
   ]
  },
  {
   "cell_type": "code",
   "execution_count": 2,
   "metadata": {},
   "outputs": [
    {
     "data": {
      "text/plain": [
       "array([[1., 1., 1., 1., 1., 1., 1., 1.],\n",
       "       [1., 1., 1., 1., 1., 1., 1., 1.],\n",
       "       [1., 1., 1., 1., 1., 1., 1., 1.],\n",
       "       [1., 1., 1., 1., 1., 1., 1., 1.]])"
      ]
     },
     "execution_count": 2,
     "metadata": {},
     "output_type": "execute_result"
    }
   ],
   "source": [
    "# 生成一个4行8列的全是1的数组\n",
    "ones = np.ones([4, 8])\n",
    "ones"
   ]
  },
  {
   "cell_type": "markdown",
   "metadata": {},
   "source": [
    "举例：生成一个和ones形状相同的全0数组"
   ]
  },
  {
   "cell_type": "code",
   "execution_count": 3,
   "metadata": {},
   "outputs": [
    {
     "data": {
      "text/plain": [
       "array([[0., 0., 0., 0., 0., 0., 0., 0.],\n",
       "       [0., 0., 0., 0., 0., 0., 0., 0.],\n",
       "       [0., 0., 0., 0., 0., 0., 0., 0.],\n",
       "       [0., 0., 0., 0., 0., 0., 0., 0.]])"
      ]
     },
     "execution_count": 3,
     "metadata": {},
     "output_type": "execute_result"
    }
   ],
   "source": [
    "# 生成一个和数组ones形状相同的全0数组\n",
    "np.zeros_like(ones)"
   ]
  },
  {
   "cell_type": "markdown",
   "metadata": {},
   "source": [
    "### 1.2 从现有数组生成\n",
    "* np.array(object, dtype): 深拷贝\n",
    "* np.asarray(ndarray, dtype)：浅拷贝"
   ]
  },
  {
   "cell_type": "code",
   "execution_count": 4,
   "metadata": {},
   "outputs": [
    {
     "data": {
      "text/plain": [
       "array([[1, 2, 3],\n",
       "       [4, 5, 6]])"
      ]
     },
     "execution_count": 4,
     "metadata": {},
     "output_type": "execute_result"
    }
   ],
   "source": [
    "# 新建一个数组\n",
    "original_array = np.array([[1, 2, 3], [4, 5, 6]])\n",
    "\n",
    "# 深拷贝\n",
    "a1 = np.array(original_array)\n",
    "a1"
   ]
  },
  {
   "cell_type": "code",
   "execution_count": 5,
   "metadata": {},
   "outputs": [
    {
     "data": {
      "text/plain": [
       "array([[1, 2, 3],\n",
       "       [4, 5, 6]])"
      ]
     },
     "execution_count": 5,
     "metadata": {},
     "output_type": "execute_result"
    }
   ],
   "source": [
    "# 浅拷贝\n",
    "a2 = np.asarray(original_array)\n",
    "a2"
   ]
  },
  {
   "cell_type": "markdown",
   "metadata": {},
   "source": [
    "当我们改变原数组的元素时，a1的元素不变，a2的元素跟着改变了"
   ]
  },
  {
   "cell_type": "code",
   "execution_count": 6,
   "metadata": {},
   "outputs": [
    {
     "data": {
      "text/plain": [
       "array([[100,   2,   3],\n",
       "       [  4,   5,   6]])"
      ]
     },
     "execution_count": 6,
     "metadata": {},
     "output_type": "execute_result"
    }
   ],
   "source": [
    "# 我们修改原始数组的值\n",
    "original_array[0, 0] = 100\n",
    "original_array"
   ]
  },
  {
   "cell_type": "code",
   "execution_count": 7,
   "metadata": {},
   "outputs": [
    {
     "data": {
      "text/plain": [
       "array([[1, 2, 3],\n",
       "       [4, 5, 6]])"
      ]
     },
     "execution_count": 7,
     "metadata": {},
     "output_type": "execute_result"
    }
   ],
   "source": [
    "# 检查深拷贝的a1数组里面的值是否发生变化\n",
    "a1"
   ]
  },
  {
   "cell_type": "code",
   "execution_count": 8,
   "metadata": {},
   "outputs": [
    {
     "data": {
      "text/plain": [
       "array([[100,   2,   3],\n",
       "       [  4,   5,   6]])"
      ]
     },
     "execution_count": 8,
     "metadata": {},
     "output_type": "execute_result"
    }
   ],
   "source": [
    "# 检查浅拷贝的a2数组里面的值是否发生变化\n",
    "a2"
   ]
  },
  {
   "cell_type": "markdown",
   "metadata": {},
   "source": [
    "### 1.3 生成固定范围的数组\n",
    "* **np.linspace**(start, stop, num, endpoint):等差数列 (指定数量)\n",
    "\n",
    "\n",
    "* **np.arange**(start,stop, step, dtype)：等差数列 (指定步长)\n",
    "\n",
    "\n",
    "* np.logspace(start,stop, num)：等比数列"
   ]
  },
  {
   "cell_type": "markdown",
   "metadata": {},
   "source": [
    "#### 1.3.1 np.linspace(start, stop, num, endpoint)\n",
    "* 创建等差数组 — 指定数量\n",
    "* 参数\n",
    "    * start:序列的起始值\n",
    "    * stop:序列的终止值\n",
    "    * num:要生成的等间隔样例数量，默认为50\n",
    "    * endpoint:序列中是否包含stop值，默认为ture"
   ]
  },
  {
   "cell_type": "code",
   "execution_count": 9,
   "metadata": {},
   "outputs": [
    {
     "data": {
      "text/plain": [
       "array([  0.,  10.,  20.,  30.,  40.,  50.,  60.,  70.,  80.,  90., 100.])"
      ]
     },
     "execution_count": 9,
     "metadata": {},
     "output_type": "execute_result"
    }
   ],
   "source": [
    "# 在0-100区间内，生成11个目标的等差数列\n",
    "np.linspace(start=0, stop=100, num=11)"
   ]
  },
  {
   "cell_type": "markdown",
   "metadata": {},
   "source": [
    "#### 1.3.2 np.arange(start,stop, step, dtype)\n",
    "* 创建等差数组 — 指定步长\n",
    "* 参数\n",
    "    * step:步长,默认值为1"
   ]
  },
  {
   "cell_type": "code",
   "execution_count": 10,
   "metadata": {},
   "outputs": [
    {
     "data": {
      "text/plain": [
       "array([10, 12, 14, 16, 18, 20, 22, 24, 26, 28, 30, 32, 34, 36, 38, 40, 42,\n",
       "       44, 46, 48])"
      ]
     },
     "execution_count": 10,
     "metadata": {},
     "output_type": "execute_result"
    }
   ],
   "source": [
    "# 在10到50区间内，生成步长为2的等差数列\n",
    "np.arange(start=10, stop=50, step=2)"
   ]
  },
  {
   "cell_type": "markdown",
   "metadata": {},
   "source": [
    "#### 1.3.3 np.logspace(start,stop, num,base)\n",
    "* 创建等比数列\n",
    "* 参数:\n",
    "    * num:要生成的等比数列数量，默认为50\n",
    "    * base：底数，默认是10"
   ]
  },
  {
   "cell_type": "code",
   "execution_count": 11,
   "metadata": {},
   "outputs": [
    {
     "data": {
      "text/plain": [
       "array([  1.,  10., 100.])"
      ]
     },
     "execution_count": 11,
     "metadata": {},
     "output_type": "execute_result"
    }
   ],
   "source": [
    "# 生成10^x\n",
    "np.logspace(start=0, stop=2, num=3)"
   ]
  },
  {
   "cell_type": "markdown",
   "metadata": {},
   "source": [
    "### 1.4 生成随机数组\n",
    "#### 1.4.1 正态分布\n",
    "* **np.random.randn()**\n",
    "    * 从标准正态分布返回一个或多个样本值\n",
    "    * 标准正态分布：均值为0，标准差为1\n",
    "    \n",
    "    \n",
    "* **np.random.normal(loc,scale,size)**\n",
    "    * 正态分布，需要设置均值和标准差\n",
    "    * loc:均值,默认是0\n",
    "    * scale:标准差，默认是1\n",
    "    * size: 输出的shape"
   ]
  },
  {
   "cell_type": "code",
   "execution_count": 12,
   "metadata": {},
   "outputs": [
    {
     "data": {
      "text/plain": [
       "array([[ 0.26941133,  0.00656407,  0.23182072],\n",
       "       [-0.05322456, -1.55625794,  0.37521673]])"
      ]
     },
     "execution_count": 12,
     "metadata": {},
     "output_type": "execute_result"
    }
   ],
   "source": [
    "# 生成size为2x3的标准正态分布（均值为0，标准差为1）的样本值\n",
    "np.random.randn(2,3)"
   ]
  },
  {
   "cell_type": "code",
   "execution_count": 13,
   "metadata": {},
   "outputs": [
    {
     "data": {
      "text/plain": [
       "array([[ 3.46355039,  1.87510558,  2.2049303 ,  0.60734333],\n",
       "       [-0.06441742,  2.46174928,  2.14844333,  2.58349919]])"
      ]
     },
     "execution_count": 13,
     "metadata": {},
     "output_type": "execute_result"
    }
   ],
   "source": [
    "# 生成size为2x4的正态分布（均值为1.75，标准差为1）的样本值\n",
    "np.random.normal(loc=1.75, scale=1, size=(2,4))"
   ]
  },
  {
   "cell_type": "markdown",
   "metadata": {},
   "source": [
    "#### 1.4.2 均匀分布\n",
    "* **np.random.rand()**\n",
    "    * 返回[0-1]内的一组均匀分布的样本值\n",
    "    \n",
    "    \n",
    "* **np.random.randint(low,high=None,size=None)**\n",
    "    * 从一个均匀分布中随机采样，生成一个整数或N维整数数组\n",
    "    * 取数范围：若high不为None时，取[low,high)之间随机整数，否则取值[0,low)之间随机整数。\n",
    "    \n",
    "    \n",
    "* **np.random.uniform(low,high=None,size=None)**\n",
    "    * 从一个均匀分布[low,high)中随机采样，注意定义域是左闭右开，即包含low，不包含high。"
   ]
  },
  {
   "cell_type": "code",
   "execution_count": 14,
   "metadata": {},
   "outputs": [
    {
     "name": "stdout",
     "output_type": "stream",
     "text": [
      "0.8683383053618581\n",
      "[[0.39922496 0.94818025 0.16151047 0.60160386]\n",
      " [0.36553575 0.24755403 0.73500223 0.93663348]]\n"
     ]
    }
   ],
   "source": [
    "# 生成0-1之间的符合均匀分布的一个样本值\n",
    "print(np.random.rand())\n",
    "\n",
    "# 生成0-1之间的符合均匀分布的，size为2x4的一组样本值\n",
    "print(np.random.rand(2,4))"
   ]
  },
  {
   "cell_type": "code",
   "execution_count": 15,
   "metadata": {},
   "outputs": [
    {
     "data": {
      "text/plain": [
       "array([[1, 4, 3, 4],\n",
       "       [2, 2, 4, 2]])"
      ]
     },
     "execution_count": 15,
     "metadata": {},
     "output_type": "execute_result"
    }
   ],
   "source": [
    "# 生成[1,5)之间的符合均匀分布的size为2x4的一组整数值\n",
    "np.random.randint(low=1,high=5,size=(2,4))"
   ]
  },
  {
   "cell_type": "code",
   "execution_count": 16,
   "metadata": {},
   "outputs": [
    {
     "data": {
      "text/plain": [
       "array([[2.73045077, 2.21996652, 1.01187959, 1.28220952],\n",
       "       [4.94933638, 1.85995895, 1.82160906, 3.21127003]])"
      ]
     },
     "execution_count": 16,
     "metadata": {},
     "output_type": "execute_result"
    }
   ],
   "source": [
    "# 生成[1,5)之间的符合均匀分布的size为2x4的一组样本值\n",
    "np.random.uniform(low=1,high=5,size=(2,4))"
   ]
  },
  {
   "cell_type": "markdown",
   "metadata": {},
   "source": [
    "## 2 数组的索引和切片\n",
    "一维、二维、三维的数组如何索引？\n",
    "* 一维：直接进行索引,切片（类似于Python列表的索引切片）\n",
    "* 二维：对象[:,:] -- 先行后列\n",
    "* 三维：对象[:,:,:] -- 对应三个维度"
   ]
  },
  {
   "cell_type": "markdown",
   "metadata": {},
   "source": [
    "### 2.1 一维举例"
   ]
  },
  {
   "cell_type": "code",
   "execution_count": 17,
   "metadata": {},
   "outputs": [
    {
     "data": {
      "text/plain": [
       "array([0, 1, 2, 3, 4, 5, 6, 7, 8, 9])"
      ]
     },
     "execution_count": 17,
     "metadata": {},
     "output_type": "execute_result"
    }
   ],
   "source": [
    "# 生成一维数组\n",
    "a1 = np.arange(0,10)\n",
    "a1"
   ]
  },
  {
   "cell_type": "code",
   "execution_count": 18,
   "metadata": {},
   "outputs": [
    {
     "data": {
      "text/plain": [
       "2"
      ]
     },
     "execution_count": 18,
     "metadata": {},
     "output_type": "execute_result"
    }
   ],
   "source": [
    "# 索引：想要获取下标为2的元素\n",
    "a1[2]"
   ]
  },
  {
   "cell_type": "code",
   "execution_count": 19,
   "metadata": {},
   "outputs": [
    {
     "data": {
      "text/plain": [
       "array([2, 3, 4, 5])"
      ]
     },
     "execution_count": 19,
     "metadata": {},
     "output_type": "execute_result"
    }
   ],
   "source": [
    "# 切片：想要获取下标为2到5的元素\n",
    "a1[2:6]"
   ]
  },
  {
   "cell_type": "markdown",
   "metadata": {},
   "source": [
    "### 2.2 二维举例"
   ]
  },
  {
   "cell_type": "code",
   "execution_count": 20,
   "metadata": {},
   "outputs": [
    {
     "data": {
      "text/plain": [
       "array([[ 0,  1,  2,  3,  4,  5,  6,  7],\n",
       "       [ 8,  9, 10, 11, 12, 13, 14, 15],\n",
       "       [16, 17, 18, 19, 20, 21, 22, 23]])"
      ]
     },
     "execution_count": 20,
     "metadata": {},
     "output_type": "execute_result"
    }
   ],
   "source": [
    "# 生成一个3x8列的二维数组\n",
    "a2 = np.arange(0,24).reshape((3,8))\n",
    "a2"
   ]
  },
  {
   "cell_type": "code",
   "execution_count": 21,
   "metadata": {},
   "outputs": [
    {
     "data": {
      "text/plain": [
       "6"
      ]
     },
     "execution_count": 21,
     "metadata": {},
     "output_type": "execute_result"
    }
   ],
   "source": [
    "# 索引：想要获取第1行的第7个元素\n",
    "a2[0,6]"
   ]
  },
  {
   "cell_type": "code",
   "execution_count": 22,
   "metadata": {},
   "outputs": [
    {
     "data": {
      "text/plain": [
       "array([[ 0,  1,  2,  3,  4,  5],\n",
       "       [ 8,  9, 10, 11, 12, 13],\n",
       "       [16, 17, 18, 19, 20, 21]])"
      ]
     },
     "execution_count": 22,
     "metadata": {},
     "output_type": "execute_result"
    }
   ],
   "source": [
    "# 切片：想要所有行的第0-6列元素\n",
    "a2[:,0:6]"
   ]
  },
  {
   "cell_type": "markdown",
   "metadata": {},
   "source": [
    "### 2.3 三维举例"
   ]
  },
  {
   "cell_type": "code",
   "execution_count": 23,
   "metadata": {},
   "outputs": [
    {
     "data": {
      "text/plain": [
       "array([[[ 0,  1,  2,  3],\n",
       "        [ 4,  5,  6,  7],\n",
       "        [ 8,  9, 10, 11]],\n",
       "\n",
       "       [[12, 13, 14, 15],\n",
       "        [16, 17, 18, 19],\n",
       "        [20, 21, 22, 23]]])"
      ]
     },
     "execution_count": 23,
     "metadata": {},
     "output_type": "execute_result"
    }
   ],
   "source": [
    "# 生成一个2x3x4的三维数组\n",
    "a3 = np.arange(0,24).reshape(2,3,4)\n",
    "a3"
   ]
  },
  {
   "cell_type": "code",
   "execution_count": 24,
   "metadata": {},
   "outputs": [
    {
     "data": {
      "text/plain": [
       "0"
      ]
     },
     "execution_count": 24,
     "metadata": {},
     "output_type": "execute_result"
    }
   ],
   "source": [
    "# 索引：想要获取第一个维度的第0行的第0个元素\n",
    "a3[0,0,0]"
   ]
  },
  {
   "cell_type": "code",
   "execution_count": 25,
   "metadata": {},
   "outputs": [
    {
     "data": {
      "text/plain": [
       "array([[0, 1, 2],\n",
       "       [4, 5, 6]])"
      ]
     },
     "execution_count": 25,
     "metadata": {},
     "output_type": "execute_result"
    }
   ],
   "source": [
    "# 切片：想要获取第1个维度的前两行的第0至2列\n",
    "a3[0,:2,:3]"
   ]
  },
  {
   "cell_type": "markdown",
   "metadata": {},
   "source": [
    "## 3 数组形状修改\n",
    "* **ndarray.reshape(shape, order)**\n",
    "    * reshape是将数组转换成指定的形状，然后返回转换后的结果，对于原数组的形状是不会发生改变的  \n",
    "    \n",
    "    \n",
    "* **ndarray.resize(new_shape)**\n",
    "    * resize是将数组转换成指定的形状，会直接修改数组本身。并不会返回任何值。\n",
    "    \n",
    "    \n",
    "* **ndarray.T**\n",
    "    * 数组的转置"
   ]
  },
  {
   "cell_type": "code",
   "execution_count": 26,
   "metadata": {},
   "outputs": [
    {
     "data": {
      "text/plain": [
       "array([[4, 0, 3, 8],\n",
       "       [5, 4, 2, 3],\n",
       "       [3, 6, 2, 8]])"
      ]
     },
     "execution_count": 26,
     "metadata": {},
     "output_type": "execute_result"
    }
   ],
   "source": [
    "# 新建一个3x4的数组\n",
    "a = np.random.randint(0,10,size=(3,4))\n",
    "a"
   ]
  },
  {
   "cell_type": "code",
   "execution_count": 27,
   "metadata": {},
   "outputs": [
    {
     "name": "stdout",
     "output_type": "stream",
     "text": [
      "转换前的数组:[[4 0 3 8]\n",
      " [5 4 2 3]\n",
      " [3 6 2 8]]\n",
      "转换后的数组:[[4 0 3 8 5 4]\n",
      " [2 3 3 6 2 8]]\n"
     ]
    }
   ],
   "source": [
    "# 使用reshape进行修改数组形状\n",
    "a1 = a.reshape((2,6))\n",
    "print(\"转换前的数组:{}\".format(a))\n",
    "print(\"转换后的数组:{}\".format(a1))"
   ]
  },
  {
   "cell_type": "code",
   "execution_count": 28,
   "metadata": {},
   "outputs": [
    {
     "name": "stdout",
     "output_type": "stream",
     "text": [
      "[[4 0 3 8 5 4]\n",
      " [2 3 3 6 2 8]]\n",
      "None\n"
     ]
    }
   ],
   "source": [
    "# 使用resize进行修改数组形状,直接修改原数组a,没有返回值\n",
    "a.resize((2,6))\n",
    "print(a)\n",
    "print(a.resize((2,6)))"
   ]
  },
  {
   "cell_type": "code",
   "execution_count": 29,
   "metadata": {},
   "outputs": [
    {
     "name": "stdout",
     "output_type": "stream",
     "text": [
      "[[4 0 3 8 5 4]\n",
      " [2 3 3 6 2 8]]\n",
      "[[4 2]\n",
      " [0 3]\n",
      " [3 3]\n",
      " [8 6]\n",
      " [5 2]\n",
      " [4 8]]\n"
     ]
    }
   ],
   "source": [
    "# 使用.T进行数组的转置\n",
    "print(a)\n",
    "print(a.T)"
   ]
  },
  {
   "cell_type": "markdown",
   "metadata": {},
   "source": [
    "## 4 数组类型修改\n",
    "* **ndarray.astype(type)**\n",
    "    * 修改成指定数组类型\n",
    "    \n",
    "    \n",
    "* **ndarray.tostring([order])**\n",
    "    * 构建一个包含ndarray的原始字节数据的字节字符串"
   ]
  },
  {
   "cell_type": "code",
   "execution_count": 30,
   "metadata": {},
   "outputs": [
    {
     "name": "stdout",
     "output_type": "stream",
     "text": [
      "[[ 0  1  2  3  4  5  6  7]\n",
      " [ 8  9 10 11 12 13 14 15]\n",
      " [16 17 18 19 20 21 22 23]]\n",
      "int32\n"
     ]
    }
   ],
   "source": [
    "# 新建一个数组,检查其dtype\n",
    "a = np.arange(0,24).reshape(3,8)\n",
    "print(a)\n",
    "print(a.dtype)"
   ]
  },
  {
   "cell_type": "code",
   "execution_count": 31,
   "metadata": {},
   "outputs": [
    {
     "data": {
      "text/plain": [
       "array([[ 0,  1,  2,  3,  4,  5,  6,  7],\n",
       "       [ 8,  9, 10, 11, 12, 13, 14, 15],\n",
       "       [16, 17, 18, 19, 20, 21, 22, 23]], dtype=int8)"
      ]
     },
     "execution_count": 31,
     "metadata": {},
     "output_type": "execute_result"
    }
   ],
   "source": [
    "# 更改a的dtype，改为int8\n",
    "a1 = a.astype(np.int8)\n",
    "a1"
   ]
  },
  {
   "cell_type": "code",
   "execution_count": 32,
   "metadata": {},
   "outputs": [
    {
     "data": {
      "text/plain": [
       "b'\\x00\\x00\\x00\\x00\\x01\\x00\\x00\\x00\\x02\\x00\\x00\\x00\\x03\\x00\\x00\\x00\\x04\\x00\\x00\\x00\\x05\\x00\\x00\\x00\\x06\\x00\\x00\\x00\\x07\\x00\\x00\\x00\\x08\\x00\\x00\\x00\\t\\x00\\x00\\x00\\n\\x00\\x00\\x00\\x0b\\x00\\x00\\x00\\x0c\\x00\\x00\\x00\\r\\x00\\x00\\x00\\x0e\\x00\\x00\\x00\\x0f\\x00\\x00\\x00\\x10\\x00\\x00\\x00\\x11\\x00\\x00\\x00\\x12\\x00\\x00\\x00\\x13\\x00\\x00\\x00\\x14\\x00\\x00\\x00\\x15\\x00\\x00\\x00\\x16\\x00\\x00\\x00\\x17\\x00\\x00\\x00'"
      ]
     },
     "execution_count": 32,
     "metadata": {},
     "output_type": "execute_result"
    }
   ],
   "source": [
    "# 构造包含数组中原始数据字节的Python字节\n",
    "a.tostring()"
   ]
  },
  {
   "cell_type": "markdown",
   "metadata": {},
   "source": [
    "## 5 数组去重\n",
    "* np.unique()"
   ]
  },
  {
   "cell_type": "code",
   "execution_count": 33,
   "metadata": {},
   "outputs": [
    {
     "data": {
      "text/plain": [
       "array([1, 2, 3, 4, 5, 6])"
      ]
     },
     "execution_count": 33,
     "metadata": {},
     "output_type": "execute_result"
    }
   ],
   "source": [
    "# 新建一个由重复元素的数组\n",
    "temp = np.array([[1, 2, 3, 4],[3, 4, 5, 6]])\n",
    "\n",
    "# 检查数组里不重复的元素有哪些\n",
    "np.unique(temp)"
   ]
  },
  {
   "cell_type": "markdown",
   "metadata": {},
   "source": [
    "## 6 数组间的计算（广播机制）"
   ]
  },
  {
   "cell_type": "markdown",
   "metadata": {},
   "source": [
    "### 6.1 广播原则\n",
    "**如果两个数组的后缘维度（trailing dimension，即从末尾开始算起的维度）的轴长度相符或其中一方的长度为1，则认为他们是广播兼容的。广播会在缺失和（或）长度为1的维度上进行。** 看以下案例分析：\n",
    "* shape为(3,8,2)的数组能和(8,3)的数组进行运算吗？\n",
    "    * 分析：不能，因为按照广播原则，从后面往前面数，(3,8,2)和(8,3)中的2和3不相等，所以不能进行运算。 \n",
    "    \n",
    "    \n",
    "* shape为(3,8,2)的数组能和(8,1)的数组进行运算吗？\n",
    "    * 分析：能，因为按照广播原则，从后面往前面数，(3,8,2)和(8,1)中的2和1虽然不相等，但是因为有一方的长度为1，所以能参与运算。\n",
    "    \n",
    "    \n",
    "* shape为(3,1,8)的数组能和(8,1)的数组进行运算吗？\n",
    "    * 分析：能，因为按照广播原则，从后面往前面数，(3,1,4)和(8,1)中的4和1虽然不相等且1和8不相等，但是因为这两项中有一方的长度为1，所以能参与运算。\n"
   ]
  },
  {
   "cell_type": "markdown",
   "metadata": {},
   "source": [
    "### 6.2 数组与数的计算\n",
    "在Python列表中，想要对列表中所有的元素都加一个数，要么采用map函数，要么循环整个列表进行操作。但是NumPy因为**广播机制**的原因，**数组可以直接在数组上进行操作**。示例代码如下："
   ]
  },
  {
   "cell_type": "code",
   "execution_count": 34,
   "metadata": {},
   "outputs": [
    {
     "data": {
      "text/plain": [
       "array([0, 1, 2, 3, 4, 5, 6, 7])"
      ]
     },
     "execution_count": 34,
     "metadata": {},
     "output_type": "execute_result"
    }
   ],
   "source": [
    "# 新建一个数组\n",
    "a = np.arange(0,8)\n",
    "a"
   ]
  },
  {
   "cell_type": "code",
   "execution_count": 35,
   "metadata": {},
   "outputs": [
    {
     "data": {
      "text/plain": [
       "array([1, 2, 3, 4, 5, 6, 7, 8])"
      ]
     },
     "execution_count": 35,
     "metadata": {},
     "output_type": "execute_result"
    }
   ],
   "source": [
    "a + 1"
   ]
  },
  {
   "cell_type": "code",
   "execution_count": 36,
   "metadata": {},
   "outputs": [
    {
     "data": {
      "text/plain": [
       "array([ 0,  2,  4,  6,  8, 10, 12, 14])"
      ]
     },
     "execution_count": 36,
     "metadata": {},
     "output_type": "execute_result"
    }
   ],
   "source": [
    "a * 2"
   ]
  },
  {
   "cell_type": "markdown",
   "metadata": {},
   "source": [
    "### 6.3 数组与数组的计算\n",
    "根据**广播机制**的定义，不同数组之间的运算需要形状相同（或者其中一个维度为1，这样就会对这个维度进行扩展，使得两个数组形状变得相同）。示例代码如下："
   ]
  },
  {
   "cell_type": "code",
   "execution_count": 37,
   "metadata": {},
   "outputs": [
    {
     "name": "stdout",
     "output_type": "stream",
     "text": [
      "[[[8 5]\n",
      "  [5 2]]\n",
      "\n",
      " [[4 1]\n",
      "  [2 5]]\n",
      "\n",
      " [[1 7]\n",
      "  [4 3]]]\n",
      "[[16]\n",
      " [10]]\n"
     ]
    }
   ],
   "source": [
    "# 新建两个数组\n",
    "a1 = np.random.randint(1,10,size=(3,2,2))\n",
    "a2 = np.random.randint(10,20,size=(2,1))\n",
    "print(a1)\n",
    "print(a2)"
   ]
  },
  {
   "cell_type": "code",
   "execution_count": 38,
   "metadata": {},
   "outputs": [
    {
     "data": {
      "text/plain": [
       "array([[[24, 21],\n",
       "        [15, 12]],\n",
       "\n",
       "       [[20, 17],\n",
       "        [12, 15]],\n",
       "\n",
       "       [[17, 23],\n",
       "        [14, 13]]])"
      ]
     },
     "execution_count": 38,
     "metadata": {},
     "output_type": "execute_result"
    }
   ],
   "source": [
    "# 根据广播机制，是可以进行计算的\n",
    "a1 + a2"
   ]
  },
  {
   "cell_type": "code",
   "execution_count": 39,
   "metadata": {},
   "outputs": [
    {
     "name": "stdout",
     "output_type": "stream",
     "text": [
      "[[[9 3]\n",
      "  [7 1]]\n",
      "\n",
      " [[9 5]\n",
      "  [1 6]]\n",
      "\n",
      " [[6 9]\n",
      "  [5 8]]]\n",
      "[[14]\n",
      " [15]\n",
      " [18]]\n"
     ]
    }
   ],
   "source": [
    "# 新建两个数组\n",
    "a1 = np.random.randint(1,10,size=(3,2,2))\n",
    "a2 = np.random.randint(10,20,size=(3,1))\n",
    "print(a1)\n",
    "print(a2)"
   ]
  },
  {
   "cell_type": "code",
   "execution_count": 40,
   "metadata": {},
   "outputs": [],
   "source": [
    "# 根据广播机制，是不可以进行计算的\n",
    "# a1 + a2"
   ]
  },
  {
   "cell_type": "markdown",
   "metadata": {},
   "source": [
    "### 6.4 不同数组的组合\n",
    "如果有多个数组想要组合在一起，也可以通过一些函数来实现。\n",
    "* np.vstack: 将数组按垂直方向进行叠加。数组的列数必须相同才能叠加。\n",
    "\n",
    "\n",
    "* np.hstack:将数组按水平方向进行叠加。数组的行必须相同才能叠加。\n",
    "\n",
    "\n",
    "* **np.concatenate([],axis)**:将两个数组进行叠加，但是具体是按水平方向还是按垂直方向。则要看axis的参数，如果axis=0，那么代表的是往垂直方向（行）叠加，如果axis=1，那么代表的是往水平方向（列）上叠加，如果axis=None，那么会将两个数组组合成一个一维数组。需要注意的是，如果往水平方向上叠加，那么行必须相同，如果是往垂直方向叠加，那么列必须相同。示例代码如下："
   ]
  },
  {
   "cell_type": "code",
   "execution_count": 41,
   "metadata": {},
   "outputs": [],
   "source": [
    "# 新建两个数组\n",
    "a = np.array([[1,2],[3,4]]) # 2x2\n",
    "b = np.array([[5,6]]) # 1x2"
   ]
  },
  {
   "cell_type": "code",
   "execution_count": 42,
   "metadata": {},
   "outputs": [
    {
     "data": {
      "text/plain": [
       "array([[1, 2],\n",
       "       [3, 4],\n",
       "       [5, 6]])"
      ]
     },
     "execution_count": 42,
     "metadata": {},
     "output_type": "execute_result"
    }
   ],
   "source": [
    "# 按行进行叠加\n",
    "np.concatenate((a, b), axis=0)"
   ]
  },
  {
   "cell_type": "code",
   "execution_count": 43,
   "metadata": {},
   "outputs": [
    {
     "data": {
      "text/plain": [
       "array([[1, 2, 5],\n",
       "       [3, 4, 6]])"
      ]
     },
     "execution_count": 43,
     "metadata": {},
     "output_type": "execute_result"
    }
   ],
   "source": [
    "# 按列进行叠加\n",
    "np.concatenate((a, b.T), axis=1)"
   ]
  },
  {
   "cell_type": "code",
   "execution_count": 44,
   "metadata": {},
   "outputs": [
    {
     "data": {
      "text/plain": [
       "array([1, 2, 3, 4, 5, 6])"
      ]
     },
     "execution_count": 44,
     "metadata": {},
     "output_type": "execute_result"
    }
   ],
   "source": [
    "# 不设置axis，组合成一维数组\n",
    "np.concatenate((a, b), axis=None)"
   ]
  },
  {
   "cell_type": "markdown",
   "metadata": {},
   "source": [
    "### 6.5 数组的切割\n",
    "通过hsplit和vsplit以及array_split可以将一个数组进行切割。\n",
    "* np.hsplit:按照水平方向进行切割。\n",
    "\n",
    "\n",
    "* np.vsplit:按照垂直方向进行切割。\n",
    "\n",
    "\n",
    "* np.array_split:用于指定切割方式，axis=1代表按照列，axis=0代表按照行。"
   ]
  },
  {
   "cell_type": "markdown",
   "metadata": {},
   "source": [
    "#### 6.5.1 np.hsplit\n",
    "按照水平方向进行切割。用于指定**分割成几列**，可以使用数字来代表分成几部分，也可以使用数组来代表分割的地方。示例代码如下："
   ]
  },
  {
   "cell_type": "code",
   "execution_count": 45,
   "metadata": {},
   "outputs": [
    {
     "data": {
      "text/plain": [
       "array([[ 0.,  1.,  2.,  3.],\n",
       "       [ 4.,  5.,  6.,  7.],\n",
       "       [ 8.,  9., 10., 11.],\n",
       "       [12., 13., 14., 15.]])"
      ]
     },
     "execution_count": 45,
     "metadata": {},
     "output_type": "execute_result"
    }
   ],
   "source": [
    "# 新建一个数组\n",
    "a = np.arange(16.0).reshape(4, 4)\n",
    "a"
   ]
  },
  {
   "cell_type": "code",
   "execution_count": 46,
   "metadata": {},
   "outputs": [
    {
     "data": {
      "text/plain": [
       "[array([[ 0.,  1.],\n",
       "        [ 4.,  5.],\n",
       "        [ 8.,  9.],\n",
       "        [12., 13.]]),\n",
       " array([[ 2.,  3.],\n",
       "        [ 6.,  7.],\n",
       "        [10., 11.],\n",
       "        [14., 15.]])]"
      ]
     },
     "execution_count": 46,
     "metadata": {},
     "output_type": "execute_result"
    }
   ],
   "source": [
    "#使用hsplit，分割成两部分\n",
    "np.hsplit(a,2)"
   ]
  },
  {
   "cell_type": "code",
   "execution_count": 47,
   "metadata": {},
   "outputs": [
    {
     "data": {
      "text/plain": [
       "[array([[ 0.],\n",
       "        [ 4.],\n",
       "        [ 8.],\n",
       "        [12.]]),\n",
       " array([[ 1.],\n",
       "        [ 5.],\n",
       "        [ 9.],\n",
       "        [13.]]),\n",
       " array([[ 2.,  3.],\n",
       "        [ 6.,  7.],\n",
       "        [10., 11.],\n",
       "        [14., 15.]])]"
      ]
     },
     "execution_count": 47,
     "metadata": {},
     "output_type": "execute_result"
    }
   ],
   "source": [
    "# #代表在下标为1的地方切一刀，下标为2的地方切一刀，分成三部分\n",
    "np.hsplit(a,[1,2])"
   ]
  },
  {
   "cell_type": "markdown",
   "metadata": {},
   "source": [
    "#### 6.5.2 np.vsplit\n",
    "按照垂直方向进行切割。用于指定**分割成几行**，可以使用数字来代表分成几部分，也可以使用数组来代表分割的地方。示例代码如下："
   ]
  },
  {
   "cell_type": "code",
   "execution_count": 48,
   "metadata": {},
   "outputs": [
    {
     "data": {
      "text/plain": [
       "[array([[0., 1., 2., 3.],\n",
       "        [4., 5., 6., 7.]]),\n",
       " array([[ 8.,  9., 10., 11.],\n",
       "        [12., 13., 14., 15.]])]"
      ]
     },
     "execution_count": 48,
     "metadata": {},
     "output_type": "execute_result"
    }
   ],
   "source": [
    "#代表按照行总共分成2个数组\n",
    "np.vsplit(a,2) "
   ]
  },
  {
   "cell_type": "code",
   "execution_count": 49,
   "metadata": {},
   "outputs": [
    {
     "data": {
      "text/plain": [
       "[array([[0., 1., 2., 3.]]),\n",
       " array([[4., 5., 6., 7.]]),\n",
       " array([[ 8.,  9., 10., 11.],\n",
       "        [12., 13., 14., 15.]])]"
      ]
     },
     "execution_count": 49,
     "metadata": {},
     "output_type": "execute_result"
    }
   ],
   "source": [
    "#代表按照行进行划分，在下标为1的地方和下标为2的地方分割\n",
    "np.vsplit(a,(1,2))"
   ]
  },
  {
   "cell_type": "markdown",
   "metadata": {},
   "source": [
    "#### 6.5.3 np.array_split\n",
    "用于指定切割方式，在切割的时候需要指定是按照行还是按照列，axis=1代表按照列，axis=0代表按照行。示例代码如下："
   ]
  },
  {
   "cell_type": "code",
   "execution_count": 50,
   "metadata": {},
   "outputs": [
    {
     "data": {
      "text/plain": [
       "[array([[0., 1., 2., 3.],\n",
       "        [4., 5., 6., 7.]]),\n",
       " array([[ 8.,  9., 10., 11.],\n",
       "        [12., 13., 14., 15.]])]"
      ]
     },
     "execution_count": 50,
     "metadata": {},
     "output_type": "execute_result"
    }
   ],
   "source": [
    "#按照垂直方向切割成2部分\n",
    "np.array_split(a,2,axis=0)"
   ]
  }
 ],
 "metadata": {
  "kernelspec": {
   "display_name": "Python 3",
   "language": "python",
   "name": "python3"
  },
  "language_info": {
   "codemirror_mode": {
    "name": "ipython",
    "version": 3
   },
   "file_extension": ".py",
   "mimetype": "text/x-python",
   "name": "python",
   "nbconvert_exporter": "python",
   "pygments_lexer": "ipython3",
   "version": "3.7.6"
  },
  "toc": {
   "base_numbering": 1,
   "nav_menu": {},
   "number_sections": false,
   "sideBar": true,
   "skip_h1_title": false,
   "title_cell": "Table of Contents",
   "title_sidebar": "Contents",
   "toc_cell": false,
   "toc_position": {
    "height": "calc(100% - 180px)",
    "left": "10px",
    "top": "150px",
    "width": "330.994px"
   },
   "toc_section_display": true,
   "toc_window_display": true
  }
 },
 "nbformat": 4,
 "nbformat_minor": 4
}
