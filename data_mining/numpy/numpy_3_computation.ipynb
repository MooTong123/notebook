{
 "cells": [
  {
   "cell_type": "code",
   "execution_count": 1,
   "metadata": {},
   "outputs": [],
   "source": [
    "# 导入numpy库\n",
    "import numpy as np"
   ]
  },
  {
   "cell_type": "markdown",
   "metadata": {},
   "source": [
    "# ndarray运算\n",
    "\n",
    "* **1 逻辑运算-布尔索引**\n",
    "\n",
    "\n",
    "* **2 通用判断函数**\n",
    "    * np.all()\n",
    "    * np.any()\n",
    "\n",
    "\n",
    "* **3 np.where（三元运算符）**\n",
    "    * np.where()\n",
    "\n",
    "\n",
    "* **4 统计运算**\n",
    "    * np.max()\n",
    "    * np.min()\n",
    "    * ...\n",
    "    \n",
    "    \n",
    "* **5 数组排序**\n",
    "    * np.sort()\n",
    "    * np.argsort()"
   ]
  },
  {
   "cell_type": "markdown",
   "metadata": {},
   "source": [
    "## 1 逻辑运算-布尔索引\n",
    "如果想要操作符合某一条件的数据，应该怎么操作？\n",
    "\n",
    "假设现在有10名同学，5名功课的数据。现在想要筛选出前5名同学成绩小于60的数据，并设置为0分。"
   ]
  },
  {
   "cell_type": "code",
   "execution_count": 2,
   "metadata": {},
   "outputs": [
    {
     "data": {
      "text/plain": [
       "array([[53, 75, 99, 91, 63],\n",
       "       [58, 83, 67, 68, 69],\n",
       "       [92, 66, 62, 43, 47],\n",
       "       [74, 40, 66, 73, 47],\n",
       "       [96, 99, 95, 90, 43],\n",
       "       [86, 69, 86, 44, 51],\n",
       "       [63, 51, 95, 87, 64],\n",
       "       [88, 83, 76, 97, 57],\n",
       "       [61, 98, 66, 40, 81],\n",
       "       [74, 70, 51, 41, 73]])"
      ]
     },
     "execution_count": 2,
     "metadata": {},
     "output_type": "execute_result"
    }
   ],
   "source": [
    "# 生成10名同学5名功课的数据\n",
    "score = np.random.randint(40,100,(10,5))\n",
    "score"
   ]
  },
  {
   "cell_type": "code",
   "execution_count": 3,
   "metadata": {},
   "outputs": [
    {
     "data": {
      "text/plain": [
       "array([[ True, False, False, False, False],\n",
       "       [ True, False, False, False, False],\n",
       "       [False, False, False,  True,  True],\n",
       "       [False,  True, False, False,  True],\n",
       "       [False, False, False, False,  True]])"
      ]
     },
     "execution_count": 3,
     "metadata": {},
     "output_type": "execute_result"
    }
   ],
   "source": [
    "# 提取前5名同学的成绩\n",
    "test_score = score[:5,:]\n",
    "\n",
    "# 逻辑判断\n",
    "test_score < 60"
   ]
  },
  {
   "cell_type": "code",
   "execution_count": 4,
   "metadata": {},
   "outputs": [
    {
     "data": {
      "text/plain": [
       "array([[ 0, 75, 99, 91, 63],\n",
       "       [ 0, 83, 67, 68, 69],\n",
       "       [92, 66, 62,  0,  0],\n",
       "       [74,  0, 66, 73,  0],\n",
       "       [96, 99, 95, 90,  0]])"
      ]
     },
     "execution_count": 4,
     "metadata": {},
     "output_type": "execute_result"
    }
   ],
   "source": [
    "# 布尔索引：将满足条件的值设置为0\n",
    "test_score[test_score < 60] = 0\n",
    "test_score"
   ]
  },
  {
   "cell_type": "markdown",
   "metadata": {},
   "source": [
    "## 2 通用判断函数\n",
    "* np.all；验证任何一个元素是否都符合条件\n",
    "* np.any：验证是否有一个元素符合条件"
   ]
  },
  {
   "cell_type": "code",
   "execution_count": 5,
   "metadata": {},
   "outputs": [
    {
     "data": {
      "text/plain": [
       "False"
      ]
     },
     "execution_count": 5,
     "metadata": {},
     "output_type": "execute_result"
    }
   ],
   "source": [
    "# 检验数组score里面的值是否都大于60\n",
    "np.all(score > 60)"
   ]
  },
  {
   "cell_type": "code",
   "execution_count": 6,
   "metadata": {},
   "outputs": [
    {
     "data": {
      "text/plain": [
       "True"
      ]
     },
     "execution_count": 6,
     "metadata": {},
     "output_type": "execute_result"
    }
   ],
   "source": [
    "# 检验数组score里面的值是否有小于60的值\n",
    "np.any(score < 60)"
   ]
  },
  {
   "cell_type": "markdown",
   "metadata": {},
   "source": [
    "## 3 np.where（三元运算符）\n",
    "通过使用np.where能够进行更加复杂的运算\n",
    "* np.where(condition,[x, y])"
   ]
  },
  {
   "cell_type": "code",
   "execution_count": 7,
   "metadata": {},
   "outputs": [
    {
     "data": {
      "text/plain": [
       "array([[ 0, 75, 99, 91],\n",
       "       [ 0, 83, 67, 68],\n",
       "       [92, 66, 62,  0],\n",
       "       [74,  0, 66, 73],\n",
       "       [96, 99, 95, 90]])"
      ]
     },
     "execution_count": 7,
     "metadata": {},
     "output_type": "execute_result"
    }
   ],
   "source": [
    "# 判断前5名同学的前4门课程中，成绩中大于60的设为1，否则设为0\n",
    "temp_score = score[:5, :4]\n",
    "temp_score"
   ]
  },
  {
   "cell_type": "code",
   "execution_count": 8,
   "metadata": {},
   "outputs": [
    {
     "data": {
      "text/plain": [
       "array([[0, 1, 1, 1],\n",
       "       [0, 1, 1, 1],\n",
       "       [1, 1, 1, 0],\n",
       "       [1, 0, 1, 1],\n",
       "       [1, 1, 1, 1]])"
      ]
     },
     "execution_count": 8,
     "metadata": {},
     "output_type": "execute_result"
    }
   ],
   "source": [
    "# 成绩中大于60的设为1，否则设为0\n",
    "np.where(temp_score > 60, 1, 0)"
   ]
  },
  {
   "cell_type": "markdown",
   "metadata": {},
   "source": [
    "## 4 统计运算\n",
    "统计指标也是我们分析问题的一种方式,常见的指标如下：\n",
    "\n",
    "|  函数名称   | 描述  |\n",
    "| :-----:| :----: |\n",
    "| np.min|计算元素的最小值| \n",
    "| np.max|计算元素的最大值|   \n",
    "| np.median|计算元素的中位数|   \n",
    "|np.mean|计算元素的均值|   \n",
    "| np.std|计算元素的标准差|    \n",
    "| np.var|计算元素的方差|\n",
    "| np.sum|计算元素的和|\n",
    "| np.prod|计算元素的积|\n",
    "| np.argmin|找出最小值的索引|\n",
    "| np.argmax|找出最大值的索引|\n",
    "\n",
    "* 注意：里面的参数都有axis指定行或列，详细的axis解释在后文有详细说明，若是在搞不清楚，axis=0或axis=1都试试即可。"
   ]
  },
  {
   "cell_type": "markdown",
   "metadata": {},
   "source": [
    "## 5 数组排序\n",
    "* np.sort():指定轴进行排序。默认是使用数组的最后一个轴进行排序。\n",
    "\n",
    "\n",
    "* np.argsort():返回排序后的下标值。"
   ]
  },
  {
   "cell_type": "code",
   "execution_count": 9,
   "metadata": {},
   "outputs": [
    {
     "data": {
      "text/plain": [
       "array([[9, 0, 1, 1, 7],\n",
       "       [3, 4, 2, 6, 3],\n",
       "       [9, 2, 7, 3, 5]])"
      ]
     },
     "execution_count": 9,
     "metadata": {},
     "output_type": "execute_result"
    }
   ],
   "source": [
    "# 新建一个数组\n",
    "a = np.random.randint(0,10,size=(3,5))\n",
    "a"
   ]
  },
  {
   "cell_type": "code",
   "execution_count": 10,
   "metadata": {},
   "outputs": [
    {
     "data": {
      "text/plain": [
       "array([[0, 1, 1, 7, 9],\n",
       "       [2, 3, 3, 4, 6],\n",
       "       [2, 3, 5, 7, 9]])"
      ]
     },
     "execution_count": 10,
     "metadata": {},
     "output_type": "execute_result"
    }
   ],
   "source": [
    "# 轴的顺序为[0,1],np.sort默认是按照最后一个轴进行排序\n",
    "# 因为最后一个轴是1，所以就是将最里面的元素进行排序\n",
    "b = np.sort(a)\n",
    "b"
   ]
  },
  {
   "cell_type": "code",
   "execution_count": 11,
   "metadata": {},
   "outputs": [
    {
     "data": {
      "text/plain": [
       "array([[3, 0, 1, 1, 3],\n",
       "       [9, 2, 2, 3, 5],\n",
       "       [9, 4, 7, 6, 7]])"
      ]
     },
     "execution_count": 11,
     "metadata": {},
     "output_type": "execute_result"
    }
   ],
   "source": [
    "# axis=0，表示跨行进行排序，即对每一列的值进行排序\n",
    "c = np.sort(a,axis=0)\n",
    "c"
   ]
  }
 ],
 "metadata": {
  "kernelspec": {
   "display_name": "Python 3",
   "language": "python",
   "name": "python3"
  },
  "language_info": {
   "codemirror_mode": {
    "name": "ipython",
    "version": 3
   },
   "file_extension": ".py",
   "mimetype": "text/x-python",
   "name": "python",
   "nbconvert_exporter": "python",
   "pygments_lexer": "ipython3",
   "version": "3.7.6"
  },
  "toc": {
   "base_numbering": 1,
   "nav_menu": {},
   "number_sections": false,
   "sideBar": true,
   "skip_h1_title": false,
   "title_cell": "Table of Contents",
   "title_sidebar": "Contents",
   "toc_cell": false,
   "toc_position": {
    "height": "calc(100% - 180px)",
    "left": "10px",
    "top": "150px",
    "width": "215px"
   },
   "toc_section_display": true,
   "toc_window_display": true
  }
 },
 "nbformat": 4,
 "nbformat_minor": 4
}
