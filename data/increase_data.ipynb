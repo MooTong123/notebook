{
 "cells": [
  {
   "cell_type": "code",
   "execution_count": 14,
   "id": "fb3676c8-aec3-4b83-a426-2544ca65edd9",
   "metadata": {
    "tags": []
   },
   "outputs": [
    {
     "name": "stdout",
     "output_type": "stream",
     "text": [
      "7983120\n"
     ]
    }
   ],
   "source": [
    "import pandas as pd\n",
    "import numpy as np\n",
    "\n",
    "# 读取原始的diamonds数据集\n",
    "original_data = pd.read_csv('diamonds.csv')\n",
    "\n",
    "# 计算原始数据集的行数和大小\n",
    "original_rows = len(original_data)\n",
    "\n",
    "# 计算需要生成的行数\n",
    "target_rows = int(original_rows * 148) # 1000MB\n",
    "print(target_rows)\n",
    "\n",
    "# 随机生成数据来填充数据集\n",
    "random_data = pd.DataFrame({\n",
    "    'carat': np.random.uniform(original_data['carat'].min(), original_data['carat'].max(), target_rows),\n",
    "    'cut': np.random.choice(original_data['cut'], target_rows),\n",
    "    'color': np.random.choice(original_data['color'], target_rows),\n",
    "    'clarity': np.random.choice(original_data['clarity'], target_rows),\n",
    "    'depth': np.random.uniform(original_data['depth'].min(), original_data['depth'].max(), target_rows),\n",
    "    'table': np.random.uniform(original_data['table'].min(), original_data['table'].max(), target_rows),\n",
    "    'price': np.random.randint(original_data['price'].min(), original_data['price'].max(), size=target_rows),\n",
    "    'x': np.random.uniform(original_data['x'].min(), original_data['x'].max(), target_rows),\n",
    "    'y': np.random.uniform(original_data['y'].min(), original_data['y'].max(), target_rows),\n",
    "    'z': np.random.uniform(original_data['z'].min(), original_data['z'].max(), target_rows)\n",
    "})\n",
    "\n",
    "# 保存生成的数据集\n",
    "random_data.to_csv('expanded_diamonds_1000mb.csv', index=False)"
   ]
  },
  {
   "cell_type": "code",
   "execution_count": null,
   "id": "6dc5bc72-ef32-4b12-9b73-e4a350b4b59b",
   "metadata": {},
   "outputs": [],
   "source": []
  }
 ],
 "metadata": {
  "kernelspec": {
   "display_name": "Python 3 (ipykernel)",
   "language": "python",
   "name": "python3"
  },
  "language_info": {
   "codemirror_mode": {
    "name": "ipython",
    "version": 3
   },
   "file_extension": ".py",
   "mimetype": "text/x-python",
   "name": "python",
   "nbconvert_exporter": "python",
   "pygments_lexer": "ipython3",
   "version": "3.8.16"
  }
 },
 "nbformat": 4,
 "nbformat_minor": 5
}
